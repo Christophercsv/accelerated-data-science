{
 "cells": [
  {
   "cell_type": "raw",
   "id": "ad43bfac",
   "metadata": {},
   "source": [
    "@notebook{feature_store-querying.ipynb,\n",
    "    title: Using feature store for feature querying using pandas like interface for query and join,\n",
    "    summary: Feature store quickstart guide to perform feature querying using pandas like interface for query and join.,\n",
    "    developed_on: fs_pyspark32_p38_cpu_v1,\n",
    "    keywords: feature store, querying,\n",
    "    license: Universal Permissive License v 1.0\n",
    "}"
   ]
  },
  {
   "cell_type": "code",
   "execution_count": 1,
   "id": "31964aa7",
   "metadata": {},
   "outputs": [],
   "source": [
    "# Upgrade Oracle ADS to pick up the latest preview version to maintain compatibility with Oracle Cloud Infrastructure.\n",
    "\n",
    "!odsc conda install --uri https://objectstorage.us-ashburn-1.oraclecloud.com/p/qnzzHQPGQYghdyH206yDk25MZH1FaMGdNNhKUl74BhRsW4muvFyGViKIqpxgnxI3/n/ociodscdev/b/ads_conda_pack_builds/o/PySpark_3/teamcity_20230512_084146_38972446/f227145b7ee5fc1c73a69ebaa671b81e/PySpark_3.2_and_Feature_Store.tar.gz"
   ]
  },
  {
   "cell_type": "markdown",
   "id": "d752b32e",
   "metadata": {},
   "source": [
    "Oracle Data Science service sample notebook.\n",
    "\n",
    "Copyright (c) 2022 Oracle, Inc. All rights reserved. Licensed under the [Universal Permissive License v 1.0](https://oss.oracle.com/licenses/upl).\n",
    "\n",
    "***\n",
    "\n",
    "# <font color=\"red\">Feature store handling querying operations</font>\n",
    "<p style=\"margin-left:10%; margin-right:10%;\">by the <font color=\"teal\">Oracle Cloud Infrastructure Data Science Service.</font></p>\n",
    "\n",
    "---\n",
    "# Overview:\n",
    "---\n",
    "Managing many datasets, data-sources and transformations for machine learning is complex and costly. Poorly cleaned data, data issues, bugs in transformations, data drift and training serving skew all leads to increased model development time and worse model performance. Here, feature store is well positioned to solve many of the problems since it provides a centralised way to transform and access data for training and serving time and helps defines a standardised pipeline for ingestion of data and querying of data. This notebook demonstrates how to use feature store within a long lasting [Oracle Cloud Infrastructure Data Flow](https://docs.oracle.com/en-us/iaas/data-flow/using/home.htm) cluster.\n",
    "\n",
    "Compatible conda pack: [PySpark 3.2 and Feature store](https://docs.oracle.com/iaas/data-science/using/conda-pyspark-fam.htm) for CPU on Python 3.8\n",
    "\n",
    "## Contents:\n",
    "\n",
    "- <a href=\"#concepts\">1. Introduction</a>\n",
    "- <a href='#pre-requisites'>1. Pre-requisites</a>\n",
    "    - <a href='#policies'>2.1 Policies</a>\n",
    "    - <a href='#prerequisites_authentication'>2.2 Authentication</a>\n",
    "    - <a href='#prerequisites_variables'>2.3 Variables</a>\n",
    "- <a href='#featurestore_querying'>3. Feature store querying</a>\n",
    "    - <a href='#data_exploration'>3.1. Exploration of data in feature store</a>\n",
    "    - <a href='#load_featuregroup'>3.2. Load feature groups</a>\n",
    "    - <a href='#explore_featuregroup'>3.3. Explore feature groups</a>\n",
    "    - <a href='#select_subset_featuregroup'>3.4. Select subset of features</a>\n",
    "    - <a href='#filter_featuregroup'>3.5. Filter feature groups</a>\n",
    "    - <a href='#join_featuregroup'>3.6. Apply joins on feature group</a>\n",
    "    - <a href='#create_dataset'>3.7. Create dataset from multiple or one feature group</a>\n",
    "    - <a href='#sql_query'>3.8 Free form sql query</a>\n",
    "- <a href='#ref'>4. References</a>\n",
    "\n",
    "---\n",
    "\n",
    "**Important:**\n",
    "\n",
    "Placeholder text for required values are surrounded by angle brackets that must be removed when adding the indicated content. For example, when adding a database name to `database_name = \"<database_name>\"` would become `database_name = \"production\"`.\n",
    "\n",
    "---"
   ]
  },
  {
   "cell_type": "markdown",
   "id": "b4278249",
   "metadata": {},
   "source": [
    "<a id=\"concepts\"></a>\n",
    "# 1. Introduction\n",
    "\n",
    "Oracle feature store is a stack based solution that is deployed in the customer enclave using OCI resource manager. Customer can stand up the service with infrastructure in their own tenancy. The service consists of API which are deployed in customer tenancy using resource manager.\n",
    "\n",
    "The following are some key terms that will help you understand OCI Data Science Feature Store:\n",
    "\n",
    "\n",
    "* **Feature Vector**: Set of feature values for any one primary/identifier key. Eg.  All/subset of  features of customer id '2536' can be called as one feature vector.\n",
    "* **Feature**: A feature is an individual measurable property or characteristic of a phenomenon being observed.\n",
    "* **Entity**: An entity is a group of semantically related features.\n",
    "* **Datasource**: Features are engineered from raw data stored in various data sources (e.g. object storage, Oracle Database, Oracle MySQL, etc).\n",
    "* **Feature Group** - A feature group is an object that represents a logical group of time-series feature data as it is found in a datasource.\n",
    "* **Dataset**: Datasets are created from features stored in the feature store service and are used to train models and to perform online model inference."
   ]
  },
  {
   "cell_type": "markdown",
   "id": "9a288166",
   "metadata": {},
   "source": [
    "<a id='pre-requisites'></a>\n",
    "# 2. Pre-requisites\n",
    "\n",
    "Data Flow Sessions are accessible through the following conda environment:\n",
    "\n",
    "* **PySpark 3.2, Feature store 1.0 and Data Flow 1.0 (fs_pyspark32_p38_cpu_v1)**\n",
    "\n",
    "The [Data Catalog Hive Metastore](https://docs.oracle.com/en-us/iaas/data-catalog/using/metastore.htm) provides schema definitions for objects in structured and unstructured data assets. The Metastore is the central metadata repository to understand tables backed by files on object storage. You can customize `fs_pyspark32_p38_cpu_v1`, publish it, and use it as a runtime environment for a Data Flow session cluster. The metastore id of hive metastore is tied to feature store construct of feature store service."
   ]
  },
  {
   "cell_type": "markdown",
   "id": "fb214725",
   "metadata": {},
   "source": [
    "<a id='setup_spark-defaults'></a>\n",
    "### `spark-defaults.conf`\n",
    "\n",
    "The `spark-defaults.conf` file is used to define the properties that are used by Spark. A templated version is installed when you install a Data Science conda environment that supports PySpark. However, you must update the template so that the Data Catalog metastore can be accessed. You can do this manually. However, the `odsc data-catalog config` commandline tool is ideal for setting up the file because it gathers information about your environment, and uses that to build the file.\n",
    "\n",
    "The `odsc data-catalog config` command line tool needs the `--metastore` option to define the Data Catalog metastore OCID. No other command line option is needed because settings have default values, or they take values from your notebook session environment. Following are common parameters that you may need to override.\n",
    "\n",
    "The `--authentication` option sets the authentication mode. It supports resource principal and API keys. The preferred method for authentication is resource principal, which is sent with `--authentication resource_principal`. If you want to use API keys, then use the `--authentication api_key` option. If the `--authentication` isn't specified, API keys are used. When API keys are used, information from the OCI configuration file is used to create the `spark-defaults.conf` file.\n",
    "\n",
    "Object Storage and Data Catalog are regional services. By default, the region is set to the region your notebook session is running in. This information is taken from the environment variable, `NB_REGION`. Use the `--region` option to override this behavior.\n",
    "\n",
    "The default location of the `spark-defaults.conf` file is `/home/datascience/spark_conf_dir` as defined in the `SPARK_CONF_DIR` environment variable. Use the `--output` option to define the directory where to write the file.\n",
    "\n",
    "You need to determine what settings are appropriate for your configuration. However, the following works for most configurations and is run in a terminal window.\n",
    "\n",
    "```bash\n",
    "odsc data-catalog config --authentication resource_principal --metastore <metastore_id>\n",
    "```\n",
    "For more assistance, use the following command in a terminal window:\n",
    "\n",
    "```bash\n",
    "odsc data-catalog config --help\n",
    "```\n",
    "\n",
    "<a id='setup_session'></a>\n",
    "### Session Setup\n",
    "\n",
    "The notebook makes connections to the Data Catalog metastore and Object Storage. In the next cell, specify the bucket URI to act as the data warehouse. Use the `warehouse_uri` variable with the `oci://<bucket_name>@<namespace_name>/<key>` format. Update the variable `metastore_id` with the OCID of the Data Catalog metastore."
   ]
  },
  {
   "cell_type": "markdown",
   "id": "ad609733",
   "metadata": {},
   "source": [
    "<a id='policies'></a>\n",
    "### 2.1. Policies\n",
    "This section covers the creation of dynamic groups and policies needed to use the service.\n",
    "\n",
    "* [Data Flow Policies](https://docs.oracle.com/iaas/data-flow/using/policies.htm/)\n",
    "* [Data Catalog Metastore Required Policies](https://docs.oracle.com/en-us/iaas/data-catalog/using/metastore.htm)\n",
    "* [Getting Started with Data Flow](https://docs.oracle.com/iaas/data-flow/using/dfs_getting_started.htm)\n",
    "* [About Data Science Policies](https://docs.oracle.com/iaas/data-science/using/policies.htm)"
   ]
  },
  {
   "cell_type": "markdown",
   "id": "720b64a2",
   "metadata": {},
   "source": [
    "<a id=\"prerequisites_authentication\"></a>\n",
    "### 2.2. Authentication\n",
    "The [Oracle Accelerated Data Science SDK (ADS)](https://docs.oracle.com/iaas/tools/ads-sdk/latest/index.html) controls the authentication mechanism with the notebook cluster.<br>\n",
    "To setup authentication use the ```ads.set_auth(\"resource_principal\")``` or ```ads.set_auth(\"api_key\")```."
   ]
  },
  {
   "cell_type": "code",
   "execution_count": 1,
   "id": "d656d7f0",
   "metadata": {},
   "outputs": [],
   "source": [
    "import ads\n",
    "ads.set_auth(auth=\"api_key\", client_kwargs={\"service_endpoint\": \"http://{api_gateway_url}/20230101\"})"
   ]
  },
  {
   "cell_type": "markdown",
   "id": "565f3b60",
   "metadata": {},
   "source": [
    "<a id=\"prerequisites_variables\"></a>\n",
    "### 2.3. Variables\n",
    "To run this notebook, you must provide some information about your tenancy configuration. To create and run a feature store, you must specify a `<compartment_id>` and bucket `<metastore_id>` for offline feature store."
   ]
  },
  {
   "cell_type": "code",
   "execution_count": 2,
   "id": "c4a35bff",
   "metadata": {},
   "outputs": [],
   "source": [
    "import os\n",
    "\n",
    "compartment_id = os.environ.get(\"NB_SESSION_COMPARTMENT_OCID\")\n",
    "metastore_id = \"<metastore_id>\""
   ]
  },
  {
   "cell_type": "markdown",
   "id": "4ae71fd5",
   "metadata": {},
   "source": [
    "<a id=\"featurestore_querying\"></a>\n",
    "# 3. Feature group querying\n",
    "By default the **PySpark 3.2, Feature store and Data Flow** conda environment includes pre-installed [great-expectations](https://legacy.docs.greatexpectations.io/en/latest/reference/core_concepts/validation.html) and [deeque](https://github.com/awslabs/deequ) libraries. The joining functionality is heavily inspired by the APIs used by Pandas to merge, join or filter DataFrames. The APIs allow you to specify which features to select from which feature group, how to join them and which features to use in join conditions."
   ]
  },
  {
   "cell_type": "code",
   "execution_count": 4,
   "id": "c7a590c9",
   "metadata": {},
   "outputs": [
    {
     "name": "stdout",
     "output_type": "stream",
     "text": [
      "WARNING:py.warnings:/Users/kshitizlohia/IdeaProjects/oracle/feature-store/advanced-ds/venv/lib/python3.10/site-packages/pyspark/sql/pandas/utils.py:37: DeprecationWarning: distutils Version classes are deprecated. Use packaging.version instead.\n",
      "  if LooseVersion(pandas.__version__) < LooseVersion(minimum_pandas_version):\n",
      "\n",
      "WARNING:py.warnings:/Users/kshitizlohia/IdeaProjects/oracle/feature-store/advanced-ds/venv/lib/python3.10/site-packages/pyspark/sql/pandas/utils.py:64: DeprecationWarning: distutils Version classes are deprecated. Use packaging.version instead.\n",
      "  if LooseVersion(pyarrow.__version__) < LooseVersion(minimum_pyarrow_version):\n",
      "\n",
      "WARNING:py.warnings:/Users/kshitizlohia/IdeaProjects/oracle/feature-store/advanced-ds/venv/lib/python3.10/site-packages/pyspark/pandas/__init__.py:46: DeprecationWarning: distutils Version classes are deprecated. Use packaging.version instead.\n",
      "  LooseVersion(pyarrow.__version__) >= LooseVersion(\"2.0.0\")\n",
      "\n",
      "WARNING:py.warnings:/Users/kshitizlohia/IdeaProjects/oracle/feature-store/advanced-ds/venv/lib/python3.10/site-packages/pyspark/pandas/__init__.py:49: UserWarning: 'PYARROW_IGNORE_TIMEZONE' environment variable was not set. It is required to set this environment variable to '1' in both driver and executor sides if you use pyarrow>=2.0.0. pandas-on-Spark will set it for you but it does not work if there is a Spark context already launched.\n",
      "  warnings.warn(\n",
      "\n",
      "WARNING:py.warnings:/Users/kshitizlohia/IdeaProjects/oracle/feature-store/advanced-ds/venv/lib/python3.10/site-packages/pyspark/pandas/groupby.py:49: DeprecationWarning: distutils Version classes are deprecated. Use packaging.version instead.\n",
      "  if LooseVersion(pd.__version__) >= LooseVersion(\"1.3.0\"):\n",
      "\n",
      "ERROR:logger:Please set env variable SPARK_VERSION\n",
      "INFO:logger:Using deequ: com.amazon.deequ:deequ:1.2.2-spark-3.0\n"
     ]
    }
   ],
   "source": [
    "import warnings\n",
    "warnings.filterwarnings(\"ignore\", message=\"iteritems is deprecated\")\n",
    "import pandas as pd\n",
    "from ads.feature_store.feature_store import FeatureStore\n",
    "from ads.feature_store.feature_group import FeatureGroup\n",
    "from ads.feature_store.dataset import Dataset\n",
    "from ads.feature_store.common.enums import DatasetIngestionMode\n",
    "import warnings\n",
    "warnings.filterwarnings(\"ignore\", category=DeprecationWarning)"
   ]
  },
  {
   "cell_type": "markdown",
   "id": "5b14c3cf",
   "metadata": {},
   "source": [
    "<a id=\"data_exploration\"></a>\n",
    "### 3.1. Exploration of data in feature store"
   ]
  },
  {
   "cell_type": "code",
   "execution_count": 25,
   "id": "2f2d36c0",
   "metadata": {
    "pycharm": {
     "is_executing": true
    }
   },
   "outputs": [
    {
     "name": "stdout",
     "output_type": "stream",
     "text": [
      "WARNING:py.warnings:/var/folders/pg/zfq6crsd7kdd3qw8txc6c1h00000gn/T/ipykernel_4841/48554976.py:1: DtypeWarning: Columns (7,8) have mixed types. Specify dtype option on import or set low_memory=False.\n",
      "  flights_df = pd.read_csv(\"~/Downloads/flights.csv\")[['YEAR', 'MONTH', 'DAY', 'DAY_OF_WEEK', 'AIRLINE', 'FLIGHT_NUMBER', 'ORIGIN_AIRPORT', 'DESTINATION_AIRPORT']]\n",
      "\n"
     ]
    },
    {
     "data": {
      "text/html": [
       "<div>\n",
       "<style scoped>\n",
       "    .dataframe tbody tr th:only-of-type {\n",
       "        vertical-align: middle;\n",
       "    }\n",
       "\n",
       "    .dataframe tbody tr th {\n",
       "        vertical-align: top;\n",
       "    }\n",
       "\n",
       "    .dataframe thead th {\n",
       "        text-align: right;\n",
       "    }\n",
       "</style>\n",
       "<table border=\"1\" class=\"dataframe\">\n",
       "  <thead>\n",
       "    <tr style=\"text-align: right;\">\n",
       "      <th></th>\n",
       "      <th>YEAR</th>\n",
       "      <th>MONTH</th>\n",
       "      <th>DAY</th>\n",
       "      <th>DAY_OF_WEEK</th>\n",
       "      <th>AIRLINE</th>\n",
       "      <th>FLIGHT_NUMBER</th>\n",
       "      <th>ORIGIN_AIRPORT</th>\n",
       "      <th>DESTINATION_AIRPORT</th>\n",
       "    </tr>\n",
       "  </thead>\n",
       "  <tbody>\n",
       "    <tr>\n",
       "      <th>0</th>\n",
       "      <td>2015</td>\n",
       "      <td>1</td>\n",
       "      <td>1</td>\n",
       "      <td>4</td>\n",
       "      <td>AS</td>\n",
       "      <td>98</td>\n",
       "      <td>ANC</td>\n",
       "      <td>SEA</td>\n",
       "    </tr>\n",
       "    <tr>\n",
       "      <th>1</th>\n",
       "      <td>2015</td>\n",
       "      <td>1</td>\n",
       "      <td>1</td>\n",
       "      <td>4</td>\n",
       "      <td>AA</td>\n",
       "      <td>2336</td>\n",
       "      <td>LAX</td>\n",
       "      <td>PBI</td>\n",
       "    </tr>\n",
       "    <tr>\n",
       "      <th>2</th>\n",
       "      <td>2015</td>\n",
       "      <td>1</td>\n",
       "      <td>1</td>\n",
       "      <td>4</td>\n",
       "      <td>US</td>\n",
       "      <td>840</td>\n",
       "      <td>SFO</td>\n",
       "      <td>CLT</td>\n",
       "    </tr>\n",
       "    <tr>\n",
       "      <th>3</th>\n",
       "      <td>2015</td>\n",
       "      <td>1</td>\n",
       "      <td>1</td>\n",
       "      <td>4</td>\n",
       "      <td>AA</td>\n",
       "      <td>258</td>\n",
       "      <td>LAX</td>\n",
       "      <td>MIA</td>\n",
       "    </tr>\n",
       "    <tr>\n",
       "      <th>4</th>\n",
       "      <td>2015</td>\n",
       "      <td>1</td>\n",
       "      <td>1</td>\n",
       "      <td>4</td>\n",
       "      <td>AS</td>\n",
       "      <td>135</td>\n",
       "      <td>SEA</td>\n",
       "      <td>ANC</td>\n",
       "    </tr>\n",
       "  </tbody>\n",
       "</table>\n",
       "</div>"
      ],
      "text/plain": [
       "   YEAR  MONTH  DAY  DAY_OF_WEEK AIRLINE  FLIGHT_NUMBER ORIGIN_AIRPORT  \\\n",
       "0  2015      1    1            4      AS             98            ANC   \n",
       "1  2015      1    1            4      AA           2336            LAX   \n",
       "2  2015      1    1            4      US            840            SFO   \n",
       "3  2015      1    1            4      AA            258            LAX   \n",
       "4  2015      1    1            4      AS            135            SEA   \n",
       "\n",
       "  DESTINATION_AIRPORT  \n",
       "0                 SEA  \n",
       "1                 PBI  \n",
       "2                 CLT  \n",
       "3                 MIA  \n",
       "4                 ANC  "
      ]
     },
     "execution_count": 25,
     "metadata": {},
     "output_type": "execute_result"
    }
   ],
   "source": [
    "flights_df = pd.read_csv(\"/data/flights-data/archives/flights.csv\")[['YEAR', 'MONTH', 'DAY', 'DAY_OF_WEEK', 'AIRLINE', 'FLIGHT_NUMBER', 'ORIGIN_AIRPORT', 'DESTINATION_AIRPORT']]\n",
    "flights_df.head()"
   ]
  },
  {
   "cell_type": "code",
   "execution_count": 6,
   "id": "8351d39d",
   "metadata": {},
   "outputs": [
    {
     "data": {
      "text/html": [
       "<div>\n",
       "<style scoped>\n",
       "    .dataframe tbody tr th:only-of-type {\n",
       "        vertical-align: middle;\n",
       "    }\n",
       "\n",
       "    .dataframe tbody tr th {\n",
       "        vertical-align: top;\n",
       "    }\n",
       "\n",
       "    .dataframe thead th {\n",
       "        text-align: right;\n",
       "    }\n",
       "</style>\n",
       "<table border=\"1\" class=\"dataframe\">\n",
       "  <thead>\n",
       "    <tr style=\"text-align: right;\">\n",
       "      <th></th>\n",
       "      <th>IATA_CODE</th>\n",
       "      <th>AIRPORT</th>\n",
       "      <th>CITY</th>\n",
       "      <th>STATE</th>\n",
       "      <th>COUNTRY</th>\n",
       "      <th>LATITUDE</th>\n",
       "      <th>LONGITUDE</th>\n",
       "    </tr>\n",
       "  </thead>\n",
       "  <tbody>\n",
       "    <tr>\n",
       "      <th>0</th>\n",
       "      <td>ABE</td>\n",
       "      <td>Lehigh Valley International Airport</td>\n",
       "      <td>Allentown</td>\n",
       "      <td>PA</td>\n",
       "      <td>USA</td>\n",
       "      <td>40.65236</td>\n",
       "      <td>-75.44040</td>\n",
       "    </tr>\n",
       "    <tr>\n",
       "      <th>1</th>\n",
       "      <td>ABI</td>\n",
       "      <td>Abilene Regional Airport</td>\n",
       "      <td>Abilene</td>\n",
       "      <td>TX</td>\n",
       "      <td>USA</td>\n",
       "      <td>32.41132</td>\n",
       "      <td>-99.68190</td>\n",
       "    </tr>\n",
       "    <tr>\n",
       "      <th>2</th>\n",
       "      <td>ABQ</td>\n",
       "      <td>Albuquerque International Sunport</td>\n",
       "      <td>Albuquerque</td>\n",
       "      <td>NM</td>\n",
       "      <td>USA</td>\n",
       "      <td>35.04022</td>\n",
       "      <td>-106.60919</td>\n",
       "    </tr>\n",
       "    <tr>\n",
       "      <th>3</th>\n",
       "      <td>ABR</td>\n",
       "      <td>Aberdeen Regional Airport</td>\n",
       "      <td>Aberdeen</td>\n",
       "      <td>SD</td>\n",
       "      <td>USA</td>\n",
       "      <td>45.44906</td>\n",
       "      <td>-98.42183</td>\n",
       "    </tr>\n",
       "    <tr>\n",
       "      <th>4</th>\n",
       "      <td>ABY</td>\n",
       "      <td>Southwest Georgia Regional Airport</td>\n",
       "      <td>Albany</td>\n",
       "      <td>GA</td>\n",
       "      <td>USA</td>\n",
       "      <td>31.53552</td>\n",
       "      <td>-84.19447</td>\n",
       "    </tr>\n",
       "  </tbody>\n",
       "</table>\n",
       "</div>"
      ],
      "text/plain": [
       "  IATA_CODE                              AIRPORT         CITY STATE COUNTRY  \\\n",
       "0       ABE  Lehigh Valley International Airport    Allentown    PA     USA   \n",
       "1       ABI             Abilene Regional Airport      Abilene    TX     USA   \n",
       "2       ABQ    Albuquerque International Sunport  Albuquerque    NM     USA   \n",
       "3       ABR            Aberdeen Regional Airport     Aberdeen    SD     USA   \n",
       "4       ABY   Southwest Georgia Regional Airport       Albany    GA     USA   \n",
       "\n",
       "   LATITUDE  LONGITUDE  \n",
       "0  40.65236  -75.44040  \n",
       "1  32.41132  -99.68190  \n",
       "2  35.04022 -106.60919  \n",
       "3  45.44906  -98.42183  \n",
       "4  31.53552  -84.19447  "
      ]
     },
     "execution_count": 6,
     "metadata": {},
     "output_type": "execute_result"
    }
   ],
   "source": [
    "airports_df = pd.read_csv(\"/data/flights-data/archives/airports.csv\")\n",
    "airports_df.head()"
   ]
  },
  {
   "cell_type": "code",
   "execution_count": 7,
   "id": "24fc0d46",
   "metadata": {},
   "outputs": [
    {
     "data": {
      "text/html": [
       "<div>\n",
       "<style scoped>\n",
       "    .dataframe tbody tr th:only-of-type {\n",
       "        vertical-align: middle;\n",
       "    }\n",
       "\n",
       "    .dataframe tbody tr th {\n",
       "        vertical-align: top;\n",
       "    }\n",
       "\n",
       "    .dataframe thead th {\n",
       "        text-align: right;\n",
       "    }\n",
       "</style>\n",
       "<table border=\"1\" class=\"dataframe\">\n",
       "  <thead>\n",
       "    <tr style=\"text-align: right;\">\n",
       "      <th></th>\n",
       "      <th>IATA_CODE</th>\n",
       "      <th>AIRLINE</th>\n",
       "    </tr>\n",
       "  </thead>\n",
       "  <tbody>\n",
       "    <tr>\n",
       "      <th>0</th>\n",
       "      <td>UA</td>\n",
       "      <td>United Air Lines Inc.</td>\n",
       "    </tr>\n",
       "    <tr>\n",
       "      <th>1</th>\n",
       "      <td>AA</td>\n",
       "      <td>American Airlines Inc.</td>\n",
       "    </tr>\n",
       "    <tr>\n",
       "      <th>2</th>\n",
       "      <td>US</td>\n",
       "      <td>US Airways Inc.</td>\n",
       "    </tr>\n",
       "    <tr>\n",
       "      <th>3</th>\n",
       "      <td>F9</td>\n",
       "      <td>Frontier Airlines Inc.</td>\n",
       "    </tr>\n",
       "    <tr>\n",
       "      <th>4</th>\n",
       "      <td>B6</td>\n",
       "      <td>JetBlue Airways</td>\n",
       "    </tr>\n",
       "  </tbody>\n",
       "</table>\n",
       "</div>"
      ],
      "text/plain": [
       "  IATA_CODE                 AIRLINE\n",
       "0        UA   United Air Lines Inc.\n",
       "1        AA  American Airlines Inc.\n",
       "2        US         US Airways Inc.\n",
       "3        F9  Frontier Airlines Inc.\n",
       "4        B6         JetBlue Airways"
      ]
     },
     "execution_count": 7,
     "metadata": {},
     "output_type": "execute_result"
    }
   ],
   "source": [
    "airlines_df = pd.read_csv(\"/data/flights-data/archives/airlines.csv\")\n",
    "airlines_df.head()"
   ]
  },
  {
   "cell_type": "markdown",
   "id": "6813f7b7",
   "metadata": {},
   "source": [
    "<a id=\"load_featuregroup\"></a>\n",
    "### 3.2. Create feature store logical entities"
   ]
  },
  {
   "cell_type": "markdown",
   "id": "fe86e3ad",
   "metadata": {},
   "source": [
    "#### 3.2.1 Feature Store\n",
    "Feature store is the top level entity for feature store service"
   ]
  },
  {
   "cell_type": "code",
   "execution_count": 8,
   "id": "c3911cdb",
   "metadata": {},
   "outputs": [],
   "source": [
    "feature_store_resource = (\n",
    "    FeatureStore().\n",
    "    with_description(\"Data consisting of flights\").\n",
    "    with_compartment_id(compartment_id).\n",
    "    with_display_name(\"flights details\").\n",
    "    with_offline_config(metastore_id=metastore_id)\n",
    ")"
   ]
  },
  {
   "cell_type": "markdown",
   "id": "74b979b7",
   "metadata": {},
   "source": [
    "<a id=\"create_feature_store\"></a>\n",
    "##### Create Feature Store\n",
    "\n",
    "Call the ```.create()``` method of the Feature store instance to create a feature store."
   ]
  },
  {
   "cell_type": "code",
   "execution_count": 9,
   "id": "a80ffa54",
   "metadata": {},
   "outputs": [
    {
     "data": {
      "text/plain": [
       "kind: featurestore\n",
       "spec:\n",
       "  compartmentId: ocid1.tenancy.oc1..aaaaaaaa462hfhplpx652b32ix62xrdijppq2c7okwcqjlgrbknhgtj2kofa\n",
       "  description: Data consisting of flights\n",
       "  displayName: flights details\n",
       "  id: C48FD6E4D9590E52B5E7130F1350C024\n",
       "  offlineConfig:\n",
       "    metastoreId: ocid1.datacatalogmetastore.oc1.iad.amaaaaaabiudgxyap7tizm4gscwz7amu7dixz7ml3mtesqzzwwg3urvvdgua\n",
       "type: featureStore"
      ]
     },
     "execution_count": 9,
     "metadata": {},
     "output_type": "execute_result"
    }
   ],
   "source": [
    "feature_store = feature_store_resource.create()\n",
    "feature_store"
   ]
  },
  {
   "cell_type": "markdown",
   "id": "a83bd162",
   "metadata": {},
   "source": [
    "#### 3.2.2 Entity\n",
    "An entity is a group of semantically related features."
   ]
  },
  {
   "cell_type": "code",
   "execution_count": 10,
   "id": "ea2e9256",
   "metadata": {},
   "outputs": [
    {
     "data": {
      "text/plain": [
       "kind: entity\n",
       "spec:\n",
       "  compartmentId: ocid1.tenancy.oc1..aaaaaaaa462hfhplpx652b32ix62xrdijppq2c7okwcqjlgrbknhgtj2kofa\n",
       "  description: description for flight details\n",
       "  featureStoreId: C48FD6E4D9590E52B5E7130F1350C024\n",
       "  id: 369DE3D1763AF44708F751CFEF4C448B\n",
       "  name: Flight details\n",
       "type: entity"
      ]
     },
     "execution_count": 10,
     "metadata": {},
     "output_type": "execute_result"
    }
   ],
   "source": [
    "entity = feature_store.create_entity(\n",
    "    display_name=\"Flight details\",\n",
    "    description=\"description for flight details\"\n",
    ")\n",
    "entity"
   ]
  },
  {
   "cell_type": "markdown",
   "id": "22f3501d",
   "metadata": {},
   "source": [
    "#### 3.2.3 Feature group\n",
    "A feature group is an object that represents a logical group of time-series feature data as it is found in a datasource."
   ]
  },
  {
   "cell_type": "markdown",
   "id": "f98e5f23",
   "metadata": {},
   "source": [
    "<a id=\"create_feature_group_flights\"></a>\n",
    "##### Flights Feature Group\n",
    "\n",
    "Create feature group for flights"
   ]
  },
  {
   "cell_type": "code",
   "execution_count": 11,
   "id": "627b5935",
   "metadata": {},
   "outputs": [],
   "source": [
    "feature_group_flights = (\n",
    "    FeatureGroup()\n",
    "    .with_feature_store_id(feature_store.id)\n",
    "    .with_primary_keys([\"FLIGHT_NUMBER\"])\n",
    "    .with_name(\"flights_feature_group\")\n",
    "    .with_entity_id(entity.id)\n",
    "    .with_compartment_id(compartment_id)\n",
    "    .with_schema_details_from_dataframe(flights_df)\n",
    ")"
   ]
  },
  {
   "cell_type": "code",
   "execution_count": 12,
   "id": "0b17133d",
   "metadata": {
    "jupyter": {
     "outputs_hidden": false
    }
   },
   "outputs": [
    {
     "data": {
      "text/plain": [
       "kind: FeatureGroup\n",
       "spec:\n",
       "  compartmentId: ocid1.tenancy.oc1..aaaaaaaa462hfhplpx652b32ix62xrdijppq2c7okwcqjlgrbknhgtj2kofa\n",
       "  entityId: 369DE3D1763AF44708F751CFEF4C448B\n",
       "  featureStoreId: C48FD6E4D9590E52B5E7130F1350C024\n",
       "  id: 52387B829B77562EFB1C49B5386A92FD\n",
       "  inputFeatureDetails:\n",
       "  - featureType: INTEGER\n",
       "    name: YEAR\n",
       "    orderNumber: 1\n",
       "  - featureType: INTEGER\n",
       "    name: MONTH\n",
       "    orderNumber: 2\n",
       "  - featureType: INTEGER\n",
       "    name: DAY\n",
       "    orderNumber: 3\n",
       "  - featureType: INTEGER\n",
       "    name: DAY_OF_WEEK\n",
       "    orderNumber: 4\n",
       "  - featureType: STRING\n",
       "    name: AIRLINE\n",
       "    orderNumber: 5\n",
       "  - featureType: INTEGER\n",
       "    name: FLIGHT_NUMBER\n",
       "    orderNumber: 6\n",
       "  - featureType: STRING\n",
       "    name: ORIGIN_AIRPORT\n",
       "    orderNumber: 7\n",
       "  - featureType: STRING\n",
       "    name: DESTINATION_AIRPORT\n",
       "    orderNumber: 8\n",
       "  name: flights_feature_group\n",
       "  primaryKeys:\n",
       "    items:\n",
       "    - name: FLIGHT_NUMBER\n",
       "  statisticsConfig:\n",
       "    isEnabled: true\n",
       "type: featureGroup"
      ]
     },
     "execution_count": 12,
     "metadata": {},
     "output_type": "execute_result"
    }
   ],
   "source": [
    "feature_group_flights.create()"
   ]
  },
  {
   "cell_type": "code",
   "execution_count": 13,
   "id": "94306627",
   "metadata": {},
   "outputs": [
    {
     "data": {
      "image/svg+xml": [
       "<?xml version=\"1.0\" encoding=\"UTF-8\" standalone=\"no\"?>\n",
       "<!DOCTYPE svg PUBLIC \"-//W3C//DTD SVG 1.1//EN\"\n",
       " \"http://www.w3.org/Graphics/SVG/1.1/DTD/svg11.dtd\">\n",
       "<!-- Generated by graphviz version 5.0.1 (20220820.1526)\n",
       " -->\n",
       "<!-- Pages: 1 -->\n",
       "<svg width=\"587pt\" height=\"64pt\"\n",
       " viewBox=\"0.00 0.00 587.00 64.00\" xmlns=\"http://www.w3.org/2000/svg\" xmlns:xlink=\"http://www.w3.org/1999/xlink\">\n",
       "<g id=\"graph0\" class=\"graph\" transform=\"scale(1 1) rotate(0) translate(4 60)\">\n",
       "<polygon fill=\"white\" stroke=\"none\" points=\"-4,4 -4,-60 583,-60 583,4 -4,4\"/>\n",
       "<!-- C48FD6E4D9590E52B5E7130F1350C024 -->\n",
       "<g id=\"node1\" class=\"node\">\n",
       "<title>C48FD6E4D9590E52B5E7130F1350C024</title>\n",
       "<path fill=\"#dedede\" stroke=\"#dedede\" d=\"M157,-56C157,-56 12,-56 12,-56 6,-56 0,-50 0,-44 0,-44 0,-12 0,-12 0,-6 6,0 12,0 12,0 157,0 157,0 163,0 169,-6 169,-12 169,-12 169,-44 169,-44 169,-50 163,-56 157,-56\"/>\n",
       "<text text-anchor=\"start\" x=\"54\" y=\"-39.2\" font-family=\"Helvetica,Arial,sans-serif\" font-size=\"11.00\">flights details</text>\n",
       "<text text-anchor=\"start\" x=\"63.5\" y=\"-24.4\" font-family=\"Helvetica,Arial,sans-serif\" font-size=\"7.00\">Feature Store</text>\n",
       "<text text-anchor=\"start\" x=\"12.5\" y=\"-10.4\" font-family=\"Courier New\" font-size=\"7.00\">C48FD6E4D9590E52B5E7130F1350C024</text>\n",
       "</g>\n",
       "<!-- 369DE3D1763AF44708F751CFEF4C448B -->\n",
       "<g id=\"node2\" class=\"node\">\n",
       "<title>369DE3D1763AF44708F751CFEF4C448B</title>\n",
       "<path fill=\"#dedede\" stroke=\"#dedede\" d=\"M362,-56C362,-56 217,-56 217,-56 211,-56 205,-50 205,-44 205,-44 205,-12 205,-12 205,-6 211,0 217,0 217,0 362,0 362,0 368,0 374,-6 374,-12 374,-12 374,-44 374,-44 374,-50 368,-56 362,-56\"/>\n",
       "<text text-anchor=\"start\" x=\"259.5\" y=\"-39.2\" font-family=\"Helvetica,Arial,sans-serif\" font-size=\"11.00\">Flight details</text>\n",
       "<text text-anchor=\"start\" x=\"280.5\" y=\"-24.4\" font-family=\"Helvetica,Arial,sans-serif\" font-size=\"7.00\">Entity</text>\n",
       "<text text-anchor=\"start\" x=\"217.5\" y=\"-10.4\" font-family=\"Courier New\" font-size=\"7.00\">369DE3D1763AF44708F751CFEF4C448B</text>\n",
       "</g>\n",
       "<!-- C48FD6E4D9590E52B5E7130F1350C024&#45;&gt;369DE3D1763AF44708F751CFEF4C448B -->\n",
       "<g id=\"edge1\" class=\"edge\">\n",
       "<title>C48FD6E4D9590E52B5E7130F1350C024&#45;&gt;369DE3D1763AF44708F751CFEF4C448B</title>\n",
       "<path fill=\"none\" stroke=\"black\" d=\"M169.24,-28C177.72,-28 186.37,-28 194.94,-28\"/>\n",
       "<polygon fill=\"black\" stroke=\"black\" points=\"194.95,-31.5 204.95,-28 194.95,-24.5 194.95,-31.5\"/>\n",
       "</g>\n",
       "<!-- 52387B829B77562EFB1C49B5386A92FD -->\n",
       "<g id=\"node3\" class=\"node\">\n",
       "<title>52387B829B77562EFB1C49B5386A92FD</title>\n",
       "<path fill=\"#dedede\" stroke=\"#dedede\" d=\"M567,-56C567,-56 422,-56 422,-56 416,-56 410,-50 410,-44 410,-44 410,-12 410,-12 410,-6 416,0 422,0 422,0 567,0 567,0 573,0 579,-6 579,-12 579,-12 579,-44 579,-44 579,-50 573,-56 567,-56\"/>\n",
       "<text text-anchor=\"start\" x=\"444\" y=\"-39.2\" font-family=\"Helvetica,Arial,sans-serif\" font-size=\"11.00\">flights_feature_group</text>\n",
       "<text text-anchor=\"start\" x=\"472\" y=\"-24.4\" font-family=\"Helvetica,Arial,sans-serif\" font-size=\"7.00\">Feature Group</text>\n",
       "<text text-anchor=\"start\" x=\"422.5\" y=\"-10.4\" font-family=\"Courier New\" font-size=\"7.00\">52387B829B77562EFB1C49B5386A92FD</text>\n",
       "</g>\n",
       "<!-- 369DE3D1763AF44708F751CFEF4C448B&#45;&gt;52387B829B77562EFB1C49B5386A92FD -->\n",
       "<g id=\"edge2\" class=\"edge\">\n",
       "<title>369DE3D1763AF44708F751CFEF4C448B&#45;&gt;52387B829B77562EFB1C49B5386A92FD</title>\n",
       "<path fill=\"none\" stroke=\"black\" d=\"M374.24,-28C382.72,-28 391.37,-28 399.94,-28\"/>\n",
       "<polygon fill=\"black\" stroke=\"black\" points=\"399.95,-31.5 409.95,-28 399.95,-24.5 399.95,-31.5\"/>\n",
       "</g>\n",
       "</g>\n",
       "</svg>\n"
      ],
      "text/plain": [
       "<graphviz.graphs.Digraph at 0x1354e3e20>"
      ]
     },
     "metadata": {},
     "output_type": "display_data"
    }
   ],
   "source": [
    "feature_group_flights.show()"
   ]
  },
  {
   "cell_type": "code",
   "execution_count": 14,
   "id": "6a4ce380",
   "metadata": {},
   "outputs": [],
   "source": [
    "os.environ[\"DEVELOPER_MODE\"] = \"True\""
   ]
  },
  {
   "cell_type": "code",
   "execution_count": 26,
   "id": "e28763e2",
   "metadata": {},
   "outputs": [
    {
     "name": "stderr",
     "output_type": "stream",
     "text": [
      "                                                                                \r"
     ]
    },
    {
     "name": "stdout",
     "output_type": "stream",
     "text": [
      "23/05/15 20:51:43 WARN HiveExternalCatalog: Couldn't find corresponding Hive SerDe for data source provider delta. Persisting data source table `369de3d1763af44708f751cfef4c448b`.`flights_feature_group` into Hive metastore in Spark SQL specific format, which is NOT compatible with Hive.\n"
     ]
    },
    {
     "name": "stderr",
     "output_type": "stream",
     "text": [
      "                                                                                \r"
     ]
    }
   ],
   "source": [
    "feature_group_flights.materialise(flights_df)"
   ]
  },
  {
   "cell_type": "markdown",
   "id": "545ef662",
   "metadata": {},
   "source": [
    "<a id=\"create_feature_group_airport\"></a>\n",
    "##### Airport Feature Group\n",
    "\n",
    "Create feature group for airport"
   ]
  },
  {
   "cell_type": "code",
   "execution_count": 16,
   "id": "5c831661",
   "metadata": {},
   "outputs": [],
   "source": [
    "feature_group_airports = (\n",
    "    FeatureGroup()\n",
    "    .with_feature_store_id(feature_store.id)\n",
    "    .with_primary_keys([\"IATA_CODE\"])\n",
    "    .with_name(\"airport_feature_group\")\n",
    "    .with_entity_id(entity.id)\n",
    "    .with_compartment_id(compartment_id)\n",
    "    .with_schema_details_from_dataframe(airports_df)\n",
    ")"
   ]
  },
  {
   "cell_type": "code",
   "execution_count": 17,
   "id": "7aafe022",
   "metadata": {
    "jupyter": {
     "outputs_hidden": false
    }
   },
   "outputs": [
    {
     "data": {
      "text/plain": [
       "kind: FeatureGroup\n",
       "spec:\n",
       "  compartmentId: ocid1.tenancy.oc1..aaaaaaaa462hfhplpx652b32ix62xrdijppq2c7okwcqjlgrbknhgtj2kofa\n",
       "  entityId: 369DE3D1763AF44708F751CFEF4C448B\n",
       "  featureStoreId: C48FD6E4D9590E52B5E7130F1350C024\n",
       "  id: 8B5787EC2C4502654CCFD342587F8AB9\n",
       "  inputFeatureDetails:\n",
       "  - featureType: STRING\n",
       "    name: IATA_CODE\n",
       "    orderNumber: 1\n",
       "  - featureType: STRING\n",
       "    name: AIRPORT\n",
       "    orderNumber: 2\n",
       "  - featureType: STRING\n",
       "    name: CITY\n",
       "    orderNumber: 3\n",
       "  - featureType: STRING\n",
       "    name: STATE\n",
       "    orderNumber: 4\n",
       "  - featureType: STRING\n",
       "    name: COUNTRY\n",
       "    orderNumber: 5\n",
       "  - featureType: FLOAT\n",
       "    name: LATITUDE\n",
       "    orderNumber: 6\n",
       "  - featureType: FLOAT\n",
       "    name: LONGITUDE\n",
       "    orderNumber: 7\n",
       "  name: airport_feature_group\n",
       "  primaryKeys:\n",
       "    items:\n",
       "    - name: IATA_CODE\n",
       "  statisticsConfig:\n",
       "    isEnabled: true\n",
       "type: featureGroup"
      ]
     },
     "execution_count": 17,
     "metadata": {},
     "output_type": "execute_result"
    }
   ],
   "source": [
    "feature_group_airports.create()"
   ]
  },
  {
   "cell_type": "code",
   "execution_count": 18,
   "id": "7d8f9a2a",
   "metadata": {},
   "outputs": [
    {
     "name": "stderr",
     "output_type": "stream",
     "text": [
      "[Stage 0:>                                                          (0 + 8) / 8]\r"
     ]
    },
    {
     "name": "stdout",
     "output_type": "stream",
     "text": [
      "23/05/15 20:46:58 WARN MemoryManager: Total allocation exceeds 95.00% (906,992,014 bytes) of heap memory\n",
      "Scaling row group sizes to 96.54% for 7 writers\n",
      "23/05/15 20:46:58 WARN MemoryManager: Total allocation exceeds 95.00% (906,992,014 bytes) of heap memory\n",
      "Scaling row group sizes to 84.47% for 8 writers\n",
      "23/05/15 20:47:01 WARN MemoryManager: Total allocation exceeds 95.00% (906,992,014 bytes) of heap memory\n",
      "Scaling row group sizes to 96.54% for 7 writers\n"
     ]
    },
    {
     "name": "stderr",
     "output_type": "stream",
     "text": [
      "\r",
      "                                                                                \r"
     ]
    },
    {
     "name": "stdout",
     "output_type": "stream",
     "text": [
      "23/05/15 20:47:04 WARN package: Truncated the string representation of a plan since it was too large. This behavior can be adjusted by setting 'spark.sql.debug.maxToStringFields'.\n"
     ]
    },
    {
     "name": "stderr",
     "output_type": "stream",
     "text": [
      "                                                                                \r"
     ]
    },
    {
     "name": "stdout",
     "output_type": "stream",
     "text": [
      "23/05/15 20:47:08 WARN HiveExternalCatalog: Couldn't find corresponding Hive SerDe for data source provider delta. Persisting data source table `369de3d1763af44708f751cfef4c448b`.`airport_feature_group` into Hive metastore in Spark SQL specific format, which is NOT compatible with Hive.\n"
     ]
    },
    {
     "name": "stderr",
     "output_type": "stream",
     "text": [
      "                                                                                \r"
     ]
    }
   ],
   "source": [
    "feature_group_airports.materialise(airports_df)"
   ]
  },
  {
   "cell_type": "code",
   "execution_count": 19,
   "id": "378ba73e",
   "metadata": {},
   "outputs": [
    {
     "data": {
      "image/svg+xml": [
       "<?xml version=\"1.0\" encoding=\"UTF-8\" standalone=\"no\"?>\n",
       "<!DOCTYPE svg PUBLIC \"-//W3C//DTD SVG 1.1//EN\"\n",
       " \"http://www.w3.org/Graphics/SVG/1.1/DTD/svg11.dtd\">\n",
       "<!-- Generated by graphviz version 5.0.1 (20220820.1526)\n",
       " -->\n",
       "<!-- Pages: 1 -->\n",
       "<svg width=\"587pt\" height=\"64pt\"\n",
       " viewBox=\"0.00 0.00 587.00 64.00\" xmlns=\"http://www.w3.org/2000/svg\" xmlns:xlink=\"http://www.w3.org/1999/xlink\">\n",
       "<g id=\"graph0\" class=\"graph\" transform=\"scale(1 1) rotate(0) translate(4 60)\">\n",
       "<polygon fill=\"white\" stroke=\"none\" points=\"-4,4 -4,-60 583,-60 583,4 -4,4\"/>\n",
       "<!-- C48FD6E4D9590E52B5E7130F1350C024 -->\n",
       "<g id=\"node1\" class=\"node\">\n",
       "<title>C48FD6E4D9590E52B5E7130F1350C024</title>\n",
       "<path fill=\"#dedede\" stroke=\"#dedede\" d=\"M157,-56C157,-56 12,-56 12,-56 6,-56 0,-50 0,-44 0,-44 0,-12 0,-12 0,-6 6,0 12,0 12,0 157,0 157,0 163,0 169,-6 169,-12 169,-12 169,-44 169,-44 169,-50 163,-56 157,-56\"/>\n",
       "<text text-anchor=\"start\" x=\"54\" y=\"-39.2\" font-family=\"Helvetica,Arial,sans-serif\" font-size=\"11.00\">flights details</text>\n",
       "<text text-anchor=\"start\" x=\"63.5\" y=\"-24.4\" font-family=\"Helvetica,Arial,sans-serif\" font-size=\"7.00\">Feature Store</text>\n",
       "<text text-anchor=\"start\" x=\"12.5\" y=\"-10.4\" font-family=\"Courier New\" font-size=\"7.00\">C48FD6E4D9590E52B5E7130F1350C024</text>\n",
       "</g>\n",
       "<!-- 369DE3D1763AF44708F751CFEF4C448B -->\n",
       "<g id=\"node2\" class=\"node\">\n",
       "<title>369DE3D1763AF44708F751CFEF4C448B</title>\n",
       "<path fill=\"#dedede\" stroke=\"#dedede\" d=\"M362,-56C362,-56 217,-56 217,-56 211,-56 205,-50 205,-44 205,-44 205,-12 205,-12 205,-6 211,0 217,0 217,0 362,0 362,0 368,0 374,-6 374,-12 374,-12 374,-44 374,-44 374,-50 368,-56 362,-56\"/>\n",
       "<text text-anchor=\"start\" x=\"259.5\" y=\"-39.2\" font-family=\"Helvetica,Arial,sans-serif\" font-size=\"11.00\">Flight details</text>\n",
       "<text text-anchor=\"start\" x=\"280.5\" y=\"-24.4\" font-family=\"Helvetica,Arial,sans-serif\" font-size=\"7.00\">Entity</text>\n",
       "<text text-anchor=\"start\" x=\"217.5\" y=\"-10.4\" font-family=\"Courier New\" font-size=\"7.00\">369DE3D1763AF44708F751CFEF4C448B</text>\n",
       "</g>\n",
       "<!-- C48FD6E4D9590E52B5E7130F1350C024&#45;&gt;369DE3D1763AF44708F751CFEF4C448B -->\n",
       "<g id=\"edge1\" class=\"edge\">\n",
       "<title>C48FD6E4D9590E52B5E7130F1350C024&#45;&gt;369DE3D1763AF44708F751CFEF4C448B</title>\n",
       "<path fill=\"none\" stroke=\"black\" d=\"M169.24,-28C177.72,-28 186.37,-28 194.94,-28\"/>\n",
       "<polygon fill=\"black\" stroke=\"black\" points=\"194.95,-31.5 204.95,-28 194.95,-24.5 194.95,-31.5\"/>\n",
       "</g>\n",
       "<!-- 8B5787EC2C4502654CCFD342587F8AB9 -->\n",
       "<g id=\"node3\" class=\"node\">\n",
       "<title>8B5787EC2C4502654CCFD342587F8AB9</title>\n",
       "<path fill=\"#dedede\" stroke=\"#dedede\" d=\"M567,-56C567,-56 422,-56 422,-56 416,-56 410,-50 410,-44 410,-44 410,-12 410,-12 410,-6 416,0 422,0 422,0 567,0 567,0 573,0 579,-6 579,-12 579,-12 579,-44 579,-44 579,-50 573,-56 567,-56\"/>\n",
       "<text text-anchor=\"start\" x=\"442.5\" y=\"-39.2\" font-family=\"Helvetica,Arial,sans-serif\" font-size=\"11.00\">airport_feature_group</text>\n",
       "<text text-anchor=\"start\" x=\"472\" y=\"-24.4\" font-family=\"Helvetica,Arial,sans-serif\" font-size=\"7.00\">Feature Group</text>\n",
       "<text text-anchor=\"start\" x=\"422.5\" y=\"-10.4\" font-family=\"Courier New\" font-size=\"7.00\">8B5787EC2C4502654CCFD342587F8AB9</text>\n",
       "</g>\n",
       "<!-- 369DE3D1763AF44708F751CFEF4C448B&#45;&gt;8B5787EC2C4502654CCFD342587F8AB9 -->\n",
       "<g id=\"edge2\" class=\"edge\">\n",
       "<title>369DE3D1763AF44708F751CFEF4C448B&#45;&gt;8B5787EC2C4502654CCFD342587F8AB9</title>\n",
       "<path fill=\"none\" stroke=\"black\" d=\"M374.24,-28C382.72,-28 391.37,-28 399.94,-28\"/>\n",
       "<polygon fill=\"black\" stroke=\"black\" points=\"399.95,-31.5 409.95,-28 399.95,-24.5 399.95,-31.5\"/>\n",
       "</g>\n",
       "</g>\n",
       "</svg>\n"
      ],
      "text/plain": [
       "<graphviz.graphs.Digraph at 0x12e932230>"
      ]
     },
     "metadata": {},
     "output_type": "display_data"
    }
   ],
   "source": [
    "feature_group_airports.show()"
   ]
  },
  {
   "cell_type": "markdown",
   "id": "e7cfd19d",
   "metadata": {},
   "source": [
    "<a id=\"create_feature_group_airlines\"></a>\n",
    "##### Airlines Feature Group\n",
    "\n",
    "Create feature group for airlines"
   ]
  },
  {
   "cell_type": "code",
   "execution_count": 20,
   "id": "9217e1e8",
   "metadata": {},
   "outputs": [],
   "source": [
    "feature_group_airlines = (\n",
    "    FeatureGroup()\n",
    "    .with_feature_store_id(feature_store.id)\n",
    "    .with_primary_keys([\"IATA_CODE\"])\n",
    "    .with_name(\"airlines_feature_group\")\n",
    "    .with_entity_id(entity.id)\n",
    "    .with_compartment_id(compartment_id)\n",
    "    .with_schema_details_from_dataframe(airports_df)\n",
    ")"
   ]
  },
  {
   "cell_type": "code",
   "execution_count": 21,
   "id": "b24a4920",
   "metadata": {
    "jupyter": {
     "outputs_hidden": false
    }
   },
   "outputs": [
    {
     "data": {
      "text/plain": [
       "kind: FeatureGroup\n",
       "spec:\n",
       "  compartmentId: ocid1.tenancy.oc1..aaaaaaaa462hfhplpx652b32ix62xrdijppq2c7okwcqjlgrbknhgtj2kofa\n",
       "  entityId: 369DE3D1763AF44708F751CFEF4C448B\n",
       "  featureStoreId: C48FD6E4D9590E52B5E7130F1350C024\n",
       "  id: 783F018A2718FBA8F4A7EBB3B857372B\n",
       "  inputFeatureDetails:\n",
       "  - featureType: STRING\n",
       "    name: IATA_CODE\n",
       "    orderNumber: 1\n",
       "  - featureType: STRING\n",
       "    name: AIRPORT\n",
       "    orderNumber: 2\n",
       "  - featureType: STRING\n",
       "    name: CITY\n",
       "    orderNumber: 3\n",
       "  - featureType: STRING\n",
       "    name: STATE\n",
       "    orderNumber: 4\n",
       "  - featureType: STRING\n",
       "    name: COUNTRY\n",
       "    orderNumber: 5\n",
       "  - featureType: FLOAT\n",
       "    name: LATITUDE\n",
       "    orderNumber: 6\n",
       "  - featureType: FLOAT\n",
       "    name: LONGITUDE\n",
       "    orderNumber: 7\n",
       "  name: airlines_feature_group\n",
       "  primaryKeys:\n",
       "    items:\n",
       "    - name: IATA_CODE\n",
       "  statisticsConfig:\n",
       "    isEnabled: true\n",
       "type: featureGroup"
      ]
     },
     "execution_count": 21,
     "metadata": {},
     "output_type": "execute_result"
    }
   ],
   "source": [
    "feature_group_airlines.create()"
   ]
  },
  {
   "cell_type": "markdown",
   "id": "fd4b80a0",
   "metadata": {},
   "source": [
    "<a id=\"materialise_feature_group\"></a>\n",
    "##### Materialise feature group\n",
    "\n",
    "You can call the ```materialise() -> FeatureGroupJob``` method of the ```FeatureGroup``` instance to load the data to feature group. To persist the feature group and save feature group  data along the metadata in the feature store, call the ```.materialise()```"
   ]
  },
  {
   "cell_type": "code",
   "execution_count": 22,
   "id": "c5936119",
   "metadata": {},
   "outputs": [
    {
     "name": "stderr",
     "output_type": "stream",
     "text": [
      "                                                                                \r"
     ]
    },
    {
     "name": "stdout",
     "output_type": "stream",
     "text": [
      "23/05/15 20:48:15 WARN HiveExternalCatalog: Couldn't find corresponding Hive SerDe for data source provider delta. Persisting data source table `369de3d1763af44708f751cfef4c448b`.`airlines_feature_group` into Hive metastore in Spark SQL specific format, which is NOT compatible with Hive.\n"
     ]
    }
   ],
   "source": [
    "feature_group_airlines.materialise(airlines_df)"
   ]
  },
  {
   "cell_type": "code",
   "execution_count": 23,
   "id": "c3c71266",
   "metadata": {},
   "outputs": [
    {
     "data": {
      "image/svg+xml": [
       "<?xml version=\"1.0\" encoding=\"UTF-8\" standalone=\"no\"?>\n",
       "<!DOCTYPE svg PUBLIC \"-//W3C//DTD SVG 1.1//EN\"\n",
       " \"http://www.w3.org/Graphics/SVG/1.1/DTD/svg11.dtd\">\n",
       "<!-- Generated by graphviz version 5.0.1 (20220820.1526)\n",
       " -->\n",
       "<!-- Pages: 1 -->\n",
       "<svg width=\"587pt\" height=\"64pt\"\n",
       " viewBox=\"0.00 0.00 587.00 64.00\" xmlns=\"http://www.w3.org/2000/svg\" xmlns:xlink=\"http://www.w3.org/1999/xlink\">\n",
       "<g id=\"graph0\" class=\"graph\" transform=\"scale(1 1) rotate(0) translate(4 60)\">\n",
       "<polygon fill=\"white\" stroke=\"none\" points=\"-4,4 -4,-60 583,-60 583,4 -4,4\"/>\n",
       "<!-- C48FD6E4D9590E52B5E7130F1350C024 -->\n",
       "<g id=\"node1\" class=\"node\">\n",
       "<title>C48FD6E4D9590E52B5E7130F1350C024</title>\n",
       "<path fill=\"#dedede\" stroke=\"#dedede\" d=\"M157,-56C157,-56 12,-56 12,-56 6,-56 0,-50 0,-44 0,-44 0,-12 0,-12 0,-6 6,0 12,0 12,0 157,0 157,0 163,0 169,-6 169,-12 169,-12 169,-44 169,-44 169,-50 163,-56 157,-56\"/>\n",
       "<text text-anchor=\"start\" x=\"54\" y=\"-39.2\" font-family=\"Helvetica,Arial,sans-serif\" font-size=\"11.00\">flights details</text>\n",
       "<text text-anchor=\"start\" x=\"63.5\" y=\"-24.4\" font-family=\"Helvetica,Arial,sans-serif\" font-size=\"7.00\">Feature Store</text>\n",
       "<text text-anchor=\"start\" x=\"12.5\" y=\"-10.4\" font-family=\"Courier New\" font-size=\"7.00\">C48FD6E4D9590E52B5E7130F1350C024</text>\n",
       "</g>\n",
       "<!-- 369DE3D1763AF44708F751CFEF4C448B -->\n",
       "<g id=\"node2\" class=\"node\">\n",
       "<title>369DE3D1763AF44708F751CFEF4C448B</title>\n",
       "<path fill=\"#dedede\" stroke=\"#dedede\" d=\"M362,-56C362,-56 217,-56 217,-56 211,-56 205,-50 205,-44 205,-44 205,-12 205,-12 205,-6 211,0 217,0 217,0 362,0 362,0 368,0 374,-6 374,-12 374,-12 374,-44 374,-44 374,-50 368,-56 362,-56\"/>\n",
       "<text text-anchor=\"start\" x=\"259.5\" y=\"-39.2\" font-family=\"Helvetica,Arial,sans-serif\" font-size=\"11.00\">Flight details</text>\n",
       "<text text-anchor=\"start\" x=\"280.5\" y=\"-24.4\" font-family=\"Helvetica,Arial,sans-serif\" font-size=\"7.00\">Entity</text>\n",
       "<text text-anchor=\"start\" x=\"217.5\" y=\"-10.4\" font-family=\"Courier New\" font-size=\"7.00\">369DE3D1763AF44708F751CFEF4C448B</text>\n",
       "</g>\n",
       "<!-- C48FD6E4D9590E52B5E7130F1350C024&#45;&gt;369DE3D1763AF44708F751CFEF4C448B -->\n",
       "<g id=\"edge1\" class=\"edge\">\n",
       "<title>C48FD6E4D9590E52B5E7130F1350C024&#45;&gt;369DE3D1763AF44708F751CFEF4C448B</title>\n",
       "<path fill=\"none\" stroke=\"black\" d=\"M169.24,-28C177.72,-28 186.37,-28 194.94,-28\"/>\n",
       "<polygon fill=\"black\" stroke=\"black\" points=\"194.95,-31.5 204.95,-28 194.95,-24.5 194.95,-31.5\"/>\n",
       "</g>\n",
       "<!-- 783F018A2718FBA8F4A7EBB3B857372B -->\n",
       "<g id=\"node3\" class=\"node\">\n",
       "<title>783F018A2718FBA8F4A7EBB3B857372B</title>\n",
       "<path fill=\"#dedede\" stroke=\"#dedede\" d=\"M567,-56C567,-56 422,-56 422,-56 416,-56 410,-50 410,-44 410,-44 410,-12 410,-12 410,-6 416,0 422,0 422,0 567,0 567,0 573,0 579,-6 579,-12 579,-12 579,-44 579,-44 579,-50 573,-56 567,-56\"/>\n",
       "<text text-anchor=\"start\" x=\"441\" y=\"-39.2\" font-family=\"Helvetica,Arial,sans-serif\" font-size=\"11.00\">airlines_feature_group</text>\n",
       "<text text-anchor=\"start\" x=\"472\" y=\"-24.4\" font-family=\"Helvetica,Arial,sans-serif\" font-size=\"7.00\">Feature Group</text>\n",
       "<text text-anchor=\"start\" x=\"422.5\" y=\"-10.4\" font-family=\"Courier New\" font-size=\"7.00\">783F018A2718FBA8F4A7EBB3B857372B</text>\n",
       "</g>\n",
       "<!-- 369DE3D1763AF44708F751CFEF4C448B&#45;&gt;783F018A2718FBA8F4A7EBB3B857372B -->\n",
       "<g id=\"edge2\" class=\"edge\">\n",
       "<title>369DE3D1763AF44708F751CFEF4C448B&#45;&gt;783F018A2718FBA8F4A7EBB3B857372B</title>\n",
       "<path fill=\"none\" stroke=\"black\" d=\"M374.24,-28C382.72,-28 391.37,-28 399.94,-28\"/>\n",
       "<polygon fill=\"black\" stroke=\"black\" points=\"399.95,-31.5 409.95,-28 399.95,-24.5 399.95,-31.5\"/>\n",
       "</g>\n",
       "</g>\n",
       "</svg>\n"
      ],
      "text/plain": [
       "<graphviz.graphs.Digraph at 0x133cd3a00>"
      ]
     },
     "metadata": {},
     "output_type": "display_data"
    }
   ],
   "source": [
    "feature_group_airlines.show()"
   ]
  },
  {
   "cell_type": "markdown",
   "id": "70a74e07",
   "metadata": {},
   "source": [
    "<a id=\"explore_featuregroup\"></a>\n",
    "### 3.3. Explore feature groups"
   ]
  },
  {
   "cell_type": "markdown",
   "id": "5ce9fe9b",
   "metadata": {},
   "source": [
    "You can call the ```select()``` method of the ```FeatureGroup``` instance to return ```Query``` interface. ```Query``` interface can be used to join and filter on the feature group."
   ]
  },
  {
   "cell_type": "code",
   "execution_count": 27,
   "id": "8b502755",
   "metadata": {},
   "outputs": [
    {
     "name": "stderr",
     "output_type": "stream",
     "text": [
      "\r",
      "[Stage 50:>                                                         (0 + 1) / 1]\r"
     ]
    },
    {
     "name": "stdout",
     "output_type": "stream",
     "text": [
      "+----+-----+---+-----------+-------+-------------+--------------+-------------------+\n",
      "|YEAR|MONTH|DAY|DAY_OF_WEEK|AIRLINE|FLIGHT_NUMBER|ORIGIN_AIRPORT|DESTINATION_AIRPORT|\n",
      "+----+-----+---+-----------+-------+-------------+--------------+-------------------+\n",
      "|2015|    1|  1|          4|     UA|         1221|           PDX|                DEN|\n",
      "|2015|    1|  1|          4|     UA|         1607|           SEA|                DEN|\n",
      "|2015|    1|  1|          4|     AA|          328|           DEN|                DFW|\n",
      "|2015|    1|  1|          4|     EV|         5764|           SBN|                ORD|\n",
      "|2015|    1|  1|          4|     F9|         1279|           PHL|                MCO|\n",
      "|2015|    1|  1|          4|     NK|          409|           ORD|                FLL|\n",
      "|2015|    1|  1|          4|     OO|         5460|           RDD|                SFO|\n",
      "|2015|    1|  1|          4|     OO|         6391|           EUG|                DEN|\n",
      "|2015|    1|  1|          4|     UA|         1532|           SFO|                DEN|\n",
      "|2015|    1|  1|          4|     UA|         1167|           ORD|                DEN|\n",
      "+----+-----+---+-----------+-------+-------------+--------------+-------------------+\n",
      "only showing top 10 rows\n",
      "\n"
     ]
    },
    {
     "name": "stderr",
     "output_type": "stream",
     "text": [
      "\r",
      "[Stage 50:==========================================================(1 + 0) / 1]\r",
      "\r",
      "                                                                                \r"
     ]
    }
   ],
   "source": [
    "feature_group_flights.select().show()"
   ]
  },
  {
   "cell_type": "code",
   "execution_count": 28,
   "id": "e3be4df0",
   "metadata": {},
   "outputs": [
    {
     "name": "stdout",
     "output_type": "stream",
     "text": [
      "+---------+--------------------+---------------+-----+-------+--------+----------+\n",
      "|IATA_CODE|             AIRPORT|           CITY|STATE|COUNTRY|LATITUDE| LONGITUDE|\n",
      "+---------+--------------------+---------------+-----+-------+--------+----------+\n",
      "|      GCK|Garden City Regio...|    Garden City|   KS|    USA|37.92752|-100.72441|\n",
      "|      GEG|Spokane Internati...|        Spokane|   WA|    USA|47.61986|-117.53384|\n",
      "|      GFK|Grand Forks Inter...|    Grand Forks|   ND|    USA|47.94926| -97.17611|\n",
      "|      GGG|East Texas Region...|       Longview|   TX|    USA|32.38486| -94.71171|\n",
      "|      GJT|Grand Junction Re...| Grand Junction|   CO|    USA|39.12241|-108.52673|\n",
      "|      GNV|Gainesville Regio...|    Gainesville|   FL|    USA|29.69006| -82.27178|\n",
      "|      GPT|Gulfport-Biloxi I...|Gulfport-Biloxi|   MS|    USA|30.40728| -89.07009|\n",
      "|      GRB|Green Bay-Austin ...|      Green Bay|   WI|    USA|44.48507| -88.12959|\n",
      "|      GRI|Central Nebraska ...|   Grand Island|   NE|    USA|40.96747| -98.30861|\n",
      "|      GRK|Killeen-Fort Hood...|        Killeen|   TX|    USA| 31.0649|  -97.8278|\n",
      "+---------+--------------------+---------------+-----+-------+--------+----------+\n",
      "only showing top 10 rows\n",
      "\n"
     ]
    }
   ],
   "source": [
    "feature_group_airports.select().show()"
   ]
  },
  {
   "cell_type": "code",
   "execution_count": 34,
   "id": "1d7e89ac",
   "metadata": {},
   "outputs": [
    {
     "name": "stdout",
     "output_type": "stream",
     "text": [
      "+---------+--------------------+\n",
      "|IATA_CODE|             AIRLINE|\n",
      "+---------+--------------------+\n",
      "|       EV|Atlantic Southeas...|\n",
      "|       HA|Hawaiian Airlines...|\n",
      "|       UA|United Air Lines ...|\n",
      "|       WN|Southwest Airline...|\n",
      "|       DL|Delta Air Lines Inc.|\n",
      "|       MQ|American Eagle Ai...|\n",
      "|       VX|      Virgin America|\n",
      "|       OO|Skywest Airlines ...|\n",
      "|       AS|Alaska Airlines Inc.|\n",
      "|       NK|    Spirit Air Lines|\n",
      "+---------+--------------------+\n",
      "only showing top 10 rows\n",
      "\n"
     ]
    }
   ],
   "source": [
    "feature_group_airlines.select().show()"
   ]
  },
  {
   "cell_type": "markdown",
   "id": "7f404fcd",
   "metadata": {},
   "source": [
    "<a id=\"feature_group_get_statistics\"></a>\n",
    "##### Get statistics for feature group\n",
    "\n",
    "You can call the ```get_statistics()``` method of the ```FeatureGroup``` instance to fetch feature group details."
   ]
  },
  {
   "cell_type": "code",
   "execution_count": 29,
   "id": "5e29d5ac",
   "metadata": {},
   "outputs": [
    {
     "data": {
      "text/html": [
       "<div>\n",
       "<style scoped>\n",
       "    .dataframe tbody tr th:only-of-type {\n",
       "        vertical-align: middle;\n",
       "    }\n",
       "\n",
       "    .dataframe tbody tr th {\n",
       "        vertical-align: top;\n",
       "    }\n",
       "\n",
       "    .dataframe thead th {\n",
       "        text-align: right;\n",
       "    }\n",
       "</style>\n",
       "<table border=\"1\" class=\"dataframe\">\n",
       "  <thead>\n",
       "    <tr style=\"text-align: right;\">\n",
       "      <th></th>\n",
       "      <th>IATA_CODE</th>\n",
       "      <th>AIRLINE</th>\n",
       "    </tr>\n",
       "  </thead>\n",
       "  <tbody>\n",
       "    <tr>\n",
       "      <th>completeness</th>\n",
       "      <td>1.0</td>\n",
       "      <td>1.0</td>\n",
       "    </tr>\n",
       "    <tr>\n",
       "      <th>approximateNumDistinctValues</th>\n",
       "      <td>13</td>\n",
       "      <td>14</td>\n",
       "    </tr>\n",
       "    <tr>\n",
       "      <th>dataType</th>\n",
       "      <td>String</td>\n",
       "      <td>String</td>\n",
       "    </tr>\n",
       "  </tbody>\n",
       "</table>\n",
       "</div>"
      ],
      "text/plain": [
       "                             IATA_CODE AIRLINE\n",
       "completeness                       1.0     1.0\n",
       "approximateNumDistinctValues        13      14\n",
       "dataType                        String  String"
      ]
     },
     "execution_count": 29,
     "metadata": {},
     "output_type": "execute_result"
    }
   ],
   "source": [
    "feature_group_airlines.get_statistics().to_pandas()"
   ]
  },
  {
   "cell_type": "code",
   "execution_count": 30,
   "id": "2d1b9863",
   "metadata": {},
   "outputs": [
    {
     "data": {
      "text/html": [
       "<div>\n",
       "<style scoped>\n",
       "    .dataframe tbody tr th:only-of-type {\n",
       "        vertical-align: middle;\n",
       "    }\n",
       "\n",
       "    .dataframe tbody tr th {\n",
       "        vertical-align: top;\n",
       "    }\n",
       "\n",
       "    .dataframe thead th {\n",
       "        text-align: right;\n",
       "    }\n",
       "</style>\n",
       "<table border=\"1\" class=\"dataframe\">\n",
       "  <thead>\n",
       "    <tr style=\"text-align: right;\">\n",
       "      <th></th>\n",
       "      <th>DAY</th>\n",
       "      <th>FLIGHT_NUMBER</th>\n",
       "      <th>AIRLINE</th>\n",
       "      <th>ORIGIN_AIRPORT</th>\n",
       "      <th>DAY_OF_WEEK</th>\n",
       "      <th>MONTH</th>\n",
       "      <th>YEAR</th>\n",
       "      <th>DESTINATION_AIRPORT</th>\n",
       "    </tr>\n",
       "  </thead>\n",
       "  <tbody>\n",
       "    <tr>\n",
       "      <th>completeness</th>\n",
       "      <td>1.0</td>\n",
       "      <td>1.0</td>\n",
       "      <td>1.0</td>\n",
       "      <td>1.0</td>\n",
       "      <td>1.0</td>\n",
       "      <td>1.0</td>\n",
       "      <td>1.0</td>\n",
       "      <td>1.0</td>\n",
       "    </tr>\n",
       "    <tr>\n",
       "      <th>approximateNumDistinctValues</th>\n",
       "      <td>1</td>\n",
       "      <td>95</td>\n",
       "      <td>11</td>\n",
       "      <td>42</td>\n",
       "      <td>1</td>\n",
       "      <td>1</td>\n",
       "      <td>1</td>\n",
       "      <td>29</td>\n",
       "    </tr>\n",
       "    <tr>\n",
       "      <th>dataType</th>\n",
       "      <td>Integral</td>\n",
       "      <td>Integral</td>\n",
       "      <td>String</td>\n",
       "      <td>String</td>\n",
       "      <td>Integral</td>\n",
       "      <td>Integral</td>\n",
       "      <td>Integral</td>\n",
       "      <td>String</td>\n",
       "    </tr>\n",
       "    <tr>\n",
       "      <th>sum</th>\n",
       "      <td>100.0</td>\n",
       "      <td>171151.0</td>\n",
       "      <td>NaN</td>\n",
       "      <td>NaN</td>\n",
       "      <td>400.0</td>\n",
       "      <td>100.0</td>\n",
       "      <td>201500.0</td>\n",
       "      <td>NaN</td>\n",
       "    </tr>\n",
       "    <tr>\n",
       "      <th>min</th>\n",
       "      <td>1.0</td>\n",
       "      <td>17.0</td>\n",
       "      <td>NaN</td>\n",
       "      <td>NaN</td>\n",
       "      <td>4.0</td>\n",
       "      <td>1.0</td>\n",
       "      <td>2015.0</td>\n",
       "      <td>NaN</td>\n",
       "    </tr>\n",
       "    <tr>\n",
       "      <th>max</th>\n",
       "      <td>1.0</td>\n",
       "      <td>7419.0</td>\n",
       "      <td>NaN</td>\n",
       "      <td>NaN</td>\n",
       "      <td>4.0</td>\n",
       "      <td>1.0</td>\n",
       "      <td>2015.0</td>\n",
       "      <td>NaN</td>\n",
       "    </tr>\n",
       "    <tr>\n",
       "      <th>mean</th>\n",
       "      <td>1.0</td>\n",
       "      <td>1711.51</td>\n",
       "      <td>NaN</td>\n",
       "      <td>NaN</td>\n",
       "      <td>4.0</td>\n",
       "      <td>1.0</td>\n",
       "      <td>2015.0</td>\n",
       "      <td>NaN</td>\n",
       "    </tr>\n",
       "    <tr>\n",
       "      <th>stddev</th>\n",
       "      <td>0.0</td>\n",
       "      <td>1873.257011</td>\n",
       "      <td>NaN</td>\n",
       "      <td>NaN</td>\n",
       "      <td>0.0</td>\n",
       "      <td>0.0</td>\n",
       "      <td>0.0</td>\n",
       "      <td>NaN</td>\n",
       "    </tr>\n",
       "  </tbody>\n",
       "</table>\n",
       "</div>"
      ],
      "text/plain": [
       "                                   DAY FLIGHT_NUMBER AIRLINE ORIGIN_AIRPORT  \\\n",
       "completeness                       1.0           1.0     1.0            1.0   \n",
       "approximateNumDistinctValues         1            95      11             42   \n",
       "dataType                      Integral      Integral  String         String   \n",
       "sum                              100.0      171151.0     NaN            NaN   \n",
       "min                                1.0          17.0     NaN            NaN   \n",
       "max                                1.0        7419.0     NaN            NaN   \n",
       "mean                               1.0       1711.51     NaN            NaN   \n",
       "stddev                             0.0   1873.257011     NaN            NaN   \n",
       "\n",
       "                             DAY_OF_WEEK     MONTH      YEAR  \\\n",
       "completeness                         1.0       1.0       1.0   \n",
       "approximateNumDistinctValues           1         1         1   \n",
       "dataType                        Integral  Integral  Integral   \n",
       "sum                                400.0     100.0  201500.0   \n",
       "min                                  4.0       1.0    2015.0   \n",
       "max                                  4.0       1.0    2015.0   \n",
       "mean                                 4.0       1.0    2015.0   \n",
       "stddev                               0.0       0.0       0.0   \n",
       "\n",
       "                             DESTINATION_AIRPORT  \n",
       "completeness                                 1.0  \n",
       "approximateNumDistinctValues                  29  \n",
       "dataType                                  String  \n",
       "sum                                          NaN  \n",
       "min                                          NaN  \n",
       "max                                          NaN  \n",
       "mean                                         NaN  \n",
       "stddev                                       NaN  "
      ]
     },
     "execution_count": 30,
     "metadata": {},
     "output_type": "execute_result"
    }
   ],
   "source": [
    "feature_group_flights.get_statistics().to_pandas()"
   ]
  },
  {
   "cell_type": "markdown",
   "id": "deccebb2",
   "metadata": {},
   "source": [
    "<a id=\"select_subset_featuregroup\"></a>\n",
    "### 3.4. Select subset of features"
   ]
  },
  {
   "cell_type": "markdown",
   "id": "4c1298da",
   "metadata": {},
   "source": [
    "You can call the ```select()``` method of the ```FeatureGroup``` instance to return ```Query``` interface. ```Query``` interface can be used to join and filter on the feature group."
   ]
  },
  {
   "cell_type": "code",
   "execution_count": 32,
   "id": "81003f24",
   "metadata": {},
   "outputs": [
    {
     "name": "stdout",
     "output_type": "stream",
     "text": [
      "+---------+\n",
      "|IATA_CODE|\n",
      "+---------+\n",
      "|       EV|\n",
      "|       HA|\n",
      "|       UA|\n",
      "|       WN|\n",
      "|       DL|\n",
      "|       MQ|\n",
      "|       VX|\n",
      "|       OO|\n",
      "|       AS|\n",
      "|       NK|\n",
      "+---------+\n",
      "only showing top 10 rows\n",
      "\n"
     ]
    }
   ],
   "source": [
    "feature_group_airlines.select(['IATA_CODE']).show()"
   ]
  },
  {
   "cell_type": "markdown",
   "id": "3033bf7a",
   "metadata": {},
   "source": [
    "<a id=\"filter_featuregroup\"></a>\n",
    "### 3.5. Filter feature groups"
   ]
  },
  {
   "cell_type": "code",
   "execution_count": 33,
   "id": "994dd6cf",
   "metadata": {},
   "outputs": [
    {
     "name": "stdout",
     "output_type": "stream",
     "text": [
      "+---------+--------------------+\n",
      "|IATA_CODE|             AIRLINE|\n",
      "+---------+--------------------+\n",
      "|       EV|Atlantic Southeas...|\n",
      "+---------+--------------------+\n",
      "\n"
     ]
    }
   ],
   "source": [
    "feature_group_airlines.filter(feature_group_airlines.IATA_CODE == \"EV\").show()"
   ]
  },
  {
   "cell_type": "markdown",
   "id": "dfc0e9a5",
   "metadata": {},
   "source": [
    "<a id=\"join_featuregroup\"></a>\n",
    "### 3.6. Apply joins on feature group\n",
    "As in Pandas, if the feature has the same name on both feature groups, then you can use the `on=[]` paramter. If they have different names, then you can use the `left_on=[]` and `right_on=[]` paramters:"
   ]
  },
  {
   "cell_type": "code",
   "execution_count": 35,
   "id": "6a204ae8",
   "metadata": {},
   "outputs": [
    {
     "name": "stdout",
     "output_type": "stream",
     "text": [
      "+----+-----+---+-----------+-------+-------------+--------------+-------------------+---------+-------+----+-----+-------+--------+---------+\n",
      "|YEAR|MONTH|DAY|DAY_OF_WEEK|AIRLINE|FLIGHT_NUMBER|ORIGIN_AIRPORT|DESTINATION_AIRPORT|IATA_CODE|AIRPORT|CITY|STATE|COUNTRY|LATITUDE|LONGITUDE|\n",
      "+----+-----+---+-----------+-------+-------------+--------------+-------------------+---------+-------+----+-----+-------+--------+---------+\n",
      "|2015|    1|  1|          4|     UA|         1221|           PDX|                DEN|     null|   null|null| null|   null|    null|     null|\n",
      "|2015|    1|  1|          4|     UA|         1607|           SEA|                DEN|     null|   null|null| null|   null|    null|     null|\n",
      "|2015|    1|  1|          4|     AA|          328|           DEN|                DFW|     null|   null|null| null|   null|    null|     null|\n",
      "|2015|    1|  1|          4|     EV|         5764|           SBN|                ORD|     null|   null|null| null|   null|    null|     null|\n",
      "|2015|    1|  1|          4|     F9|         1279|           PHL|                MCO|     null|   null|null| null|   null|    null|     null|\n",
      "+----+-----+---+-----------+-------+-------------+--------------+-------------------+---------+-------+----+-----+-------+--------+---------+\n",
      "only showing top 5 rows\n",
      "\n"
     ]
    }
   ],
   "source": [
    "from ads.feature_store.common.enums import JoinType\n",
    "\n",
    "query = (\n",
    "    feature_group_flights.select()\n",
    "    .join(feature_group_airlines.select(), left_on=['ORIGIN_AIRPORT'], right_on=['IATA_CODE'], join_type=JoinType.LEFT)\n",
    "    .join(feature_group_airports.select(), left_on=['AIRLINE'], right_on=['IATA_CODE'], join_type=JoinType.LEFT)\n",
    ")\n",
    "query.show(5)"
   ]
  },
  {
   "cell_type": "code",
   "execution_count": 36,
   "id": "43b2da35",
   "metadata": {},
   "outputs": [
    {
     "data": {
      "text/plain": [
       "'SELECT fg_2.YEAR YEAR, fg_2.MONTH MONTH, fg_2.DAY DAY, fg_2.DAY_OF_WEEK DAY_OF_WEEK, fg_2.AIRLINE AIRLINE, fg_2.FLIGHT_NUMBER FLIGHT_NUMBER, fg_2.ORIGIN_AIRPORT ORIGIN_AIRPORT, fg_2.DESTINATION_AIRPORT DESTINATION_AIRPORT, fg_0.IATA_CODE IATA_CODE, fg_1.AIRPORT AIRPORT, fg_1.CITY CITY, fg_1.STATE STATE, fg_1.COUNTRY COUNTRY, fg_1.LATITUDE LATITUDE, fg_1.LONGITUDE LONGITUDE FROM `369DE3D1763AF44708F751CFEF4C448B`.flights_feature_group fg_2 LEFT JOIN `369DE3D1763AF44708F751CFEF4C448B`.airlines_feature_group fg_0 ON fg_2.ORIGIN_AIRPORT = fg_0.IATA_CODE LEFT JOIN `369DE3D1763AF44708F751CFEF4C448B`.airport_feature_group fg_1 ON fg_2.AIRLINE = fg_1.IATA_CODE'"
      ]
     },
     "execution_count": 36,
     "metadata": {},
     "output_type": "execute_result"
    }
   ],
   "source": [
    "query.to_string()"
   ]
  },
  {
   "cell_type": "markdown",
   "id": "5cfd1e29",
   "metadata": {},
   "source": [
    "<a id=\"create_dataset\"></a>\n",
    "### 3.7 Create dataset\n",
    "A dataset is a collection of feature snapshots that are joined together to either train a model or perform model inference."
   ]
  },
  {
   "cell_type": "code",
   "execution_count": 39,
   "id": "b2eddc43",
   "metadata": {},
   "outputs": [],
   "source": [
    "dataset = (\n",
    "    Dataset()\n",
    "    .with_description(\"Combined dataset for flights\")\n",
    "    .with_compartment_id(compartment_id)\n",
    "    .with_name(\"flights_dataset\")\n",
    "    .with_entity_id(entity.id)\n",
    "    .with_feature_store_id(feature_store.id)\n",
    "    .with_query(query.to_string())\n",
    ")"
   ]
  },
  {
   "cell_type": "markdown",
   "id": "a5abefb8",
   "metadata": {},
   "source": [
    "<a id=\"create_dataset\"></a>\n",
    "##### Create Dataset\n",
    "\n",
    "Call the ```.create()``` method of the Dataset instance to create a dataset."
   ]
  },
  {
   "cell_type": "code",
   "execution_count": 40,
   "id": "d360680a",
   "metadata": {},
   "outputs": [
    {
     "data": {
      "text/plain": [
       "kind: Dataset\n",
       "spec:\n",
       "  compartmentId: ocid1.tenancy.oc1..aaaaaaaa462hfhplpx652b32ix62xrdijppq2c7okwcqjlgrbknhgtj2kofa\n",
       "  description: Combined dataset for flights\n",
       "  entityId: 369DE3D1763AF44708F751CFEF4C448B\n",
       "  featureStoreId: C48FD6E4D9590E52B5E7130F1350C024\n",
       "  id: A4310D4FF8BC7C9B100D7790E59B7287\n",
       "  name: flights_dataset\n",
       "  query: SELECT fg_2.YEAR YEAR, fg_2.MONTH MONTH, fg_2.DAY DAY, fg_2.DAY_OF_WEEK DAY_OF_WEEK,\n",
       "    fg_2.AIRLINE AIRLINE, fg_2.FLIGHT_NUMBER FLIGHT_NUMBER, fg_2.ORIGIN_AIRPORT ORIGIN_AIRPORT,\n",
       "    fg_2.DESTINATION_AIRPORT DESTINATION_AIRPORT, fg_0.IATA_CODE IATA_CODE, fg_1.AIRPORT\n",
       "    AIRPORT, fg_1.CITY CITY, fg_1.STATE STATE, fg_1.COUNTRY COUNTRY, fg_1.LATITUDE\n",
       "    LATITUDE, fg_1.LONGITUDE LONGITUDE FROM `369DE3D1763AF44708F751CFEF4C448B`.flights_feature_group\n",
       "    fg_2 LEFT JOIN `369DE3D1763AF44708F751CFEF4C448B`.airlines_feature_group fg_0\n",
       "    ON fg_2.ORIGIN_AIRPORT = fg_0.IATA_CODE LEFT JOIN `369DE3D1763AF44708F751CFEF4C448B`.airport_feature_group\n",
       "    fg_1 ON fg_2.AIRLINE = fg_1.IATA_CODE\n",
       "  statisticsConfig:\n",
       "    isEnabled: true\n",
       "type: dataset"
      ]
     },
     "execution_count": 40,
     "metadata": {},
     "output_type": "execute_result"
    }
   ],
   "source": [
    "dataset.create()"
   ]
  },
  {
   "cell_type": "markdown",
   "id": "3581f734",
   "metadata": {},
   "source": [
    "<a id=\"materialise_dataset\"></a>\n",
    "##### Materialise dataset\n",
    "\n",
    "You can call the ```materialise() -> DatasetJob``` method of the ```Dataset``` instance to load the data to dataset. To persist the dataset and save dataset data along the metadata in the feature store, call the ```.materialise()```"
   ]
  },
  {
   "cell_type": "code",
   "execution_count": 42,
   "id": "73bc762c",
   "metadata": {},
   "outputs": [
    {
     "name": "stderr",
     "output_type": "stream",
     "text": [
      "                                                                                \r"
     ]
    },
    {
     "name": "stdout",
     "output_type": "stream",
     "text": [
      "23/05/15 20:58:01 WARN HiveExternalCatalog: Couldn't find corresponding Hive SerDe for data source provider delta. Persisting data source table `369de3d1763af44708f751cfef4c448b`.`flights_dataset` into Hive metastore in Spark SQL specific format, which is NOT compatible with Hive.\n"
     ]
    },
    {
     "name": "stderr",
     "output_type": "stream",
     "text": [
      "                                                                                \r"
     ]
    }
   ],
   "source": [
    "dataset.materialise()"
   ]
  },
  {
   "cell_type": "markdown",
   "id": "bdc4b90f",
   "metadata": {},
   "source": [
    "<a id=\"visualise_lineage\"></a>\n",
    "##### Visualise lineage\n",
    "\n",
    "Use the ```.show()``` method on the Dataset instance to visualize the lineage of the dataset."
   ]
  },
  {
   "cell_type": "code",
   "execution_count": 44,
   "id": "5536e5ed",
   "metadata": {},
   "outputs": [
    {
     "data": {
      "image/svg+xml": [
       "<?xml version=\"1.0\" encoding=\"UTF-8\" standalone=\"no\"?>\n",
       "<!DOCTYPE svg PUBLIC \"-//W3C//DTD SVG 1.1//EN\"\n",
       " \"http://www.w3.org/Graphics/SVG/1.1/DTD/svg11.dtd\">\n",
       "<!-- Generated by graphviz version 5.0.1 (20220820.1526)\n",
       " -->\n",
       "<!-- Pages: 1 -->\n",
       "<svg width=\"792pt\" height=\"250pt\"\n",
       " viewBox=\"0.00 0.00 792.00 250.00\" xmlns=\"http://www.w3.org/2000/svg\" xmlns:xlink=\"http://www.w3.org/1999/xlink\">\n",
       "<g id=\"graph0\" class=\"graph\" transform=\"scale(1 1) rotate(0) translate(4 246)\">\n",
       "<polygon fill=\"white\" stroke=\"none\" points=\"-4,4 -4,-246 788,-246 788,4 -4,4\"/>\n",
       "<!-- C48FD6E4D9590E52B5E7130F1350C024 -->\n",
       "<g id=\"node1\" class=\"node\">\n",
       "<title>C48FD6E4D9590E52B5E7130F1350C024</title>\n",
       "<path fill=\"#dedede\" stroke=\"#dedede\" d=\"M157,-158C157,-158 12,-158 12,-158 6,-158 0,-152 0,-146 0,-146 0,-114 0,-114 0,-108 6,-102 12,-102 12,-102 157,-102 157,-102 163,-102 169,-108 169,-114 169,-114 169,-146 169,-146 169,-152 163,-158 157,-158\"/>\n",
       "<text text-anchor=\"start\" x=\"54\" y=\"-141.2\" font-family=\"Helvetica,Arial,sans-serif\" font-size=\"11.00\">flights details</text>\n",
       "<text text-anchor=\"start\" x=\"63.5\" y=\"-126.4\" font-family=\"Helvetica,Arial,sans-serif\" font-size=\"7.00\">Feature Store</text>\n",
       "<text text-anchor=\"start\" x=\"12.5\" y=\"-112.4\" font-family=\"Courier New\" font-size=\"7.00\">C48FD6E4D9590E52B5E7130F1350C024</text>\n",
       "</g>\n",
       "<!-- 369DE3D1763AF44708F751CFEF4C448B -->\n",
       "<g id=\"node2\" class=\"node\">\n",
       "<title>369DE3D1763AF44708F751CFEF4C448B</title>\n",
       "<path fill=\"#dedede\" stroke=\"#dedede\" d=\"M362,-158C362,-158 217,-158 217,-158 211,-158 205,-152 205,-146 205,-146 205,-114 205,-114 205,-108 211,-102 217,-102 217,-102 362,-102 362,-102 368,-102 374,-108 374,-114 374,-114 374,-146 374,-146 374,-152 368,-158 362,-158\"/>\n",
       "<text text-anchor=\"start\" x=\"259.5\" y=\"-141.2\" font-family=\"Helvetica,Arial,sans-serif\" font-size=\"11.00\">Flight details</text>\n",
       "<text text-anchor=\"start\" x=\"280.5\" y=\"-126.4\" font-family=\"Helvetica,Arial,sans-serif\" font-size=\"7.00\">Entity</text>\n",
       "<text text-anchor=\"start\" x=\"217.5\" y=\"-112.4\" font-family=\"Courier New\" font-size=\"7.00\">369DE3D1763AF44708F751CFEF4C448B</text>\n",
       "</g>\n",
       "<!-- C48FD6E4D9590E52B5E7130F1350C024&#45;&gt;369DE3D1763AF44708F751CFEF4C448B -->\n",
       "<g id=\"edge1\" class=\"edge\">\n",
       "<title>C48FD6E4D9590E52B5E7130F1350C024&#45;&gt;369DE3D1763AF44708F751CFEF4C448B</title>\n",
       "<path fill=\"none\" stroke=\"black\" d=\"M169.24,-130C177.72,-130 186.37,-130 194.94,-130\"/>\n",
       "<polygon fill=\"black\" stroke=\"black\" points=\"194.95,-133.5 204.95,-130 194.95,-126.5 194.95,-133.5\"/>\n",
       "</g>\n",
       "<!-- 52387B829B77562EFB1C49B5386A92FD -->\n",
       "<g id=\"node3\" class=\"node\">\n",
       "<title>52387B829B77562EFB1C49B5386A92FD</title>\n",
       "<path fill=\"#dedede\" stroke=\"#dedede\" d=\"M567,-242C567,-242 422,-242 422,-242 416,-242 410,-236 410,-230 410,-230 410,-198 410,-198 410,-192 416,-186 422,-186 422,-186 567,-186 567,-186 573,-186 579,-192 579,-198 579,-198 579,-230 579,-230 579,-236 573,-242 567,-242\"/>\n",
       "<text text-anchor=\"start\" x=\"444\" y=\"-225.2\" font-family=\"Helvetica,Arial,sans-serif\" font-size=\"11.00\">flights_feature_group</text>\n",
       "<text text-anchor=\"start\" x=\"472\" y=\"-210.4\" font-family=\"Helvetica,Arial,sans-serif\" font-size=\"7.00\">Feature Group</text>\n",
       "<text text-anchor=\"start\" x=\"422.5\" y=\"-196.4\" font-family=\"Courier New\" font-size=\"7.00\">52387B829B77562EFB1C49B5386A92FD</text>\n",
       "</g>\n",
       "<!-- 369DE3D1763AF44708F751CFEF4C448B&#45;&gt;52387B829B77562EFB1C49B5386A92FD -->\n",
       "<g id=\"edge2\" class=\"edge\">\n",
       "<title>369DE3D1763AF44708F751CFEF4C448B&#45;&gt;52387B829B77562EFB1C49B5386A92FD</title>\n",
       "<path fill=\"none\" stroke=\"black\" d=\"M358.38,-158.09C377,-165.79 397.32,-174.2 416.42,-182.11\"/>\n",
       "<polygon fill=\"black\" stroke=\"black\" points=\"415.11,-185.35 425.69,-185.94 417.78,-178.88 415.11,-185.35\"/>\n",
       "</g>\n",
       "<!-- A4310D4FF8BC7C9B100D7790E59B7287 -->\n",
       "<g id=\"node4\" class=\"node\">\n",
       "<title>A4310D4FF8BC7C9B100D7790E59B7287</title>\n",
       "<path fill=\"#dedede\" stroke=\"#dedede\" d=\"M772,-158C772,-158 627,-158 627,-158 621,-158 615,-152 615,-146 615,-146 615,-114 615,-114 615,-108 621,-102 627,-102 627,-102 772,-102 772,-102 778,-102 784,-108 784,-114 784,-114 784,-146 784,-146 784,-152 778,-158 772,-158\"/>\n",
       "<text text-anchor=\"start\" x=\"665\" y=\"-141.2\" font-family=\"Helvetica,Arial,sans-serif\" font-size=\"11.00\">flights_dataset</text>\n",
       "<text text-anchor=\"start\" x=\"687.5\" y=\"-126.4\" font-family=\"Helvetica,Arial,sans-serif\" font-size=\"7.00\">Dataset</text>\n",
       "<text text-anchor=\"start\" x=\"627.5\" y=\"-112.4\" font-family=\"Courier New\" font-size=\"7.00\">A4310D4FF8BC7C9B100D7790E59B7287</text>\n",
       "</g>\n",
       "<!-- 369DE3D1763AF44708F751CFEF4C448B&#45;&gt;A4310D4FF8BC7C9B100D7790E59B7287 -->\n",
       "<g id=\"edge3\" class=\"edge\">\n",
       "<title>369DE3D1763AF44708F751CFEF4C448B&#45;&gt;A4310D4FF8BC7C9B100D7790E59B7287</title>\n",
       "<path fill=\"none\" stroke=\"black\" d=\"M374.03,-137.09C386.09,-137.89 398.36,-138.56 410,-139 485.06,-141.82 503.94,-141.82 579,-139 587.37,-138.69 596.06,-138.25 604.76,-137.73\"/>\n",
       "<polygon fill=\"black\" stroke=\"black\" points=\"605.21,-141.21 614.97,-137.09 604.77,-134.22 605.21,-141.21\"/>\n",
       "</g>\n",
       "<!-- 8B5787EC2C4502654CCFD342587F8AB9 -->\n",
       "<g id=\"node5\" class=\"node\">\n",
       "<title>8B5787EC2C4502654CCFD342587F8AB9</title>\n",
       "<path fill=\"#dedede\" stroke=\"#dedede\" d=\"M567,-130C567,-130 422,-130 422,-130 416,-130 410,-124 410,-118 410,-118 410,-86 410,-86 410,-80 416,-74 422,-74 422,-74 567,-74 567,-74 573,-74 579,-80 579,-86 579,-86 579,-118 579,-118 579,-124 573,-130 567,-130\"/>\n",
       "<text text-anchor=\"start\" x=\"442.5\" y=\"-113.2\" font-family=\"Helvetica,Arial,sans-serif\" font-size=\"11.00\">airport_feature_group</text>\n",
       "<text text-anchor=\"start\" x=\"472\" y=\"-98.4\" font-family=\"Helvetica,Arial,sans-serif\" font-size=\"7.00\">Feature Group</text>\n",
       "<text text-anchor=\"start\" x=\"422.5\" y=\"-84.4\" font-family=\"Courier New\" font-size=\"7.00\">8B5787EC2C4502654CCFD342587F8AB9</text>\n",
       "</g>\n",
       "<!-- 369DE3D1763AF44708F751CFEF4C448B&#45;&gt;8B5787EC2C4502654CCFD342587F8AB9 -->\n",
       "<g id=\"edge5\" class=\"edge\">\n",
       "<title>369DE3D1763AF44708F751CFEF4C448B&#45;&gt;8B5787EC2C4502654CCFD342587F8AB9</title>\n",
       "<path fill=\"none\" stroke=\"black\" d=\"M374.24,-118.45C382.72,-117.28 391.37,-116.09 399.94,-114.9\"/>\n",
       "<polygon fill=\"black\" stroke=\"black\" points=\"400.52,-118.36 409.95,-113.52 399.57,-111.42 400.52,-118.36\"/>\n",
       "</g>\n",
       "<!-- 783F018A2718FBA8F4A7EBB3B857372B -->\n",
       "<g id=\"node6\" class=\"node\">\n",
       "<title>783F018A2718FBA8F4A7EBB3B857372B</title>\n",
       "<path fill=\"#dedede\" stroke=\"#dedede\" d=\"M567,-56C567,-56 422,-56 422,-56 416,-56 410,-50 410,-44 410,-44 410,-12 410,-12 410,-6 416,0 422,0 422,0 567,0 567,0 573,0 579,-6 579,-12 579,-12 579,-44 579,-44 579,-50 573,-56 567,-56\"/>\n",
       "<text text-anchor=\"start\" x=\"441\" y=\"-39.2\" font-family=\"Helvetica,Arial,sans-serif\" font-size=\"11.00\">airlines_feature_group</text>\n",
       "<text text-anchor=\"start\" x=\"472\" y=\"-24.4\" font-family=\"Helvetica,Arial,sans-serif\" font-size=\"7.00\">Feature Group</text>\n",
       "<text text-anchor=\"start\" x=\"422.5\" y=\"-10.4\" font-family=\"Courier New\" font-size=\"7.00\">783F018A2718FBA8F4A7EBB3B857372B</text>\n",
       "</g>\n",
       "<!-- 369DE3D1763AF44708F751CFEF4C448B&#45;&gt;783F018A2718FBA8F4A7EBB3B857372B -->\n",
       "<g id=\"edge7\" class=\"edge\">\n",
       "<title>369DE3D1763AF44708F751CFEF4C448B&#45;&gt;783F018A2718FBA8F4A7EBB3B857372B</title>\n",
       "<path fill=\"none\" stroke=\"black\" d=\"M340.03,-101.89C361.35,-90.09 386.69,-76.48 410,-65 413.08,-63.48 416.24,-61.96 419.44,-60.44\"/>\n",
       "<polygon fill=\"black\" stroke=\"black\" points=\"420.96,-63.59 428.53,-56.17 417.99,-57.25 420.96,-63.59\"/>\n",
       "</g>\n",
       "<!-- 52387B829B77562EFB1C49B5386A92FD&#45;&gt;A4310D4FF8BC7C9B100D7790E59B7287 -->\n",
       "<g id=\"edge4\" class=\"edge\">\n",
       "<title>52387B829B77562EFB1C49B5386A92FD&#45;&gt;A4310D4FF8BC7C9B100D7790E59B7287</title>\n",
       "<path fill=\"none\" stroke=\"black\" d=\"M563.38,-185.91C582,-178.21 602.32,-169.8 621.42,-161.89\"/>\n",
       "<polygon fill=\"black\" stroke=\"black\" points=\"622.78,-165.12 630.69,-158.06 620.11,-158.65 622.78,-165.12\"/>\n",
       "</g>\n",
       "<!-- 8B5787EC2C4502654CCFD342587F8AB9&#45;&gt;A4310D4FF8BC7C9B100D7790E59B7287 -->\n",
       "<g id=\"edge6\" class=\"edge\">\n",
       "<title>8B5787EC2C4502654CCFD342587F8AB9&#45;&gt;A4310D4FF8BC7C9B100D7790E59B7287</title>\n",
       "<path fill=\"none\" stroke=\"black\" d=\"M579.24,-113.55C587.72,-114.72 596.37,-115.91 604.94,-117.1\"/>\n",
       "<polygon fill=\"black\" stroke=\"black\" points=\"604.57,-120.58 614.95,-118.48 605.52,-113.64 604.57,-120.58\"/>\n",
       "</g>\n",
       "<!-- 783F018A2718FBA8F4A7EBB3B857372B&#45;&gt;A4310D4FF8BC7C9B100D7790E59B7287 -->\n",
       "<g id=\"edge8\" class=\"edge\">\n",
       "<title>783F018A2718FBA8F4A7EBB3B857372B&#45;&gt;A4310D4FF8BC7C9B100D7790E59B7287</title>\n",
       "<path fill=\"none\" stroke=\"black\" d=\"M560.47,-56.17C566.76,-59.08 573.03,-62.06 579,-65 599.12,-74.91 620.76,-86.41 640.01,-96.96\"/>\n",
       "<polygon fill=\"black\" stroke=\"black\" points=\"638.52,-100.13 648.97,-101.89 641.9,-94 638.52,-100.13\"/>\n",
       "</g>\n",
       "</g>\n",
       "</svg>\n"
      ],
      "text/plain": [
       "<graphviz.graphs.Digraph at 0x172416d70>"
      ]
     },
     "metadata": {},
     "output_type": "display_data"
    }
   ],
   "source": [
    "dataset.show()"
   ]
  },
  {
   "cell_type": "markdown",
   "id": "86bd4115",
   "metadata": {},
   "source": [
    "<a id=\"profile_dataset\"></a>\n",
    "##### Profilie dataset\n",
    "You can call the ```.profile()``` method of the ```Dataset``` instance to profile the dataset."
   ]
  },
  {
   "cell_type": "code",
   "execution_count": 46,
   "id": "8c81e488",
   "metadata": {},
   "outputs": [
    {
     "name": "stdout",
     "output_type": "stream",
     "text": [
      "+------+--------------------+--------------------+-----------+--------------------+--------------------+-------------------+----------------+--------+-----------+----------+----------------+----------------+--------------------+\n",
      "|format|                  id|                name|description|            location|           createdAt|       lastModified|partitionColumns|numFiles|sizeInBytes|properties|minReaderVersion|minWriterVersion|       tableFeatures|\n",
      "+------+--------------------+--------------------+-----------+--------------------+--------------------+-------------------+----------------+--------+-----------+----------+----------------+----------------+--------------------+\n",
      "| delta|6f2bdeb1-6068-440...|369de3d1763af4470...|       null|file:/Users/kshit...|2023-05-15 20:57:...|2023-05-15 20:57:56|              []|       8|      32727|        {}|               1|               2|[appendOnly, inva...|\n",
      "+------+--------------------+--------------------+-----------+--------------------+--------------------+-------------------+----------------+--------+-----------+----------+----------------+----------------+--------------------+\n",
      "\n"
     ]
    }
   ],
   "source": [
    "dataset.profile().show()"
   ]
  },
  {
   "cell_type": "markdown",
   "id": "9f19fd5f",
   "metadata": {},
   "source": [
    "<a id=\"preview_dataset\"></a>\n",
    "##### Preview dataset\n",
    "You can call the ```.preview()``` method of the ```Dataset``` instance to preview the dataset."
   ]
  },
  {
   "cell_type": "code",
   "execution_count": 47,
   "id": "08df9f92",
   "metadata": {},
   "outputs": [
    {
     "name": "stdout",
     "output_type": "stream",
     "text": [
      "+----+-----+---+-----------+-------+-------------+--------------+-------------------+---------+-------+----+-----+-------+--------+---------+\n",
      "|YEAR|MONTH|DAY|DAY_OF_WEEK|AIRLINE|FLIGHT_NUMBER|ORIGIN_AIRPORT|DESTINATION_AIRPORT|IATA_CODE|AIRPORT|CITY|STATE|COUNTRY|LATITUDE|LONGITUDE|\n",
      "+----+-----+---+-----------+-------+-------------+--------------+-------------------+---------+-------+----+-----+-------+--------+---------+\n",
      "|2015|    1|  1|          4|     EV|         4354|           MKE|                IAH|     null|   null|null| null|   null|    null|     null|\n",
      "|2015|    1|  1|          4|     US|          425|           PDX|                PHX|     null|   null|null| null|   null|    null|     null|\n",
      "|2015|    1|  1|          4|     AA|           89|           IAH|                MIA|     null|   null|null| null|   null|    null|     null|\n",
      "|2015|    1|  1|          4|     DL|         2099|           BNA|                DTW|     null|   null|null| null|   null|    null|     null|\n",
      "|2015|    1|  1|          4|     EV|         4685|           BRO|                IAH|     null|   null|null| null|   null|    null|     null|\n",
      "|2015|    1|  1|          4|     EV|         5583|           VPS|                ATL|     null|   null|null| null|   null|    null|     null|\n",
      "|2015|    1|  1|          4|     OO|         5484|           BOI|                SFO|     null|   null|null| null|   null|    null|     null|\n",
      "|2015|    1|  1|          4|     OO|         7370|           BJI|                MSP|     null|   null|null| null|   null|    null|     null|\n",
      "|2015|    1|  1|          4|     HA|          103|           HNL|                LIH|     null|   null|null| null|   null|    null|     null|\n",
      "|2015|    1|  1|          4|     EV|         5187|           BNA|                ATL|     null|   null|null| null|   null|    null|     null|\n",
      "+----+-----+---+-----------+-------+-------------+--------------+-------------------+---------+-------+----+-----+-------+--------+---------+\n",
      "\n"
     ]
    }
   ],
   "source": [
    "dataset.preview().show()"
   ]
  },
  {
   "cell_type": "markdown",
   "id": "aa0f02ab",
   "metadata": {},
   "source": [
    "<a id=\"dataset_get_statistics\"></a>\n",
    "##### Get statistics for dataset\n",
    "\n",
    "You can call the ```get_statistics()``` method of the ```Dataset``` instance to fetch dataset details."
   ]
  },
  {
   "cell_type": "code",
   "execution_count": null,
   "id": "3463481c",
   "metadata": {},
   "outputs": [],
   "source": [
    "dataset.get_statistics().to_pandas()"
   ]
  },
  {
   "cell_type": "markdown",
   "id": "35641534",
   "metadata": {},
   "source": [
    "<a id=\"sql_query\"></a>\n",
    "### 3.8  Freeform SQL query\n",
    "Feature store provides a way to query feature store using free flow query. User need to mention `entity id` as the database name and `feature group name` as the table name to query feature store. This functionality can be useful if you need to express more complex queries for your use case"
   ]
  },
  {
   "cell_type": "code",
   "execution_count": 80,
   "id": "469ef2e0",
   "metadata": {},
   "outputs": [],
   "source": [
    "entity_id = entity.id\n",
    "\n",
    "sql = (f\"SELECT flights_feature_group.*, airport_feature_group.IATA_CODE \"\n",
    "       f\"FROM `{entity_id}`.flights_feature_group flights_feature_group \"\n",
    "       f\"LEFT JOIN `{entity_id}`.airport_feature_group airport_feature_group \"\n",
    "       f\"ON flights_feature_group.ORIGIN_AIRPORT=airport_feature_group.IATA_CODE\")"
   ]
  },
  {
   "cell_type": "code",
   "execution_count": 82,
   "id": "467e9c62",
   "metadata": {},
   "outputs": [
    {
     "name": "stdout",
     "output_type": "stream",
     "text": [
      "+----+-----+---+-----------+-------+-------------+--------------+-------------------+---------+\n",
      "|YEAR|MONTH|DAY|DAY_OF_WEEK|AIRLINE|FLIGHT_NUMBER|ORIGIN_AIRPORT|DESTINATION_AIRPORT|IATA_CODE|\n",
      "+----+-----+---+-----------+-------+-------------+--------------+-------------------+---------+\n",
      "|2015|    1|  1|          4|     UA|         1221|           PDX|                DEN|      PDX|\n",
      "|2015|    1|  1|          4|     UA|         1607|           SEA|                DEN|      SEA|\n",
      "|2015|    1|  1|          4|     AA|          328|           DEN|                DFW|      DEN|\n",
      "|2015|    1|  1|          4|     EV|         5764|           SBN|                ORD|      SBN|\n",
      "|2015|    1|  1|          4|     F9|         1279|           PHL|                MCO|      PHL|\n",
      "|2015|    1|  1|          4|     NK|          409|           ORD|                FLL|      ORD|\n",
      "|2015|    1|  1|          4|     OO|         5460|           RDD|                SFO|      RDD|\n",
      "|2015|    1|  1|          4|     OO|         6391|           EUG|                DEN|      EUG|\n",
      "|2015|    1|  1|          4|     UA|         1532|           SFO|                DEN|      SFO|\n",
      "|2015|    1|  1|          4|     UA|         1167|           ORD|                DEN|      ORD|\n",
      "|2015|    1|  1|          4|     UA|         1012|           IAD|                IAH|      IAD|\n",
      "|2015|    1|  1|          4|     B6|         2001|           BUF|                JFK|      BUF|\n",
      "|2015|    1|  1|          4|     B6|         2807|           PWM|                JFK|      PWM|\n",
      "|2015|    1|  1|          4|     B6|         2023|           JFK|                SJU|      JFK|\n",
      "|2015|    1|  1|          4|     EV|         4557|           CRP|                IAH|      CRP|\n",
      "|2015|    1|  1|          4|     EV|         5241|           PIA|                DTW|      PIA|\n",
      "|2015|    1|  1|          4|     B6|          668|           PSE|                MCO|      PSE|\n",
      "|2015|    1|  1|          4|     UA|         1162|           BQN|                EWR|      BQN|\n",
      "|2015|    1|  1|          4|     B6|         1030|           BQN|                MCO|      BQN|\n",
      "|2015|    1|  1|          4|     B6|          262|           SJU|                BOS|      SJU|\n",
      "+----+-----+---+-----------+-------+-------------+--------------+-------------------+---------+\n",
      "only showing top 20 rows\n",
      "\n"
     ]
    }
   ],
   "source": [
    "feature_store.sql(sql).show()"
   ]
  },
  {
   "cell_type": "markdown",
   "id": "ca6cc5bc",
   "metadata": {},
   "source": [
    "<a id='ref'></a>\n",
    "# References\n",
    "\n",
    "- [ADS Library Documentation](https://accelerated-data-science.readthedocs.io/en/latest/index.html)\n",
    "- [Data Science YouTube Videos](https://www.youtube.com/playlist?list=PLKCk3OyNwIzv6CWMhvqSB_8MLJIZdO80L)\n",
    "- [OCI Data Science Documentation](https://docs.cloud.oracle.com/en-us/iaas/data-science/using/data-science.htm)\n",
    "- [Oracle Data & AI Blog](https://blogs.oracle.com/datascience/)"
   ]
  }
 ],
 "metadata": {
  "kernelspec": {
   "display_name": "Python 3 (ipykernel)",
   "language": "python",
   "name": "python3"
  },
  "language_info": {
   "codemirror_mode": {
    "name": "ipython",
    "version": 3
   },
   "file_extension": ".py",
   "mimetype": "text/x-python",
   "name": "python",
   "nbconvert_exporter": "python",
   "pygments_lexer": "ipython3",
   "version": "3.10.10"
  }
 },
 "nbformat": 4,
 "nbformat_minor": 5
}
