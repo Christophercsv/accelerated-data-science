{
 "cells": [
  {
   "cell_type": "raw",
   "id": "ad43bfac",
   "metadata": {},
   "source": [
    "@notebook{feature_store-querying.ipynb,\n",
    "    title: Using feature store for feature querying using pandas like interface for query and join,\n",
    "    summary: Feature store quickstart guide to perform feature querying using pandas like interface for query and join.,\n",
    "    developed_on: pyspark32_p38_cpu_feature_store_v1,\n",
    "    keywords: feature store, querying,\n",
    "    license: Universal Permissive License v 1.0\n",
    "}"
   ]
  },
  {
   "cell_type": "code",
   "execution_count": 1,
   "id": "31964aa7",
   "metadata": {
    "ExecuteTime": {
     "end_time": "2023-05-25T05:43:41.665028Z",
     "start_time": "2023-05-25T05:43:33.673781Z"
    }
   },
   "outputs": [
    {
     "name": "stdout",
     "output_type": "stream",
     "text": [
      "zsh:1: command not found: odsc\r\n"
     ]
    }
   ],
   "source": [
    "# Upgrade Oracle ADS to pick up the latest preview version to maintain compatibility with Oracle Cloud Infrastructure.\n",
    "\n",
    "!odsc conda install --uri https://objectstorage.us-ashburn-1.oraclecloud.com/p/qnzzHQPGQYghdyH206yDk25MZH1FaMGdNNhKUl74BhRsW4muvFyGViKIqpxgnxI3/n/ociodscdev/b/ads_conda_pack_builds/o/PySpark_3/teamcity_20230512_084146_38972446/f227145b7ee5fc1c73a69ebaa671b81e/PySpark_3.2_and_Feature_Store.tar.gz"
   ]
  },
  {
   "cell_type": "markdown",
   "id": "d752b32e",
   "metadata": {},
   "source": [
    "Oracle Data Science service sample notebook.\n",
    "\n",
    "Copyright (c) 2022 Oracle, Inc. All rights reserved. Licensed under the [Universal Permissive License v 1.0](https://oss.oracle.com/licenses/upl).\n",
    "\n",
    "***\n",
    "\n",
    "# <font color=\"red\">Feature store handling querying operations</font>\n",
    "<p style=\"margin-left:10%; margin-right:10%;\">by the <font color=\"teal\">Oracle Cloud Infrastructure Data Science Service.</font></p>\n",
    "\n",
    "---\n",
    "# Overview:\n",
    "---\n",
    "Managing many datasets, data-sources and transformations for machine learning is complex and costly. Poorly cleaned data, data issues, bugs in transformations, data drift and training serving skew all leads to increased model development time and worse model performance. Here, feature store is well positioned to solve many of the problems since it provides a centralised way to transform and access data for training and serving time and helps defines a standardised pipeline for ingestion of data and querying of data. This notebook demonstrates how to use feature store within a long lasting [Oracle Cloud Infrastructure Data Flow](https://docs.oracle.com/en-us/iaas/data-flow/using/home.htm) cluster.\n",
    "\n",
    "Compatible conda pack: [PySpark 3.2 and Feature store](https://docs.oracle.com/iaas/data-science/using/conda-pyspark-fam.htm) for CPU on Python 3.8\n",
    "\n",
    "## Contents:\n",
    "\n",
    "- <a href=\"#concepts\">1. Introduction</a>\n",
    "- <a href='#pre-requisites'>1. Pre-requisites</a>\n",
    "    - <a href='#policies'>2.1 Policies</a>\n",
    "    - <a href='#prerequisites_authentication'>2.2 Authentication</a>\n",
    "    - <a href='#prerequisites_variables'>2.3 Variables</a>\n",
    "- <a href='#featurestore_querying'>3. Feature store querying</a>\n",
    "    - <a href='#load_featuregroup'>3.1. Load feature groups</a>\n",
    "    - <a href='#explore_featuregroup'>3.2. Explore feature groups</a>\n",
    "    - <a href='#select_subset_featuregroup'>3.3. Select subset of features</a>\n",
    "    - <a href='#explore_featuregroup'>3.4. Explore feature groups</a>\n",
    "    - <a href='#filter_featuregroup'>3.5. Filter feature groups</a>\n",
    "    - <a href='#create_dataset'>3.6. Create dataset from multiple or one feature group</a>\n",
    "    - <a href='#query_dataset'>3.7 Query dataset</a>\n",
    "- <a href='#ref'>4. References</a>\n",
    "\n",
    "---\n",
    "\n",
    "**Important:**\n",
    "\n",
    "Placeholder text for required values are surrounded by angle brackets that must be removed when adding the indicated content. For example, when adding a database name to `database_name = \"<database_name>\"` would become `database_name = \"production\"`.\n",
    "\n",
    "---"
   ]
  },
  {
   "cell_type": "markdown",
   "id": "b4278249",
   "metadata": {},
   "source": [
    "<a id=\"concepts\"></a>\n",
    "# 1. Introduction\n",
    "\n",
    "Oracle feature store is a stack based solution that is deployed in the customer enclave using OCI resource manager. Customer can stand up the service with infrastructure in their own tenancy. The service consists of API which are deployed in customer tenancy using resource manager.\n",
    "\n",
    "The following are some key terms that will help you understand OCI Data Science Feature Store:\n",
    "\n",
    "\n",
    "* **Feature Vector**: Set of feature values for any one primary/identifier key. Eg.  All/subset of  features of customer id '2536' can be called as one feature vector.\n",
    "* **Feature**: A feature is an individual measurable property or characteristic of a phenomenon being observed.\n",
    "* **Entity**: An entity is a group of semantically related features.\n",
    "* **Datasource**: Features are engineered from raw data stored in various data sources (e.g. object storage, Oracle Database, Oracle MySQL, etc).\n",
    "* **Feature Group** - A feature group is an object that represents a logical group of time-series feature data as it is found in a datasource.\n",
    "* **Dataset**: Datasets are created from features stored in the feature store service and are used to train models and to perform online model inference."
   ]
  },
  {
   "cell_type": "markdown",
   "id": "9a288166",
   "metadata": {},
   "source": [
    "<a id='pre-requisites'></a>\n",
    "# 2. Pre-requisites\n",
    "\n",
    "Data Flow Sessions are accessible through the following conda environment:\n",
    "\n",
    "* **PySpark 3.2, Feature store 1.0 and Data Flow 1.0 (pyspark32_p38_cpu_feature_store_v1)**\n",
    "\n",
    "The [Data Catalog Hive Metastore](https://docs.oracle.com/en-us/iaas/data-catalog/using/metastore.htm) provides schema definitions for objects in structured and unstructured data assets. The Metastore is the central metadata repository to understand tables backed by files on object storage. You can customize `pyspark32_p38_cpu_feature_store_v1`, publish it, and use it as a runtime environment for a Data Flow session cluster. The metastore id of hive metastore is tied to feature store construct of feature store service."
   ]
  },
  {
   "cell_type": "markdown",
   "id": "ad609733",
   "metadata": {},
   "source": [
    "<a id='policies'></a>\n",
    "### 2.1. Policies\n",
    "This section covers the creation of dynamic groups and policies needed to use the service.\n",
    "\n",
    "* [Data Flow Policies](https://docs.oracle.com/iaas/data-flow/using/policies.htm/)\n",
    "* [Data Catalog Metastore Required Policies](https://docs.oracle.com/en-us/iaas/data-catalog/using/metastore.htm)\n",
    "* [Getting Started with Data Flow](https://docs.oracle.com/iaas/data-flow/using/dfs_getting_started.htm)\n",
    "* [About Data Science Policies](https://docs.oracle.com/iaas/data-science/using/policies.htm)"
   ]
  },
  {
   "cell_type": "markdown",
   "id": "720b64a2",
   "metadata": {},
   "source": [
    "<a id=\"prerequisites_authentication\"></a>\n",
    "### 2.2. Authentication\n",
    "The [Oracle Accelerated Data Science SDK (ADS)](https://docs.oracle.com/iaas/tools/ads-sdk/latest/index.html) controls the authentication mechanism with the notebook cluster.<br>\n",
    "To setup authentication use the ```ads.set_auth(\"resource_principal\")``` or ```ads.set_auth(\"api_key\")```."
   ]
  },
  {
   "cell_type": "code",
   "execution_count": 2,
   "id": "d656d7f0",
   "metadata": {
    "is_executing": true,
    "pycharm": {
     "is_executing": true
    }
   },
   "outputs": [],
   "source": [
    "import ads\n",
    "ads.set_auth(auth=\"api_key\", client_kwargs={\"service_endpoint\": \"http://localhost:21000/20230101\"})"
   ]
  },
  {
   "cell_type": "markdown",
   "id": "565f3b60",
   "metadata": {},
   "source": [
    "<a id=\"prerequisites_variables\"></a>\n",
    "### 2.3. Variables\n",
    "To run this notebook, you must provide some information about your tenancy configuration. To create and run a feature store, you must specify a `<compartment_id>` and bucket `<metastore_id>` for offline feature store."
   ]
  },
  {
   "cell_type": "code",
   "execution_count": 3,
   "id": "c4a35bff",
   "metadata": {
    "pycharm": {
     "is_executing": true
    }
   },
   "outputs": [],
   "source": [
    "import os\n",
    "\n",
    "compartment_id = \"ocid1.tenancy.oc1..aaaaaaaa462hfhplpx652b32ix62xrdijppq2c7okwcqjlgrbknhgtj2kofa\"\n",
    "metastore_id = \"ocid1.datacatalogmetastore.oc1.iad.amaaaaaabiudgxyap7tizm4gscwz7amu7dixz7ml3mtesqzzwwg3urvvdgua\""
   ]
  },
  {
   "cell_type": "markdown",
   "id": "4ae71fd5",
   "metadata": {},
   "source": [
    "<a id=\"featurestore_querying\"></a>\n",
    "# 3. Feature group querying\n",
    "By default the **PySpark 3.2, Feature store and Data Flow** conda environment includes pre-installed [great-expectations](https://legacy.docs.greatexpectations.io/en/latest/reference/core_concepts/validation.html) and [deeque](https://github.com/awslabs/deequ) libraries. The joining functionality is heavily inspired by the APIs used by Pandas to merge, join or filter DataFrames. The APIs allow you to specify which features to select from which feature group, how to join them and which features to use in join conditions."
   ]
  },
  {
   "cell_type": "code",
   "execution_count": 4,
   "id": "2c65a5cd",
   "metadata": {
    "pycharm": {
     "is_executing": true
    }
   },
   "outputs": [],
   "source": [
    "import warnings\n",
    "warnings.filterwarnings(\"ignore\", message=\"iteritems is deprecated\")\n",
    "warnings.filterwarnings(\"ignore\", category=DeprecationWarning)"
   ]
  },
  {
   "cell_type": "code",
   "execution_count": 5,
   "id": "c7a590c9",
   "metadata": {
    "pycharm": {
     "is_executing": true
    }
   },
   "outputs": [
    {
     "name": "stdout",
     "output_type": "stream",
     "text": [
      "WARNING:py.warnings:/Users/kshitizlohia/IdeaProjects/oracle/feature-store/advanced-ds/venv/lib/python3.10/site-packages/pyspark/sql/pandas/utils.py:37: DeprecationWarning: distutils Version classes are deprecated. Use packaging.version instead.\n",
      "  if LooseVersion(pandas.__version__) < LooseVersion(minimum_pandas_version):\n",
      "\n",
      "WARNING:py.warnings:/Users/kshitizlohia/IdeaProjects/oracle/feature-store/advanced-ds/venv/lib/python3.10/site-packages/pyspark/sql/pandas/utils.py:64: DeprecationWarning: distutils Version classes are deprecated. Use packaging.version instead.\n",
      "  if LooseVersion(pyarrow.__version__) < LooseVersion(minimum_pyarrow_version):\n",
      "\n",
      "WARNING:py.warnings:/Users/kshitizlohia/IdeaProjects/oracle/feature-store/advanced-ds/venv/lib/python3.10/site-packages/pyspark/pandas/__init__.py:46: DeprecationWarning: distutils Version classes are deprecated. Use packaging.version instead.\n",
      "  LooseVersion(pyarrow.__version__) >= LooseVersion(\"2.0.0\")\n",
      "\n",
      "WARNING:py.warnings:/Users/kshitizlohia/IdeaProjects/oracle/feature-store/advanced-ds/venv/lib/python3.10/site-packages/pyspark/pandas/__init__.py:49: UserWarning: 'PYARROW_IGNORE_TIMEZONE' environment variable was not set. It is required to set this environment variable to '1' in both driver and executor sides if you use pyarrow>=2.0.0. pandas-on-Spark will set it for you but it does not work if there is a Spark context already launched.\n",
      "  warnings.warn(\n",
      "\n",
      "WARNING:py.warnings:/Users/kshitizlohia/IdeaProjects/oracle/feature-store/advanced-ds/venv/lib/python3.10/site-packages/pyspark/pandas/groupby.py:49: DeprecationWarning: distutils Version classes are deprecated. Use packaging.version instead.\n",
      "  if LooseVersion(pd.__version__) >= LooseVersion(\"1.3.0\"):\n",
      "\n",
      "ERROR:logger:Please set env variable SPARK_VERSION\n",
      "INFO:logger:Using deequ: com.amazon.deequ:deequ:1.2.2-spark-3.0\n"
     ]
    }
   ],
   "source": [
    "import pandas as pd\n",
    "from ads.feature_store.feature_store import FeatureStore\n",
    "from ads.feature_store.feature_group import FeatureGroup\n",
    "from ads.feature_store.dataset import Dataset\n",
    "from ads.feature_store.common.enums import DatasetIngestionMode\n",
    "\n",
    "from ads.feature_store.feature_group_expectation import ExpectationType\n",
    "from great_expectations.core import ExpectationSuite, ExpectationConfiguration\n",
    "from ads.feature_store.feature_store_registrar import FeatureStoreRegistrar"
   ]
  },
  {
   "cell_type": "markdown",
   "id": "5b14c3cf",
   "metadata": {},
   "source": [
    "<a id=\"data_exploration\"></a>\n",
    "### 3.1. Exploration of data in feature store"
   ]
  },
  {
   "cell_type": "code",
   "execution_count": 6,
   "id": "2f2d36c0",
   "metadata": {
    "pycharm": {
     "is_executing": true
    }
   },
   "outputs": [
    {
     "data": {
      "text/html": [
       "<div>\n",
       "<style scoped>\n",
       "    .dataframe tbody tr th:only-of-type {\n",
       "        vertical-align: middle;\n",
       "    }\n",
       "\n",
       "    .dataframe tbody tr th {\n",
       "        vertical-align: top;\n",
       "    }\n",
       "\n",
       "    .dataframe thead th {\n",
       "        text-align: right;\n",
       "    }\n",
       "</style>\n",
       "<table border=\"1\" class=\"dataframe\">\n",
       "  <thead>\n",
       "    <tr style=\"text-align: right;\">\n",
       "      <th></th>\n",
       "      <th>YEAR</th>\n",
       "      <th>MONTH</th>\n",
       "      <th>DAY</th>\n",
       "      <th>DAY_OF_WEEK</th>\n",
       "      <th>AIRLINE</th>\n",
       "      <th>FLIGHT_NUMBER</th>\n",
       "      <th>ORIGIN_AIRPORT</th>\n",
       "      <th>DESTINATION_AIRPORT</th>\n",
       "    </tr>\n",
       "  </thead>\n",
       "  <tbody>\n",
       "    <tr>\n",
       "      <th>0</th>\n",
       "      <td>2015</td>\n",
       "      <td>1</td>\n",
       "      <td>1</td>\n",
       "      <td>4</td>\n",
       "      <td>AS</td>\n",
       "      <td>98</td>\n",
       "      <td>ANC</td>\n",
       "      <td>SEA</td>\n",
       "    </tr>\n",
       "    <tr>\n",
       "      <th>1</th>\n",
       "      <td>2015</td>\n",
       "      <td>1</td>\n",
       "      <td>1</td>\n",
       "      <td>4</td>\n",
       "      <td>AA</td>\n",
       "      <td>2336</td>\n",
       "      <td>LAX</td>\n",
       "      <td>PBI</td>\n",
       "    </tr>\n",
       "    <tr>\n",
       "      <th>2</th>\n",
       "      <td>2015</td>\n",
       "      <td>1</td>\n",
       "      <td>1</td>\n",
       "      <td>4</td>\n",
       "      <td>US</td>\n",
       "      <td>840</td>\n",
       "      <td>SFO</td>\n",
       "      <td>CLT</td>\n",
       "    </tr>\n",
       "    <tr>\n",
       "      <th>3</th>\n",
       "      <td>2015</td>\n",
       "      <td>1</td>\n",
       "      <td>1</td>\n",
       "      <td>4</td>\n",
       "      <td>AA</td>\n",
       "      <td>258</td>\n",
       "      <td>LAX</td>\n",
       "      <td>MIA</td>\n",
       "    </tr>\n",
       "    <tr>\n",
       "      <th>4</th>\n",
       "      <td>2015</td>\n",
       "      <td>1</td>\n",
       "      <td>1</td>\n",
       "      <td>4</td>\n",
       "      <td>AS</td>\n",
       "      <td>135</td>\n",
       "      <td>SEA</td>\n",
       "      <td>ANC</td>\n",
       "    </tr>\n",
       "  </tbody>\n",
       "</table>\n",
       "</div>"
      ],
      "text/plain": [
       "   YEAR  MONTH  DAY  DAY_OF_WEEK AIRLINE  FLIGHT_NUMBER ORIGIN_AIRPORT  \\\n",
       "0  2015      1    1            4      AS             98            ANC   \n",
       "1  2015      1    1            4      AA           2336            LAX   \n",
       "2  2015      1    1            4      US            840            SFO   \n",
       "3  2015      1    1            4      AA            258            LAX   \n",
       "4  2015      1    1            4      AS            135            SEA   \n",
       "\n",
       "  DESTINATION_AIRPORT  \n",
       "0                 SEA  \n",
       "1                 PBI  \n",
       "2                 CLT  \n",
       "3                 MIA  \n",
       "4                 ANC  "
      ]
     },
     "execution_count": 6,
     "metadata": {},
     "output_type": "execute_result"
    }
   ],
   "source": [
    "flights_df = pd.read_csv(\"~/Downloads/flights.csv\",nrows=100)[['YEAR', 'MONTH', 'DAY', 'DAY_OF_WEEK', 'AIRLINE', 'FLIGHT_NUMBER', 'ORIGIN_AIRPORT', 'DESTINATION_AIRPORT']]\n",
    "flights_df = flights_df.head(100)\n",
    "flights_df.head()"
   ]
  },
  {
   "cell_type": "code",
   "execution_count": 7,
   "id": "8351d39d",
   "metadata": {
    "pycharm": {
     "is_executing": true
    }
   },
   "outputs": [
    {
     "data": {
      "text/html": [
       "<div>\n",
       "<style scoped>\n",
       "    .dataframe tbody tr th:only-of-type {\n",
       "        vertical-align: middle;\n",
       "    }\n",
       "\n",
       "    .dataframe tbody tr th {\n",
       "        vertical-align: top;\n",
       "    }\n",
       "\n",
       "    .dataframe thead th {\n",
       "        text-align: right;\n",
       "    }\n",
       "</style>\n",
       "<table border=\"1\" class=\"dataframe\">\n",
       "  <thead>\n",
       "    <tr style=\"text-align: right;\">\n",
       "      <th></th>\n",
       "      <th>IATA_CODE</th>\n",
       "      <th>AIRPORT</th>\n",
       "      <th>CITY</th>\n",
       "      <th>STATE</th>\n",
       "      <th>COUNTRY</th>\n",
       "      <th>LATITUDE</th>\n",
       "      <th>LONGITUDE</th>\n",
       "    </tr>\n",
       "  </thead>\n",
       "  <tbody>\n",
       "    <tr>\n",
       "      <th>0</th>\n",
       "      <td>ABE</td>\n",
       "      <td>Lehigh Valley International Airport</td>\n",
       "      <td>Allentown</td>\n",
       "      <td>PA</td>\n",
       "      <td>USA</td>\n",
       "      <td>40.65236</td>\n",
       "      <td>-75.44040</td>\n",
       "    </tr>\n",
       "    <tr>\n",
       "      <th>1</th>\n",
       "      <td>ABI</td>\n",
       "      <td>Abilene Regional Airport</td>\n",
       "      <td>Abilene</td>\n",
       "      <td>TX</td>\n",
       "      <td>USA</td>\n",
       "      <td>32.41132</td>\n",
       "      <td>-99.68190</td>\n",
       "    </tr>\n",
       "    <tr>\n",
       "      <th>2</th>\n",
       "      <td>ABQ</td>\n",
       "      <td>Albuquerque International Sunport</td>\n",
       "      <td>Albuquerque</td>\n",
       "      <td>NM</td>\n",
       "      <td>USA</td>\n",
       "      <td>35.04022</td>\n",
       "      <td>-106.60919</td>\n",
       "    </tr>\n",
       "    <tr>\n",
       "      <th>3</th>\n",
       "      <td>ABR</td>\n",
       "      <td>Aberdeen Regional Airport</td>\n",
       "      <td>Aberdeen</td>\n",
       "      <td>SD</td>\n",
       "      <td>USA</td>\n",
       "      <td>45.44906</td>\n",
       "      <td>-98.42183</td>\n",
       "    </tr>\n",
       "    <tr>\n",
       "      <th>4</th>\n",
       "      <td>ABY</td>\n",
       "      <td>Southwest Georgia Regional Airport</td>\n",
       "      <td>Albany</td>\n",
       "      <td>GA</td>\n",
       "      <td>USA</td>\n",
       "      <td>31.53552</td>\n",
       "      <td>-84.19447</td>\n",
       "    </tr>\n",
       "  </tbody>\n",
       "</table>\n",
       "</div>"
      ],
      "text/plain": [
       "  IATA_CODE                              AIRPORT         CITY STATE COUNTRY  \\\n",
       "0       ABE  Lehigh Valley International Airport    Allentown    PA     USA   \n",
       "1       ABI             Abilene Regional Airport      Abilene    TX     USA   \n",
       "2       ABQ    Albuquerque International Sunport  Albuquerque    NM     USA   \n",
       "3       ABR            Aberdeen Regional Airport     Aberdeen    SD     USA   \n",
       "4       ABY   Southwest Georgia Regional Airport       Albany    GA     USA   \n",
       "\n",
       "   LATITUDE  LONGITUDE  \n",
       "0  40.65236  -75.44040  \n",
       "1  32.41132  -99.68190  \n",
       "2  35.04022 -106.60919  \n",
       "3  45.44906  -98.42183  \n",
       "4  31.53552  -84.19447  "
      ]
     },
     "execution_count": 7,
     "metadata": {},
     "output_type": "execute_result"
    }
   ],
   "source": [
    "airports_df = pd.read_csv(\"https://objectstorage.us-ashburn-1.oraclecloud.com/p/hh2NOgFJbVSg4amcLM3G3hkTuHyBD-8aE_iCsuZKEvIav1Wlld-3zfCawG4ycQGN/n/ociodscdev/b/oci-feature-store/o/beta/data/flights/airports.csv\")\n",
    "airports_df.head()"
   ]
  },
  {
   "cell_type": "code",
   "execution_count": 8,
   "id": "24fc0d46",
   "metadata": {
    "pycharm": {
     "is_executing": true
    }
   },
   "outputs": [
    {
     "data": {
      "text/html": [
       "<div>\n",
       "<style scoped>\n",
       "    .dataframe tbody tr th:only-of-type {\n",
       "        vertical-align: middle;\n",
       "    }\n",
       "\n",
       "    .dataframe tbody tr th {\n",
       "        vertical-align: top;\n",
       "    }\n",
       "\n",
       "    .dataframe thead th {\n",
       "        text-align: right;\n",
       "    }\n",
       "</style>\n",
       "<table border=\"1\" class=\"dataframe\">\n",
       "  <thead>\n",
       "    <tr style=\"text-align: right;\">\n",
       "      <th></th>\n",
       "      <th>IATA_CODE</th>\n",
       "      <th>AIRLINE</th>\n",
       "    </tr>\n",
       "  </thead>\n",
       "  <tbody>\n",
       "    <tr>\n",
       "      <th>0</th>\n",
       "      <td>UA</td>\n",
       "      <td>United Air Lines Inc.</td>\n",
       "    </tr>\n",
       "    <tr>\n",
       "      <th>1</th>\n",
       "      <td>AA</td>\n",
       "      <td>American Airlines Inc.</td>\n",
       "    </tr>\n",
       "    <tr>\n",
       "      <th>2</th>\n",
       "      <td>US</td>\n",
       "      <td>US Airways Inc.</td>\n",
       "    </tr>\n",
       "    <tr>\n",
       "      <th>3</th>\n",
       "      <td>F9</td>\n",
       "      <td>Frontier Airlines Inc.</td>\n",
       "    </tr>\n",
       "    <tr>\n",
       "      <th>4</th>\n",
       "      <td>B6</td>\n",
       "      <td>JetBlue Airways</td>\n",
       "    </tr>\n",
       "  </tbody>\n",
       "</table>\n",
       "</div>"
      ],
      "text/plain": [
       "  IATA_CODE                 AIRLINE\n",
       "0        UA   United Air Lines Inc.\n",
       "1        AA  American Airlines Inc.\n",
       "2        US         US Airways Inc.\n",
       "3        F9  Frontier Airlines Inc.\n",
       "4        B6         JetBlue Airways"
      ]
     },
     "execution_count": 8,
     "metadata": {},
     "output_type": "execute_result"
    }
   ],
   "source": [
    "airlines_df = pd.read_csv(\"https://objectstorage.us-ashburn-1.oraclecloud.com/p/hh2NOgFJbVSg4amcLM3G3hkTuHyBD-8aE_iCsuZKEvIav1Wlld-3zfCawG4ycQGN/n/ociodscdev/b/oci-feature-store/o/beta/data/flights/airlines.csv\")\n",
    "airlines_df.head()"
   ]
  },
  {
   "cell_type": "markdown",
   "id": "6813f7b7",
   "metadata": {},
   "source": [
    "<a id=\"load_featuregroup\"></a>\n",
    "### 3.2. Create feature store logical entities"
   ]
  },
  {
   "cell_type": "markdown",
   "id": "fe86e3ad",
   "metadata": {},
   "source": [
    "#### 3.2.1 Feature Store\n",
    "Feature store is the top level entity for feature store service"
   ]
  },
  {
   "cell_type": "code",
   "execution_count": 9,
   "id": "c3911cdb",
   "metadata": {
    "pycharm": {
     "is_executing": true
    }
   },
   "outputs": [],
   "source": [
    "feature_store_resource = (\n",
    "    FeatureStore().\n",
    "    with_description(\"Data consisting of flights\").\n",
    "    with_compartment_id(compartment_id).\n",
    "    with_display_name(\"flights details\").\n",
    "    with_offline_config(metastore_id=metastore_id)\n",
    ")"
   ]
  },
  {
   "cell_type": "markdown",
   "id": "74b979b7",
   "metadata": {},
   "source": [
    "<a id=\"create_feature_store\"></a>\n",
    "##### Create Feature Store\n",
    "\n",
    "Call the ```.create()``` method of the Feature store instance to create a feature store."
   ]
  },
  {
   "cell_type": "code",
   "execution_count": 10,
   "id": "a80ffa54",
   "metadata": {
    "pycharm": {
     "is_executing": true
    }
   },
   "outputs": [
    {
     "data": {
      "text/plain": [
       "\n",
       "kind: featurestore\n",
       "spec:\n",
       "  compartmentId: ocid1.tenancy.oc1..aaaaaaaa462hfhplpx652b32ix62xrdijppq2c7okwcqjlgrbknhgtj2kofa\n",
       "  description: Data consisting of flights\n",
       "  displayName: flights details\n",
       "  id: 12CC69323C61BD5E3CB868F0776055F0\n",
       "  offlineConfig:\n",
       "    metastoreId: ocid1.datacatalogmetastore.oc1.iad.amaaaaaabiudgxyap7tizm4gscwz7amu7dixz7ml3mtesqzzwwg3urvvdgua\n",
       "type: featureStore"
      ]
     },
     "execution_count": 10,
     "metadata": {},
     "output_type": "execute_result"
    }
   ],
   "source": [
    "feature_store = feature_store_resource.create()\n",
    "feature_store"
   ]
  },
  {
   "cell_type": "markdown",
   "id": "a83bd162",
   "metadata": {},
   "source": [
    "#### 3.2.2 Entity\n",
    "An entity is a group of semantically related features."
   ]
  },
  {
   "cell_type": "code",
   "execution_count": 11,
   "id": "ea2e9256",
   "metadata": {},
   "outputs": [
    {
     "data": {
      "text/plain": [
       "\n",
       "kind: entity\n",
       "spec:\n",
       "  compartmentId: ocid1.tenancy.oc1..aaaaaaaa462hfhplpx652b32ix62xrdijppq2c7okwcqjlgrbknhgtj2kofa\n",
       "  description: description for flight details\n",
       "  featureStoreId: 12CC69323C61BD5E3CB868F0776055F0\n",
       "  id: 589E6D7C5256BC5D35502EA34070802A\n",
       "  name: Flight details2\n",
       "type: entity"
      ]
     },
     "execution_count": 11,
     "metadata": {},
     "output_type": "execute_result"
    }
   ],
   "source": [
    "entity = feature_store.create_entity(\n",
    "    display_name=\"Flight details2\",\n",
    "    description=\"description for flight details\"\n",
    ")\n",
    "entity"
   ]
  },
  {
   "cell_type": "markdown",
   "id": "22f3501d",
   "metadata": {},
   "source": [
    "#### 3.2.3 Feature group\n",
    "A feature group is an object that represents a logical group of time-series feature data as it is found in a datasource."
   ]
  },
  {
   "cell_type": "markdown",
   "id": "f98e5f23",
   "metadata": {},
   "source": [
    "<a id=\"create_feature_group_flights\"></a>\n",
    "##### Flights Feature Group\n",
    "\n",
    "Create feature group for flights"
   ]
  },
  {
   "cell_type": "code",
   "execution_count": 12,
   "id": "627b5935",
   "metadata": {},
   "outputs": [],
   "source": [
    "feature_group_flights = (\n",
    "    FeatureGroup()\n",
    "    .with_feature_store_id(feature_store.id)\n",
    "    .with_primary_keys([\"FLIGHT_NUMBER\"])\n",
    "    .with_name(\"flights_feature_group\")\n",
    "    .with_entity_id(entity.id)\n",
    "    .with_compartment_id(compartment_id)\n",
    "    .with_schema_details_from_dataframe(flights_df)\n",
    ")"
   ]
  },
  {
   "cell_type": "code",
   "execution_count": 13,
   "id": "0b17133d",
   "metadata": {
    "jupyter": {
     "outputs_hidden": false
    }
   },
   "outputs": [
    {
     "data": {
      "text/plain": [
       "\n",
       "kind: FeatureGroup\n",
       "spec:\n",
       "  compartmentId: ocid1.tenancy.oc1..aaaaaaaa462hfhplpx652b32ix62xrdijppq2c7okwcqjlgrbknhgtj2kofa\n",
       "  entityId: 589E6D7C5256BC5D35502EA34070802A\n",
       "  featureStoreId: 12CC69323C61BD5E3CB868F0776055F0\n",
       "  id: 4096F2264D2ADD241320A2CC590A7C71\n",
       "  inputFeatureDetails:\n",
       "  - featureType: INTEGER\n",
       "    name: YEAR\n",
       "    orderNumber: 1\n",
       "  - featureType: INTEGER\n",
       "    name: MONTH\n",
       "    orderNumber: 2\n",
       "  - featureType: INTEGER\n",
       "    name: DAY\n",
       "    orderNumber: 3\n",
       "  - featureType: INTEGER\n",
       "    name: DAY_OF_WEEK\n",
       "    orderNumber: 4\n",
       "  - featureType: STRING\n",
       "    name: AIRLINE\n",
       "    orderNumber: 5\n",
       "  - featureType: INTEGER\n",
       "    name: FLIGHT_NUMBER\n",
       "    orderNumber: 6\n",
       "  - featureType: STRING\n",
       "    name: ORIGIN_AIRPORT\n",
       "    orderNumber: 7\n",
       "  - featureType: STRING\n",
       "    name: DESTINATION_AIRPORT\n",
       "    orderNumber: 8\n",
       "  name: flights_feature_group\n",
       "  primaryKeys:\n",
       "    items:\n",
       "    - name: FLIGHT_NUMBER\n",
       "  statisticsConfig:\n",
       "    isEnabled: true\n",
       "type: featureGroup"
      ]
     },
     "execution_count": 13,
     "metadata": {},
     "output_type": "execute_result"
    }
   ],
   "source": [
    "feature_group_flights.create()"
   ]
  },
  {
   "cell_type": "code",
   "execution_count": 14,
   "id": "64665132",
   "metadata": {},
   "outputs": [],
   "source": [
    "!export PATH=\"/usr/local/opt/graphviz/bin:$PATH\""
   ]
  },
  {
   "cell_type": "code",
   "execution_count": 15,
   "id": "d9b7d7b8",
   "metadata": {},
   "outputs": [
    {
     "name": "stdout",
     "output_type": "stream",
     "text": [
      "\u001B[33mWARNING: Ignoring invalid distribution -ci (/Users/kshitizlohia/IdeaProjects/oracle/feature-store/advanced-ds/venv/lib/python3.10/site-packages)\u001B[0m\n",
      "\u001B[33mWARNING: Ignoring invalid distribution -ci (/Users/kshitizlohia/IdeaProjects/oracle/feature-store/advanced-ds/venv/lib/python3.10/site-packages)\u001B[0m\n",
      "Looking in indexes: https://pypi.python.org/simple, https://pypi.ngc.nvidia.com\n",
      "Requirement already satisfied: graphviz==0.16 in /Users/kshitizlohia/IdeaProjects/oracle/feature-store/advanced-ds/venv/lib/python3.10/site-packages (0.16)\n",
      "\u001B[33mWARNING: Ignoring invalid distribution -ci (/Users/kshitizlohia/IdeaProjects/oracle/feature-store/advanced-ds/venv/lib/python3.10/site-packages)\u001B[0m\n",
      "\u001B[33mWARNING: Ignoring invalid distribution -ci (/Users/kshitizlohia/IdeaProjects/oracle/feature-store/advanced-ds/venv/lib/python3.10/site-packages)\u001B[0m\n",
      "\u001B[33mWARNING: Ignoring invalid distribution -ci (/Users/kshitizlohia/IdeaProjects/oracle/feature-store/advanced-ds/venv/lib/python3.10/site-packages)\u001B[0m\n",
      "\u001B[33mWARNING: Ignoring invalid distribution -ci (/Users/kshitizlohia/IdeaProjects/oracle/feature-store/advanced-ds/venv/lib/python3.10/site-packages)\u001B[0m\n",
      "\u001B[33mWARNING: You are using pip version 21.3.1; however, version 23.1.2 is available.\n",
      "You should consider upgrading via the '/Users/kshitizlohia/IdeaProjects/oracle/feature-store/advanced-ds/venv/bin/python -m pip install --upgrade pip' command.\u001B[0m\n"
     ]
    }
   ],
   "source": [
    "!pip install graphviz==0.16"
   ]
  },
  {
   "cell_type": "code",
   "execution_count": 16,
   "id": "94306627",
   "metadata": {},
   "outputs": [
    {
     "name": "stdout",
     "output_type": "stream",
     "text": [
      "WARNING:py.warnings:/Users/kshitizlohia/IdeaProjects/oracle/feature-store/advanced-ds/ads/feature_store/feature_lineage/graphviz_service.py:176: DeprecationWarning: Importing display from IPython.core.display is deprecated since IPython 7.14, please import from IPython display\n",
      "  from IPython.core.display import display\n",
      "\n"
     ]
    },
    {
     "data": {
      "image/svg+xml": [
       "<?xml version=\"1.0\" encoding=\"UTF-8\" standalone=\"no\"?>\n",
       "<!DOCTYPE svg PUBLIC \"-//W3C//DTD SVG 1.1//EN\"\n",
       " \"http://www.w3.org/Graphics/SVG/1.1/DTD/svg11.dtd\">\n",
       "<!-- Generated by graphviz version 8.0.5 (20230430.1635)\n",
       " -->\n",
       "<!-- Pages: 1 -->\n",
       "<svg width=\"584pt\" height=\"65pt\"\n",
       " viewBox=\"0.00 0.00 584.00 64.50\" xmlns=\"http://www.w3.org/2000/svg\" xmlns:xlink=\"http://www.w3.org/1999/xlink\">\n",
       "<g id=\"graph0\" class=\"graph\" transform=\"scale(1 1) rotate(0) translate(4 60.5)\">\n",
       "<polygon fill=\"white\" stroke=\"none\" points=\"-4,4 -4,-60.5 580,-60.5 580,4 -4,4\"/>\n",
       "<!-- 12CC69323C61BD5E3CB868F0776055F0 -->\n",
       "<g id=\"node1\" class=\"node\">\n",
       "<title>12CC69323C61BD5E3CB868F0776055F0</title>\n",
       "<path fill=\"#dedede\" stroke=\"#dedede\" d=\"M156,-56.5C156,-56.5 12,-56.5 12,-56.5 6,-56.5 0,-50.5 0,-44.5 0,-44.5 0,-12 0,-12 0,-6 6,0 12,0 12,0 156,0 156,0 162,0 168,-6 168,-12 168,-12 168,-44.5 168,-44.5 168,-50.5 162,-56.5 156,-56.5\"/>\n",
       "<text text-anchor=\"start\" x=\"53.25\" y=\"-38.05\" font-family=\"Helvetica,Arial,sans-serif\" font-size=\"11.00\">flights details</text>\n",
       "<text text-anchor=\"start\" x=\"62.62\" y=\"-23.85\" font-family=\"Helvetica,Arial,sans-serif\" font-size=\"7.00\">Feature Store</text>\n",
       "<text text-anchor=\"start\" x=\"12\" y=\"-9.6\" font-family=\"Courier New\" font-size=\"7.00\">12CC69323C61BD5E3CB868F0776055F0</text>\n",
       "</g>\n",
       "<!-- 589E6D7C5256BC5D35502EA34070802A -->\n",
       "<g id=\"node2\" class=\"node\">\n",
       "<title>589E6D7C5256BC5D35502EA34070802A</title>\n",
       "<path fill=\"#dedede\" stroke=\"#dedede\" d=\"M360,-56.5C360,-56.5 216,-56.5 216,-56.5 210,-56.5 204,-50.5 204,-44.5 204,-44.5 204,-12 204,-12 204,-6 210,0 216,0 216,0 360,0 360,0 366,0 372,-6 372,-12 372,-12 372,-44.5 372,-44.5 372,-50.5 366,-56.5 360,-56.5\"/>\n",
       "<text text-anchor=\"start\" x=\"255\" y=\"-38.05\" font-family=\"Helvetica,Arial,sans-serif\" font-size=\"11.00\">Flight details2</text>\n",
       "<text text-anchor=\"start\" x=\"279\" y=\"-23.85\" font-family=\"Helvetica,Arial,sans-serif\" font-size=\"7.00\">Entity</text>\n",
       "<text text-anchor=\"start\" x=\"216\" y=\"-9.6\" font-family=\"Courier New\" font-size=\"7.00\">589E6D7C5256BC5D35502EA34070802A</text>\n",
       "</g>\n",
       "<!-- 12CC69323C61BD5E3CB868F0776055F0&#45;&gt;589E6D7C5256BC5D35502EA34070802A -->\n",
       "<g id=\"edge1\" class=\"edge\">\n",
       "<title>12CC69323C61BD5E3CB868F0776055F0&#45;&gt;589E6D7C5256BC5D35502EA34070802A</title>\n",
       "<path fill=\"none\" stroke=\"black\" d=\"M168.33,-28.25C176.32,-28.25 184.47,-28.25 192.56,-28.25\"/>\n",
       "<polygon fill=\"black\" stroke=\"black\" points=\"192.54,-31.75 202.54,-28.25 192.54,-24.75 192.54,-31.75\"/>\n",
       "</g>\n",
       "<!-- 4096F2264D2ADD241320A2CC590A7C71 -->\n",
       "<g id=\"node3\" class=\"node\">\n",
       "<title>4096F2264D2ADD241320A2CC590A7C71</title>\n",
       "<path fill=\"#dedede\" stroke=\"#dedede\" d=\"M564,-56.5C564,-56.5 420,-56.5 420,-56.5 414,-56.5 408,-50.5 408,-44.5 408,-44.5 408,-12 408,-12 408,-6 414,0 420,0 420,0 564,0 564,0 570,0 576,-6 576,-12 576,-12 576,-44.5 576,-44.5 576,-50.5 570,-56.5 564,-56.5\"/>\n",
       "<text text-anchor=\"start\" x=\"441.38\" y=\"-38.05\" font-family=\"Helvetica,Arial,sans-serif\" font-size=\"11.00\">flights_feature_group</text>\n",
       "<text text-anchor=\"start\" x=\"469.5\" y=\"-23.85\" font-family=\"Helvetica,Arial,sans-serif\" font-size=\"7.00\">Feature Group</text>\n",
       "<text text-anchor=\"start\" x=\"420\" y=\"-9.6\" font-family=\"Courier New\" font-size=\"7.00\">4096F2264D2ADD241320A2CC590A7C71</text>\n",
       "</g>\n",
       "<!-- 589E6D7C5256BC5D35502EA34070802A&#45;&gt;4096F2264D2ADD241320A2CC590A7C71 -->\n",
       "<g id=\"edge2\" class=\"edge\">\n",
       "<title>589E6D7C5256BC5D35502EA34070802A&#45;&gt;4096F2264D2ADD241320A2CC590A7C71</title>\n",
       "<path fill=\"none\" stroke=\"black\" d=\"M372.33,-28.25C380.32,-28.25 388.47,-28.25 396.56,-28.25\"/>\n",
       "<polygon fill=\"black\" stroke=\"black\" points=\"396.54,-31.75 406.54,-28.25 396.54,-24.75 396.54,-31.75\"/>\n",
       "</g>\n",
       "</g>\n",
       "</svg>\n"
      ],
      "text/plain": [
       "<graphviz.dot.Digraph at 0x130e7f1c0>"
      ]
     },
     "metadata": {},
     "output_type": "display_data"
    }
   ],
   "source": [
    "feature_group_flights.show()"
   ]
  },
  {
   "cell_type": "code",
   "execution_count": 17,
   "id": "6a4ce380",
   "metadata": {},
   "outputs": [],
   "source": [
    "os.environ[\"DEVELOPER_MODE\"] = \"True\""
   ]
  },
  {
   "cell_type": "code",
   "execution_count": 18,
   "id": "e28763e2",
   "metadata": {},
   "outputs": [
    {
     "name": "stdout",
     "output_type": "stream",
     "text": [
      ":: loading settings :: url = jar:file:/Users/kshitizlohia/IdeaProjects/oracle/feature-store/advanced-ds/venv/lib/python3.10/site-packages/pyspark/jars/ivy-2.5.1.jar!/org/apache/ivy/core/settings/ivysettings.xml\n"
     ]
    },
    {
     "name": "stderr",
     "output_type": "stream",
     "text": [
      "Ivy Default Cache set to: /Users/kshitizlohia/.ivy2/cache\n",
      "The jars for the packages stored in: /Users/kshitizlohia/.ivy2/jars\n",
      "io.delta#delta-core_2.12 added as a dependency\n",
      ":: resolving dependencies :: org.apache.spark#spark-submit-parent-7b3e3ceb-2f7f-4f73-b111-bc7215cca45b;1.0\n",
      "\tconfs: [default]\n",
      "\tfound io.delta#delta-core_2.12;2.3.0 in central\n",
      "\tfound io.delta#delta-storage;2.3.0 in central\n",
      "\tfound org.antlr#antlr4-runtime;4.8 in local-m2-cache\n",
      ":: resolution report :: resolve 257ms :: artifacts dl 8ms\n",
      "\t:: modules in use:\n",
      "\tio.delta#delta-core_2.12;2.3.0 from central in [default]\n",
      "\tio.delta#delta-storage;2.3.0 from central in [default]\n",
      "\torg.antlr#antlr4-runtime;4.8 from local-m2-cache in [default]\n",
      "\t---------------------------------------------------------------------\n",
      "\t|                  |            modules            ||   artifacts   |\n",
      "\t|       conf       | number| search|dwnlded|evicted|| number|dwnlded|\n",
      "\t---------------------------------------------------------------------\n",
      "\t|      default     |   3   |   0   |   0   |   0   ||   3   |   0   |\n",
      "\t---------------------------------------------------------------------\n",
      ":: retrieving :: org.apache.spark#spark-submit-parent-7b3e3ceb-2f7f-4f73-b111-bc7215cca45b\n",
      "\tconfs: [default]\n",
      "\t0 artifacts copied, 3 already retrieved (0kB/9ms)\n"
     ]
    },
    {
     "name": "stdout",
     "output_type": "stream",
     "text": [
      "23/05/26 18:26:30 WARN NativeCodeLoader: Unable to load native-hadoop library for your platform... using builtin-java classes where applicable\n"
     ]
    },
    {
     "name": "stderr",
     "output_type": "stream",
     "text": [
      "Setting default log level to \"WARN\".\n",
      "To adjust logging level use sc.setLogLevel(newLevel). For SparkR, use setLogLevel(newLevel).\n"
     ]
    },
    {
     "name": "stdout",
     "output_type": "stream",
     "text": [
      "WARNING:py.warnings:/Users/kshitizlohia/IdeaProjects/oracle/feature-store/advanced-ds/venv/lib/python3.10/site-packages/pyspark/sql/pandas/utils.py:37: DeprecationWarning: distutils Version classes are deprecated. Use packaging.version instead.\n",
      "  if LooseVersion(pandas.__version__) < LooseVersion(minimum_pandas_version):\n",
      "\n"
     ]
    },
    {
     "name": "stderr",
     "output_type": "stream",
     "text": [
      "[Stage 0:>                                                          (0 + 8) / 8]\r"
     ]
    },
    {
     "name": "stdout",
     "output_type": "stream",
     "text": [
      "23/05/26 18:27:02 WARN MemoryManager: Total allocation exceeds 95.00% (906,992,014 bytes) of heap memory\n",
      "Scaling row group sizes to 96.54% for 7 writers\n",
      "23/05/26 18:27:02 WARN MemoryManager: Total allocation exceeds 95.00% (906,992,014 bytes) of heap memory\n",
      "Scaling row group sizes to 84.47% for 8 writers\n",
      "23/05/26 18:27:04 WARN MemoryManager: Total allocation exceeds 95.00% (906,992,014 bytes) of heap memory\n",
      "Scaling row group sizes to 96.54% for 7 writers\n"
     ]
    },
    {
     "name": "stderr",
     "output_type": "stream",
     "text": [
      "\r",
      "                                                                                \r"
     ]
    },
    {
     "name": "stdout",
     "output_type": "stream",
     "text": [
      "23/05/26 18:27:07 WARN package: Truncated the string representation of a plan since it was too large. This behavior can be adjusted by setting 'spark.sql.debug.maxToStringFields'.\n"
     ]
    },
    {
     "name": "stderr",
     "output_type": "stream",
     "text": [
      "                                                                                \r"
     ]
    },
    {
     "name": "stdout",
     "output_type": "stream",
     "text": [
      "23/05/26 18:27:10 WARN HiveExternalCatalog: Couldn't find corresponding Hive SerDe for data source provider delta. Persisting data source table `589e6d7c5256bc5d35502ea34070802a`.`flights_feature_group` into Hive metastore in Spark SQL specific format, which is NOT compatible with Hive.\n"
     ]
    },
    {
     "name": "stderr",
     "output_type": "stream",
     "text": [
      "                                                                                \r"
     ]
    }
   ],
   "source": [
    "feature_group_flights.materialise(flights_df)"
   ]
  },
  {
   "cell_type": "markdown",
   "id": "545ef662",
   "metadata": {},
   "source": [
    "<a id=\"create_feature_group_airport\"></a>\n",
    "##### Airport Feature Group\n",
    "\n",
    "Create feature group for airport"
   ]
  },
  {
   "cell_type": "code",
   "execution_count": 19,
   "id": "de20fb5f",
   "metadata": {},
   "outputs": [
    {
     "data": {
      "text/plain": [
       "{\"kwargs\": {\"column\": \"IATA_CODE\"}, \"meta\": {}, \"expectation_type\": \"expect_column_values_to_not_be_null\"}"
      ]
     },
     "execution_count": 19,
     "metadata": {},
     "output_type": "execute_result"
    }
   ],
   "source": [
    "expectation_suite_airports = ExpectationSuite(\n",
    "    expectation_suite_name=\"test_airports_df\"\n",
    ")\n",
    "expectation_suite_airports.add_expectation(\n",
    "    ExpectationConfiguration(\n",
    "        expectation_type=\"expect_column_values_to_not_be_null\",\n",
    "        kwargs={\"column\": \"IATA_CODE\"},\n",
    "    )\n",
    ")"
   ]
  },
  {
   "cell_type": "code",
   "execution_count": 20,
   "id": "5c831661",
   "metadata": {},
   "outputs": [],
   "source": [
    "feature_group_airports = (\n",
    "    FeatureGroup()\n",
    "    .with_feature_store_id(feature_store.id)\n",
    "    .with_primary_keys([\"IATA_CODE\"])\n",
    "    .with_name(\"airport_feature_group\")\n",
    "    .with_entity_id(entity.id)\n",
    "    .with_compartment_id(compartment_id)\n",
    "    .with_schema_details_from_dataframe(airports_df)\n",
    "    .with_expectation_suite(\n",
    "        expectation_suite=expectation_suite_airports,\n",
    "        expectation_type=ExpectationType.STRICT,\n",
    "     )\n",
    ")"
   ]
  },
  {
   "cell_type": "code",
   "execution_count": 21,
   "id": "7aafe022",
   "metadata": {
    "jupyter": {
     "outputs_hidden": false
    }
   },
   "outputs": [
    {
     "data": {
      "text/plain": [
       "\n",
       "kind: FeatureGroup\n",
       "spec:\n",
       "  compartmentId: ocid1.tenancy.oc1..aaaaaaaa462hfhplpx652b32ix62xrdijppq2c7okwcqjlgrbknhgtj2kofa\n",
       "  entityId: 589E6D7C5256BC5D35502EA34070802A\n",
       "  expectationDetails:\n",
       "    createRuleDetails:\n",
       "    - arguments:\n",
       "        column: IATA_CODE\n",
       "      levelType: ERROR\n",
       "      name: Rule-0\n",
       "      ruleType: expect_column_values_to_not_be_null\n",
       "    expectationType: STRICT\n",
       "    name: test_airports_df\n",
       "    validationEngineType: GREAT_EXPECTATIONS\n",
       "  featureStoreId: 12CC69323C61BD5E3CB868F0776055F0\n",
       "  id: 5D11B87EB3AEAE6815CC0328DB20430C\n",
       "  inputFeatureDetails:\n",
       "  - featureType: STRING\n",
       "    name: IATA_CODE\n",
       "    orderNumber: 1\n",
       "  - featureType: STRING\n",
       "    name: AIRPORT\n",
       "    orderNumber: 2\n",
       "  - featureType: STRING\n",
       "    name: CITY\n",
       "    orderNumber: 3\n",
       "  - featureType: STRING\n",
       "    name: STATE\n",
       "    orderNumber: 4\n",
       "  - featureType: STRING\n",
       "    name: COUNTRY\n",
       "    orderNumber: 5\n",
       "  - featureType: FLOAT\n",
       "    name: LATITUDE\n",
       "    orderNumber: 6\n",
       "  - featureType: FLOAT\n",
       "    name: LONGITUDE\n",
       "    orderNumber: 7\n",
       "  name: airport_feature_group\n",
       "  primaryKeys:\n",
       "    items:\n",
       "    - name: IATA_CODE\n",
       "  statisticsConfig:\n",
       "    isEnabled: true\n",
       "type: featureGroup"
      ]
     },
     "execution_count": 21,
     "metadata": {},
     "output_type": "execute_result"
    }
   ],
   "source": [
    "feature_group_airports.create()"
   ]
  },
  {
   "cell_type": "code",
   "execution_count": 22,
   "id": "7d8f9a2a",
   "metadata": {},
   "outputs": [
    {
     "name": "stdout",
     "output_type": "stream",
     "text": [
      "INFO:great_expectations.validator.validator:\t1 expectation(s) included in expectation_suite.\n"
     ]
    },
    {
     "data": {
      "application/vnd.jupyter.widget-view+json": {
       "model_id": "41bea0f3574345e5ad0001e95ce84766",
       "version_major": 2,
       "version_minor": 0
      },
      "text/plain": [
       "Calculating Metrics:   0%|          | 0/6 [00:00<?, ?it/s]"
      ]
     },
     "metadata": {},
     "output_type": "display_data"
    },
    {
     "name": "stdout",
     "output_type": "stream",
     "text": [
      "23/05/26 18:28:09 WARN MemoryManager: Total allocation exceeds 95.00% (906,992,014 bytes) of heap memory\n",
      "Scaling row group sizes to 96.54% for 7 writers\n",
      "23/05/26 18:28:09 WARN MemoryManager: Total allocation exceeds 95.00% (906,992,014 bytes) of heap memory\n",
      "Scaling row group sizes to 84.47% for 8 writers\n",
      "23/05/26 18:28:09 WARN MemoryManager: Total allocation exceeds 95.00% (906,992,014 bytes) of heap memory\n",
      "Scaling row group sizes to 96.54% for 7 writers\n"
     ]
    },
    {
     "name": "stderr",
     "output_type": "stream",
     "text": [
      "                                                                                \r"
     ]
    },
    {
     "name": "stdout",
     "output_type": "stream",
     "text": [
      "23/05/26 18:28:13 WARN HiveExternalCatalog: Couldn't find corresponding Hive SerDe for data source provider delta. Persisting data source table `589e6d7c5256bc5d35502ea34070802a`.`airport_feature_group` into Hive metastore in Spark SQL specific format, which is NOT compatible with Hive.\n"
     ]
    },
    {
     "name": "stderr",
     "output_type": "stream",
     "text": [
      "                                                                                \r"
     ]
    }
   ],
   "source": [
    "feature_group_airports.materialise(airports_df)"
   ]
  },
  {
   "cell_type": "code",
   "execution_count": 23,
   "id": "378ba73e",
   "metadata": {},
   "outputs": [],
   "source": [
    "# feature_group_airports.show()"
   ]
  },
  {
   "cell_type": "markdown",
   "id": "e7cfd19d",
   "metadata": {},
   "source": [
    "<a id=\"create_feature_group_airlines\"></a>\n",
    "##### Airlines Feature Group\n",
    "\n",
    "Create feature group for airlines"
   ]
  },
  {
   "cell_type": "markdown",
   "id": "9a87644e",
   "metadata": {},
   "source": [
    "![FeatureGroup](https://objectstorage.us-ashburn-1.oraclecloud.com/p/hh2NOgFJbVSg4amcLM3G3hkTuHyBD-8aE_iCsuZKEvIav1Wlld-3zfCawG4ycQGN/n/ociodscdev/b/oci-feature-store/o/beta/_images/feature_groups.gif \"fetaure_groups\")"
   ]
  },
  {
   "cell_type": "code",
   "execution_count": 24,
   "id": "48af9503",
   "metadata": {},
   "outputs": [
    {
     "data": {
      "text/plain": [
       "{\"kwargs\": {\"column\": \"IATA_CODE\"}, \"meta\": {}, \"expectation_type\": \"expect_column_values_to_not_be_null\"}"
      ]
     },
     "execution_count": 24,
     "metadata": {},
     "output_type": "execute_result"
    }
   ],
   "source": [
    "expectation_suite_airlines = ExpectationSuite(\n",
    "    expectation_suite_name=\"test_airlines_df\"\n",
    ")\n",
    "expectation_suite_airlines.add_expectation(\n",
    "    ExpectationConfiguration(\n",
    "        expectation_type=\"expect_column_values_to_not_be_null\",\n",
    "        kwargs={\"column\": \"IATA_CODE\"},\n",
    "    )\n",
    ")"
   ]
  },
  {
   "cell_type": "code",
   "execution_count": 25,
   "id": "9217e1e8",
   "metadata": {},
   "outputs": [],
   "source": [
    "feature_group_airlines = (\n",
    "    FeatureGroup()\n",
    "    .with_feature_store_id(feature_store.id)\n",
    "    .with_primary_keys([\"IATA_CODE\"])\n",
    "    .with_name(\"airlines_feature_group\")\n",
    "    .with_entity_id(entity.id)\n",
    "    .with_compartment_id(compartment_id)\n",
    "    .with_schema_details_from_dataframe(airlines_df)\n",
    "    .with_expectation_suite(\n",
    "        expectation_suite=expectation_suite_airlines,\n",
    "        expectation_type=ExpectationType.STRICT,\n",
    "     )\n",
    ")"
   ]
  },
  {
   "cell_type": "code",
   "execution_count": 26,
   "id": "b24a4920",
   "metadata": {
    "jupyter": {
     "outputs_hidden": false
    }
   },
   "outputs": [
    {
     "data": {
      "text/plain": [
       "\n",
       "kind: FeatureGroup\n",
       "spec:\n",
       "  compartmentId: ocid1.tenancy.oc1..aaaaaaaa462hfhplpx652b32ix62xrdijppq2c7okwcqjlgrbknhgtj2kofa\n",
       "  entityId: 589E6D7C5256BC5D35502EA34070802A\n",
       "  expectationDetails:\n",
       "    createRuleDetails:\n",
       "    - arguments:\n",
       "        column: IATA_CODE\n",
       "      levelType: ERROR\n",
       "      name: Rule-0\n",
       "      ruleType: expect_column_values_to_not_be_null\n",
       "    expectationType: STRICT\n",
       "    name: test_airlines_df\n",
       "    validationEngineType: GREAT_EXPECTATIONS\n",
       "  featureStoreId: 12CC69323C61BD5E3CB868F0776055F0\n",
       "  id: DB2095CF4B3D03D32DA206C020DF49D8\n",
       "  inputFeatureDetails:\n",
       "  - featureType: STRING\n",
       "    name: IATA_CODE\n",
       "    orderNumber: 1\n",
       "  - featureType: STRING\n",
       "    name: AIRLINE\n",
       "    orderNumber: 2\n",
       "  name: airlines_feature_group\n",
       "  primaryKeys:\n",
       "    items:\n",
       "    - name: IATA_CODE\n",
       "  statisticsConfig:\n",
       "    isEnabled: true\n",
       "type: featureGroup"
      ]
     },
     "execution_count": 26,
     "metadata": {},
     "output_type": "execute_result"
    }
   ],
   "source": [
    "feature_group_airlines.create()"
   ]
  },
  {
   "cell_type": "code",
   "execution_count": 27,
   "id": "c5936119",
   "metadata": {},
   "outputs": [
    {
     "name": "stdout",
     "output_type": "stream",
     "text": [
      "INFO:great_expectations.validator.validator:\t1 expectation(s) included in expectation_suite.\n"
     ]
    },
    {
     "data": {
      "application/vnd.jupyter.widget-view+json": {
       "model_id": "ae7f16aecd774c5287128e9e8a181b57",
       "version_major": 2,
       "version_minor": 0
      },
      "text/plain": [
       "Calculating Metrics:   0%|          | 0/6 [00:00<?, ?it/s]"
      ]
     },
     "metadata": {},
     "output_type": "display_data"
    },
    {
     "name": "stdout",
     "output_type": "stream",
     "text": [
      "23/05/26 18:29:09 WARN HiveExternalCatalog: Couldn't find corresponding Hive SerDe for data source provider delta. Persisting data source table `589e6d7c5256bc5d35502ea34070802a`.`airlines_feature_group` into Hive metastore in Spark SQL specific format, which is NOT compatible with Hive.\n"
     ]
    }
   ],
   "source": [
    "feature_group_airlines.materialise(airlines_df)"
   ]
  },
  {
   "cell_type": "code",
   "execution_count": 28,
   "id": "c3c71266",
   "metadata": {},
   "outputs": [],
   "source": [
    "# feature_group_airlines.show()"
   ]
  },
  {
   "cell_type": "markdown",
   "id": "70a74e07",
   "metadata": {},
   "source": [
    "<a id=\"explore_featuregroup\"></a>\n",
    "### 3.3. Explore feature groups"
   ]
  },
  {
   "cell_type": "code",
   "execution_count": 29,
   "id": "9bec6c73",
   "metadata": {},
   "outputs": [
    {
     "data": {
      "text/html": [
       "<div>\n",
       "<style scoped>\n",
       "    .dataframe tbody tr th:only-of-type {\n",
       "        vertical-align: middle;\n",
       "    }\n",
       "\n",
       "    .dataframe tbody tr th {\n",
       "        vertical-align: top;\n",
       "    }\n",
       "\n",
       "    .dataframe thead th {\n",
       "        text-align: right;\n",
       "    }\n",
       "</style>\n",
       "<table border=\"1\" class=\"dataframe\">\n",
       "  <thead>\n",
       "    <tr style=\"text-align: right;\">\n",
       "      <th></th>\n",
       "      <th>name</th>\n",
       "      <th>type</th>\n",
       "      <th>feature_group_id</th>\n",
       "    </tr>\n",
       "  </thead>\n",
       "  <tbody>\n",
       "    <tr>\n",
       "      <th>0</th>\n",
       "      <td>YEAR</td>\n",
       "      <td>LONG</td>\n",
       "      <td>4096F2264D2ADD241320A2CC590A7C71</td>\n",
       "    </tr>\n",
       "    <tr>\n",
       "      <th>1</th>\n",
       "      <td>MONTH</td>\n",
       "      <td>LONG</td>\n",
       "      <td>4096F2264D2ADD241320A2CC590A7C71</td>\n",
       "    </tr>\n",
       "    <tr>\n",
       "      <th>2</th>\n",
       "      <td>DAY</td>\n",
       "      <td>LONG</td>\n",
       "      <td>4096F2264D2ADD241320A2CC590A7C71</td>\n",
       "    </tr>\n",
       "    <tr>\n",
       "      <th>3</th>\n",
       "      <td>DAY_OF_WEEK</td>\n",
       "      <td>LONG</td>\n",
       "      <td>4096F2264D2ADD241320A2CC590A7C71</td>\n",
       "    </tr>\n",
       "    <tr>\n",
       "      <th>4</th>\n",
       "      <td>AIRLINE</td>\n",
       "      <td>STRING</td>\n",
       "      <td>4096F2264D2ADD241320A2CC590A7C71</td>\n",
       "    </tr>\n",
       "    <tr>\n",
       "      <th>5</th>\n",
       "      <td>FLIGHT_NUMBER</td>\n",
       "      <td>LONG</td>\n",
       "      <td>4096F2264D2ADD241320A2CC590A7C71</td>\n",
       "    </tr>\n",
       "    <tr>\n",
       "      <th>6</th>\n",
       "      <td>ORIGIN_AIRPORT</td>\n",
       "      <td>STRING</td>\n",
       "      <td>4096F2264D2ADD241320A2CC590A7C71</td>\n",
       "    </tr>\n",
       "    <tr>\n",
       "      <th>7</th>\n",
       "      <td>DESTINATION_AIRPORT</td>\n",
       "      <td>STRING</td>\n",
       "      <td>4096F2264D2ADD241320A2CC590A7C71</td>\n",
       "    </tr>\n",
       "  </tbody>\n",
       "</table>\n",
       "</div>"
      ],
      "text/plain": [
       "                  name    type                  feature_group_id\n",
       "0                 YEAR    LONG  4096F2264D2ADD241320A2CC590A7C71\n",
       "1                MONTH    LONG  4096F2264D2ADD241320A2CC590A7C71\n",
       "2                  DAY    LONG  4096F2264D2ADD241320A2CC590A7C71\n",
       "3          DAY_OF_WEEK    LONG  4096F2264D2ADD241320A2CC590A7C71\n",
       "4              AIRLINE  STRING  4096F2264D2ADD241320A2CC590A7C71\n",
       "5        FLIGHT_NUMBER    LONG  4096F2264D2ADD241320A2CC590A7C71\n",
       "6       ORIGIN_AIRPORT  STRING  4096F2264D2ADD241320A2CC590A7C71\n",
       "7  DESTINATION_AIRPORT  STRING  4096F2264D2ADD241320A2CC590A7C71"
      ]
     },
     "execution_count": 29,
     "metadata": {},
     "output_type": "execute_result"
    }
   ],
   "source": [
    "feature_group_flights.get_features_df()"
   ]
  },
  {
   "cell_type": "code",
   "execution_count": 30,
   "id": "2af53d2b",
   "metadata": {},
   "outputs": [
    {
     "data": {
      "text/html": [
       "<div>\n",
       "<style scoped>\n",
       "    .dataframe tbody tr th:only-of-type {\n",
       "        vertical-align: middle;\n",
       "    }\n",
       "\n",
       "    .dataframe tbody tr th {\n",
       "        vertical-align: top;\n",
       "    }\n",
       "\n",
       "    .dataframe thead th {\n",
       "        text-align: right;\n",
       "    }\n",
       "</style>\n",
       "<table border=\"1\" class=\"dataframe\">\n",
       "  <thead>\n",
       "    <tr style=\"text-align: right;\">\n",
       "      <th></th>\n",
       "      <th>name</th>\n",
       "      <th>type</th>\n",
       "      <th>feature_group_id</th>\n",
       "    </tr>\n",
       "  </thead>\n",
       "  <tbody>\n",
       "    <tr>\n",
       "      <th>0</th>\n",
       "      <td>IATA_CODE</td>\n",
       "      <td>STRING</td>\n",
       "      <td>5D11B87EB3AEAE6815CC0328DB20430C</td>\n",
       "    </tr>\n",
       "    <tr>\n",
       "      <th>1</th>\n",
       "      <td>AIRPORT</td>\n",
       "      <td>STRING</td>\n",
       "      <td>5D11B87EB3AEAE6815CC0328DB20430C</td>\n",
       "    </tr>\n",
       "    <tr>\n",
       "      <th>2</th>\n",
       "      <td>CITY</td>\n",
       "      <td>STRING</td>\n",
       "      <td>5D11B87EB3AEAE6815CC0328DB20430C</td>\n",
       "    </tr>\n",
       "    <tr>\n",
       "      <th>3</th>\n",
       "      <td>STATE</td>\n",
       "      <td>STRING</td>\n",
       "      <td>5D11B87EB3AEAE6815CC0328DB20430C</td>\n",
       "    </tr>\n",
       "    <tr>\n",
       "      <th>4</th>\n",
       "      <td>COUNTRY</td>\n",
       "      <td>STRING</td>\n",
       "      <td>5D11B87EB3AEAE6815CC0328DB20430C</td>\n",
       "    </tr>\n",
       "    <tr>\n",
       "      <th>5</th>\n",
       "      <td>LATITUDE</td>\n",
       "      <td>DOUBLE</td>\n",
       "      <td>5D11B87EB3AEAE6815CC0328DB20430C</td>\n",
       "    </tr>\n",
       "    <tr>\n",
       "      <th>6</th>\n",
       "      <td>LONGITUDE</td>\n",
       "      <td>DOUBLE</td>\n",
       "      <td>5D11B87EB3AEAE6815CC0328DB20430C</td>\n",
       "    </tr>\n",
       "  </tbody>\n",
       "</table>\n",
       "</div>"
      ],
      "text/plain": [
       "        name    type                  feature_group_id\n",
       "0  IATA_CODE  STRING  5D11B87EB3AEAE6815CC0328DB20430C\n",
       "1    AIRPORT  STRING  5D11B87EB3AEAE6815CC0328DB20430C\n",
       "2       CITY  STRING  5D11B87EB3AEAE6815CC0328DB20430C\n",
       "3      STATE  STRING  5D11B87EB3AEAE6815CC0328DB20430C\n",
       "4    COUNTRY  STRING  5D11B87EB3AEAE6815CC0328DB20430C\n",
       "5   LATITUDE  DOUBLE  5D11B87EB3AEAE6815CC0328DB20430C\n",
       "6  LONGITUDE  DOUBLE  5D11B87EB3AEAE6815CC0328DB20430C"
      ]
     },
     "execution_count": 30,
     "metadata": {},
     "output_type": "execute_result"
    }
   ],
   "source": [
    "feature_group_airports.get_features_df()"
   ]
  },
  {
   "cell_type": "code",
   "execution_count": 31,
   "id": "e6c6b99f",
   "metadata": {},
   "outputs": [
    {
     "data": {
      "text/html": [
       "<div>\n",
       "<style scoped>\n",
       "    .dataframe tbody tr th:only-of-type {\n",
       "        vertical-align: middle;\n",
       "    }\n",
       "\n",
       "    .dataframe tbody tr th {\n",
       "        vertical-align: top;\n",
       "    }\n",
       "\n",
       "    .dataframe thead th {\n",
       "        text-align: right;\n",
       "    }\n",
       "</style>\n",
       "<table border=\"1\" class=\"dataframe\">\n",
       "  <thead>\n",
       "    <tr style=\"text-align: right;\">\n",
       "      <th></th>\n",
       "      <th>name</th>\n",
       "      <th>type</th>\n",
       "      <th>feature_group_id</th>\n",
       "    </tr>\n",
       "  </thead>\n",
       "  <tbody>\n",
       "    <tr>\n",
       "      <th>0</th>\n",
       "      <td>IATA_CODE</td>\n",
       "      <td>STRING</td>\n",
       "      <td>DB2095CF4B3D03D32DA206C020DF49D8</td>\n",
       "    </tr>\n",
       "    <tr>\n",
       "      <th>1</th>\n",
       "      <td>AIRLINE</td>\n",
       "      <td>STRING</td>\n",
       "      <td>DB2095CF4B3D03D32DA206C020DF49D8</td>\n",
       "    </tr>\n",
       "  </tbody>\n",
       "</table>\n",
       "</div>"
      ],
      "text/plain": [
       "        name    type                  feature_group_id\n",
       "0  IATA_CODE  STRING  DB2095CF4B3D03D32DA206C020DF49D8\n",
       "1    AIRLINE  STRING  DB2095CF4B3D03D32DA206C020DF49D8"
      ]
     },
     "execution_count": 31,
     "metadata": {},
     "output_type": "execute_result"
    }
   ],
   "source": [
    "feature_group_airlines.get_features_df()"
   ]
  },
  {
   "cell_type": "code",
   "execution_count": 32,
   "id": "8b502755",
   "metadata": {},
   "outputs": [
    {
     "name": "stdout",
     "output_type": "stream",
     "text": [
      "+----+-----+---+-----------+-------+-------------+--------------+-------------------+\n",
      "|YEAR|MONTH|DAY|DAY_OF_WEEK|AIRLINE|FLIGHT_NUMBER|ORIGIN_AIRPORT|DESTINATION_AIRPORT|\n",
      "+----+-----+---+-----------+-------+-------------+--------------+-------------------+\n",
      "|2015|    1|  1|          4|     DL|         1450|           LAS|                MSP|\n",
      "|2015|    1|  1|          4|     UA|         1545|           LAX|                IAH|\n",
      "|2015|    1|  1|          4|     AS|          130|           FAI|                SEA|\n",
      "|2015|    1|  1|          4|     NK|          597|           MSP|                FLL|\n",
      "|2015|    1|  1|          4|     US|          413|           LAS|                CLT|\n",
      "|2015|    1|  1|          4|     AA|         2392|           DEN|                MIA|\n",
      "|2015|    1|  1|          4|     NK|          168|           PHX|                ORD|\n",
      "|2015|    1|  1|          4|     AA|         2211|           PHX|                MIA|\n",
      "|2015|    1|  1|          4|     AS|          136|           ANC|                SEA|\n",
      "|2015|    1|  1|          4|     DL|           95|           SLC|                ATL|\n",
      "+----+-----+---+-----------+-------+-------------+--------------+-------------------+\n",
      "only showing top 10 rows\n",
      "\n"
     ]
    }
   ],
   "source": [
    "feature_group_flights.select().show()"
   ]
  },
  {
   "cell_type": "code",
   "execution_count": 33,
   "id": "e3be4df0",
   "metadata": {},
   "outputs": [
    {
     "name": "stdout",
     "output_type": "stream",
     "text": [
      "+---------+--------------------+-------------+-----+-------+--------+----------+\n",
      "|IATA_CODE|             AIRPORT|         CITY|STATE|COUNTRY|LATITUDE| LONGITUDE|\n",
      "+---------+--------------------+-------------+-----+-------+--------+----------+\n",
      "|      MGM|Montgomery Region...|   Montgomery|   AL|    USA|32.30064| -86.39398|\n",
      "|      MHK|Manhattan Regiona...|    Manhattan|   KS|    USA|39.14097| -96.67083|\n",
      "|      MHT|Manchester-Boston...|   Manchester|   NH|    USA|42.93452| -71.43706|\n",
      "|      MIA|Miami Internation...|        Miami|   FL|    USA|25.79325| -80.29056|\n",
      "|      MKE|General Mitchell ...|    Milwaukee|   WI|    USA|42.94722| -87.89658|\n",
      "|      MKG|Muskegon County A...|     Muskegon|   MI|    USA|43.16949| -86.23822|\n",
      "|      MLB|Melbourne Interna...|    Melbourne|   FL|    USA|28.10275| -80.64581|\n",
      "|      MLI|Quad City Interna...|       Moline|   IL|    USA|41.44853| -90.50754|\n",
      "|      MLU|Monroe Regional A...|       Monroe|   LA|    USA|32.51087| -92.03769|\n",
      "|      MMH|Mammoth Yosemite ...|Mammoth Lakes|   CA|    USA|37.62405|-118.83777|\n",
      "+---------+--------------------+-------------+-----+-------+--------+----------+\n",
      "only showing top 10 rows\n",
      "\n"
     ]
    }
   ],
   "source": [
    "feature_group_airports.select().show()"
   ]
  },
  {
   "cell_type": "code",
   "execution_count": 34,
   "id": "2c5a1bc8",
   "metadata": {},
   "outputs": [
    {
     "name": "stdout",
     "output_type": "stream",
     "text": [
      "+---------+--------------------+\n",
      "|IATA_CODE|             AIRLINE|\n",
      "+---------+--------------------+\n",
      "|       EV|Atlantic Southeas...|\n",
      "|       HA|Hawaiian Airlines...|\n",
      "|       UA|United Air Lines ...|\n",
      "|       MQ|American Eagle Ai...|\n",
      "|       VX|      Virgin America|\n",
      "|       WN|Southwest Airline...|\n",
      "|       DL|Delta Air Lines Inc.|\n",
      "|       OO|Skywest Airlines ...|\n",
      "|       AS|Alaska Airlines Inc.|\n",
      "|       AA|American Airlines...|\n",
      "+---------+--------------------+\n",
      "only showing top 10 rows\n",
      "\n"
     ]
    }
   ],
   "source": [
    "feature_group_airlines.select().show()"
   ]
  },
  {
   "cell_type": "code",
   "execution_count": 35,
   "id": "5e29d5ac",
   "metadata": {},
   "outputs": [
    {
     "data": {
      "text/html": [
       "<div>\n",
       "<style scoped>\n",
       "    .dataframe tbody tr th:only-of-type {\n",
       "        vertical-align: middle;\n",
       "    }\n",
       "\n",
       "    .dataframe tbody tr th {\n",
       "        vertical-align: top;\n",
       "    }\n",
       "\n",
       "    .dataframe thead th {\n",
       "        text-align: right;\n",
       "    }\n",
       "</style>\n",
       "<table border=\"1\" class=\"dataframe\">\n",
       "  <thead>\n",
       "    <tr style=\"text-align: right;\">\n",
       "      <th></th>\n",
       "      <th>IATA_CODE</th>\n",
       "      <th>AIRLINE</th>\n",
       "    </tr>\n",
       "  </thead>\n",
       "  <tbody>\n",
       "    <tr>\n",
       "      <th>completeness</th>\n",
       "      <td>1.0</td>\n",
       "      <td>1.0</td>\n",
       "    </tr>\n",
       "    <tr>\n",
       "      <th>approximateNumDistinctValues</th>\n",
       "      <td>13</td>\n",
       "      <td>14</td>\n",
       "    </tr>\n",
       "    <tr>\n",
       "      <th>dataType</th>\n",
       "      <td>String</td>\n",
       "      <td>String</td>\n",
       "    </tr>\n",
       "  </tbody>\n",
       "</table>\n",
       "</div>"
      ],
      "text/plain": [
       "                             IATA_CODE AIRLINE\n",
       "completeness                       1.0     1.0\n",
       "approximateNumDistinctValues        13      14\n",
       "dataType                        String  String"
      ]
     },
     "execution_count": 35,
     "metadata": {},
     "output_type": "execute_result"
    }
   ],
   "source": [
    "feature_group_airlines.get_statistics().to_pandas()"
   ]
  },
  {
   "cell_type": "code",
   "execution_count": 36,
   "id": "2d1b9863",
   "metadata": {},
   "outputs": [
    {
     "data": {
      "text/html": [
       "<div>\n",
       "<style scoped>\n",
       "    .dataframe tbody tr th:only-of-type {\n",
       "        vertical-align: middle;\n",
       "    }\n",
       "\n",
       "    .dataframe tbody tr th {\n",
       "        vertical-align: top;\n",
       "    }\n",
       "\n",
       "    .dataframe thead th {\n",
       "        text-align: right;\n",
       "    }\n",
       "</style>\n",
       "<table border=\"1\" class=\"dataframe\">\n",
       "  <thead>\n",
       "    <tr style=\"text-align: right;\">\n",
       "      <th></th>\n",
       "      <th>DAY</th>\n",
       "      <th>FLIGHT_NUMBER</th>\n",
       "      <th>AIRLINE</th>\n",
       "      <th>ORIGIN_AIRPORT</th>\n",
       "      <th>DAY_OF_WEEK</th>\n",
       "      <th>MONTH</th>\n",
       "      <th>YEAR</th>\n",
       "      <th>DESTINATION_AIRPORT</th>\n",
       "    </tr>\n",
       "  </thead>\n",
       "  <tbody>\n",
       "    <tr>\n",
       "      <th>completeness</th>\n",
       "      <td>1.0</td>\n",
       "      <td>1.0</td>\n",
       "      <td>1.0</td>\n",
       "      <td>1.0</td>\n",
       "      <td>1.0</td>\n",
       "      <td>1.0</td>\n",
       "      <td>1.0</td>\n",
       "      <td>1.0</td>\n",
       "    </tr>\n",
       "    <tr>\n",
       "      <th>approximateNumDistinctValues</th>\n",
       "      <td>1</td>\n",
       "      <td>95</td>\n",
       "      <td>11</td>\n",
       "      <td>42</td>\n",
       "      <td>1</td>\n",
       "      <td>1</td>\n",
       "      <td>1</td>\n",
       "      <td>29</td>\n",
       "    </tr>\n",
       "    <tr>\n",
       "      <th>dataType</th>\n",
       "      <td>Integral</td>\n",
       "      <td>Integral</td>\n",
       "      <td>String</td>\n",
       "      <td>String</td>\n",
       "      <td>Integral</td>\n",
       "      <td>Integral</td>\n",
       "      <td>Integral</td>\n",
       "      <td>String</td>\n",
       "    </tr>\n",
       "    <tr>\n",
       "      <th>sum</th>\n",
       "      <td>100.0</td>\n",
       "      <td>171151.0</td>\n",
       "      <td>NaN</td>\n",
       "      <td>NaN</td>\n",
       "      <td>400.0</td>\n",
       "      <td>100.0</td>\n",
       "      <td>201500.0</td>\n",
       "      <td>NaN</td>\n",
       "    </tr>\n",
       "    <tr>\n",
       "      <th>min</th>\n",
       "      <td>1.0</td>\n",
       "      <td>17.0</td>\n",
       "      <td>NaN</td>\n",
       "      <td>NaN</td>\n",
       "      <td>4.0</td>\n",
       "      <td>1.0</td>\n",
       "      <td>2015.0</td>\n",
       "      <td>NaN</td>\n",
       "    </tr>\n",
       "    <tr>\n",
       "      <th>max</th>\n",
       "      <td>1.0</td>\n",
       "      <td>7419.0</td>\n",
       "      <td>NaN</td>\n",
       "      <td>NaN</td>\n",
       "      <td>4.0</td>\n",
       "      <td>1.0</td>\n",
       "      <td>2015.0</td>\n",
       "      <td>NaN</td>\n",
       "    </tr>\n",
       "    <tr>\n",
       "      <th>mean</th>\n",
       "      <td>1.0</td>\n",
       "      <td>1711.51</td>\n",
       "      <td>NaN</td>\n",
       "      <td>NaN</td>\n",
       "      <td>4.0</td>\n",
       "      <td>1.0</td>\n",
       "      <td>2015.0</td>\n",
       "      <td>NaN</td>\n",
       "    </tr>\n",
       "    <tr>\n",
       "      <th>stddev</th>\n",
       "      <td>0.0</td>\n",
       "      <td>1873.257011</td>\n",
       "      <td>NaN</td>\n",
       "      <td>NaN</td>\n",
       "      <td>0.0</td>\n",
       "      <td>0.0</td>\n",
       "      <td>0.0</td>\n",
       "      <td>NaN</td>\n",
       "    </tr>\n",
       "  </tbody>\n",
       "</table>\n",
       "</div>"
      ],
      "text/plain": [
       "                                   DAY FLIGHT_NUMBER AIRLINE ORIGIN_AIRPORT  \\\n",
       "completeness                       1.0           1.0     1.0            1.0   \n",
       "approximateNumDistinctValues         1            95      11             42   \n",
       "dataType                      Integral      Integral  String         String   \n",
       "sum                              100.0      171151.0     NaN            NaN   \n",
       "min                                1.0          17.0     NaN            NaN   \n",
       "max                                1.0        7419.0     NaN            NaN   \n",
       "mean                               1.0       1711.51     NaN            NaN   \n",
       "stddev                             0.0   1873.257011     NaN            NaN   \n",
       "\n",
       "                             DAY_OF_WEEK     MONTH      YEAR  \\\n",
       "completeness                         1.0       1.0       1.0   \n",
       "approximateNumDistinctValues           1         1         1   \n",
       "dataType                        Integral  Integral  Integral   \n",
       "sum                                400.0     100.0  201500.0   \n",
       "min                                  4.0       1.0    2015.0   \n",
       "max                                  4.0       1.0    2015.0   \n",
       "mean                                 4.0       1.0    2015.0   \n",
       "stddev                               0.0       0.0       0.0   \n",
       "\n",
       "                             DESTINATION_AIRPORT  \n",
       "completeness                                 1.0  \n",
       "approximateNumDistinctValues                  29  \n",
       "dataType                                  String  \n",
       "sum                                          NaN  \n",
       "min                                          NaN  \n",
       "max                                          NaN  \n",
       "mean                                         NaN  \n",
       "stddev                                       NaN  "
      ]
     },
     "execution_count": 36,
     "metadata": {},
     "output_type": "execute_result"
    }
   ],
   "source": [
    "feature_group_flights.get_statistics().to_pandas()"
   ]
  },
  {
   "cell_type": "code",
   "execution_count": 37,
   "id": "031f9a5a",
   "metadata": {},
   "outputs": [
    {
     "data": {
      "text/plain": [
       "\n",
       "kind: statistics\n",
       "spec:\n",
       "  content: '{\"DAY\": {\"completeness\": 1.0, \"approximateNumDistinctValues\": 1, \"dataType\":\n",
       "    \"Integral\", \"sum\": 100.0, \"min\": 1.0, \"max\": 1.0, \"mean\": 1.0, \"stddev\": 0.0},\n",
       "    \"FLIGHT_NUMBER\": {\"completeness\": 1.0, \"approximateNumDistinctValues\": 95, \"dataType\":\n",
       "    \"Integral\", \"sum\": 171151.0, \"min\": 17.0, \"max\": 7419.0, \"mean\": 1711.51, \"stddev\":\n",
       "    1873.257011170651}, \"AIRLINE\": {\"completeness\": 1.0, \"approximateNumDistinctValues\":\n",
       "    11, \"dataType\": \"String\"}, \"ORIGIN_AIRPORT\": {\"completeness\": 1.0, \"approximateNumDistinctValues\":\n",
       "    42, \"dataType\": \"String\"}, \"DAY_OF_WEEK\": {\"completeness\": 1.0, \"approximateNumDistinctValues\":\n",
       "    1, \"dataType\": \"Integral\", \"sum\": 400.0, \"min\": 4.0, \"max\": 4.0, \"mean\": 4.0,\n",
       "    \"stddev\": 0.0}, \"MONTH\": {\"completeness\": 1.0, \"approximateNumDistinctValues\":\n",
       "    1, \"dataType\": \"Integral\", \"sum\": 100.0, \"min\": 1.0, \"max\": 1.0, \"mean\": 1.0,\n",
       "    \"stddev\": 0.0}, \"YEAR\": {\"completeness\": 1.0, \"approximateNumDistinctValues\":\n",
       "    1, \"dataType\": \"Integral\", \"sum\": 201500.0, \"min\": 2015.0, \"max\": 2015.0, \"mean\":\n",
       "    2015.0, \"stddev\": 0.0}, \"DESTINATION_AIRPORT\": {\"completeness\": 1.0, \"approximateNumDistinctValues\":\n",
       "    29, \"dataType\": \"String\"}}'\n",
       "type: statistics"
      ]
     },
     "execution_count": 37,
     "metadata": {},
     "output_type": "execute_result"
    }
   ],
   "source": [
    "feature_group_flights.get_statistics()"
   ]
  },
  {
   "cell_type": "code",
   "execution_count": 38,
   "id": "151510ca",
   "metadata": {},
   "outputs": [
    {
     "data": {
      "text/html": [
       "<div>\n",
       "<style scoped>\n",
       "    .dataframe tbody tr th:only-of-type {\n",
       "        vertical-align: middle;\n",
       "    }\n",
       "\n",
       "    .dataframe tbody tr th {\n",
       "        vertical-align: top;\n",
       "    }\n",
       "\n",
       "    .dataframe thead th {\n",
       "        text-align: right;\n",
       "    }\n",
       "</style>\n",
       "<table border=\"1\" class=\"dataframe\">\n",
       "  <thead>\n",
       "    <tr style=\"text-align: right;\">\n",
       "      <th></th>\n",
       "      <th>0</th>\n",
       "    </tr>\n",
       "  </thead>\n",
       "  <tbody>\n",
       "    <tr>\n",
       "      <th>results</th>\n",
       "      <td>[{'success': True, 'exception_info': {'raised_exception': False, 'exception_traceback': None, 'exception_message': None}, 'result': {'element_count': 14, 'unexpected_count': 0, 'unexpected_percent': 0.0, 'partial_unexpected_list': []}, 'meta': {}, 'expectation_config': {'kwargs': {'column': 'IATA_CODE', 'batch_id': 'fcc0fd82abbd5135e99c8e9bb6de9a40'}, 'meta': {}, 'expectation_type': 'expect_column_values_to_not_be_null'}}]</td>\n",
       "    </tr>\n",
       "    <tr>\n",
       "      <th>success</th>\n",
       "      <td>True</td>\n",
       "    </tr>\n",
       "    <tr>\n",
       "      <th>statistics.evaluated_expectations</th>\n",
       "      <td>1</td>\n",
       "    </tr>\n",
       "    <tr>\n",
       "      <th>statistics.successful_expectations</th>\n",
       "      <td>1</td>\n",
       "    </tr>\n",
       "    <tr>\n",
       "      <th>statistics.unsuccessful_expectations</th>\n",
       "      <td>0</td>\n",
       "    </tr>\n",
       "    <tr>\n",
       "      <th>statistics.success_percent</th>\n",
       "      <td>100.0</td>\n",
       "    </tr>\n",
       "    <tr>\n",
       "      <th>meta.great_expectations_version</th>\n",
       "      <td>0.16.10</td>\n",
       "    </tr>\n",
       "    <tr>\n",
       "      <th>meta.expectation_suite_name</th>\n",
       "      <td>airlines_feature_group</td>\n",
       "    </tr>\n",
       "    <tr>\n",
       "      <th>meta.run_id.run_time</th>\n",
       "      <td>2023-05-26T18:29:06.748389+05:30</td>\n",
       "    </tr>\n",
       "    <tr>\n",
       "      <th>meta.run_id.run_name</th>\n",
       "      <td>None</td>\n",
       "    </tr>\n",
       "    <tr>\n",
       "      <th>meta.batch_markers.ge_load_time</th>\n",
       "      <td>20230526T125906.747443Z</td>\n",
       "    </tr>\n",
       "    <tr>\n",
       "      <th>meta.active_batch_definition.datasource_name</th>\n",
       "      <td>feature-ingestion-pipeline</td>\n",
       "    </tr>\n",
       "    <tr>\n",
       "      <th>meta.active_batch_definition.data_connector_name</th>\n",
       "      <td>feature-ingestion-pipeline</td>\n",
       "    </tr>\n",
       "    <tr>\n",
       "      <th>meta.active_batch_definition.data_asset_name</th>\n",
       "      <td>feature-ingestion-pipeline</td>\n",
       "    </tr>\n",
       "    <tr>\n",
       "      <th>meta.active_batch_definition.batch_identifiers.ge_batch_id</th>\n",
       "      <td>1927146e-fbc5-11ed-ab32-acde48001122</td>\n",
       "    </tr>\n",
       "    <tr>\n",
       "      <th>meta.validation_time</th>\n",
       "      <td>20230526T125906.748336Z</td>\n",
       "    </tr>\n",
       "    <tr>\n",
       "      <th>meta.checkpoint_name</th>\n",
       "      <td>None</td>\n",
       "    </tr>\n",
       "  </tbody>\n",
       "</table>\n",
       "</div>"
      ],
      "text/plain": [
       "                                                                                                                                                                                                                                                                                                                                                                                                                                                                                                     0\n",
       "results                                                     [{'success': True, 'exception_info': {'raised_exception': False, 'exception_traceback': None, 'exception_message': None}, 'result': {'element_count': 14, 'unexpected_count': 0, 'unexpected_percent': 0.0, 'partial_unexpected_list': []}, 'meta': {}, 'expectation_config': {'kwargs': {'column': 'IATA_CODE', 'batch_id': 'fcc0fd82abbd5135e99c8e9bb6de9a40'}, 'meta': {}, 'expectation_type': 'expect_column_values_to_not_be_null'}}]\n",
       "success                                                                                                                                                                                                                                                                                                                                                                                                                                                                                           True\n",
       "statistics.evaluated_expectations                                                                                                                                                                                                                                                                                                                                                                                                                                                                    1\n",
       "statistics.successful_expectations                                                                                                                                                                                                                                                                                                                                                                                                                                                                   1\n",
       "statistics.unsuccessful_expectations                                                                                                                                                                                                                                                                                                                                                                                                                                                                 0\n",
       "statistics.success_percent                                                                                                                                                                                                                                                                                                                                                                                                                                                                       100.0\n",
       "meta.great_expectations_version                                                                                                                                                                                                                                                                                                                                                                                                                                                                0.16.10\n",
       "meta.expectation_suite_name                                                                                                                                                                                                                                                                                                                                                                                                                                                     airlines_feature_group\n",
       "meta.run_id.run_time                                                                                                                                                                                                                                                                                                                                                                                                                                                  2023-05-26T18:29:06.748389+05:30\n",
       "meta.run_id.run_name                                                                                                                                                                                                                                                                                                                                                                                                                                                                              None\n",
       "meta.batch_markers.ge_load_time                                                                                                                                                                                                                                                                                                                                                                                                                                                20230526T125906.747443Z\n",
       "meta.active_batch_definition.datasource_name                                                                                                                                                                                                                                                                                                                                                                                                                                feature-ingestion-pipeline\n",
       "meta.active_batch_definition.data_connector_name                                                                                                                                                                                                                                                                                                                                                                                                                            feature-ingestion-pipeline\n",
       "meta.active_batch_definition.data_asset_name                                                                                                                                                                                                                                                                                                                                                                                                                                feature-ingestion-pipeline\n",
       "meta.active_batch_definition.batch_identifiers.ge_batch_id                                                                                                                                                                                                                                                                                                                                                                                                        1927146e-fbc5-11ed-ab32-acde48001122\n",
       "meta.validation_time                                                                                                                                                                                                                                                                                                                                                                                                                                                           20230526T125906.748336Z\n",
       "meta.checkpoint_name                                                                                                                                                                                                                                                                                                                                                                                                                                                                              None"
      ]
     },
     "execution_count": 38,
     "metadata": {},
     "output_type": "execute_result"
    }
   ],
   "source": [
    "feature_group_airlines.get_validation_output_df().T"
   ]
  },
  {
   "cell_type": "code",
   "execution_count": 39,
   "id": "0293d8dc",
   "metadata": {},
   "outputs": [
    {
     "data": {
      "text/html": [
       "<div>\n",
       "<style scoped>\n",
       "    .dataframe tbody tr th:only-of-type {\n",
       "        vertical-align: middle;\n",
       "    }\n",
       "\n",
       "    .dataframe tbody tr th {\n",
       "        vertical-align: top;\n",
       "    }\n",
       "\n",
       "    .dataframe thead th {\n",
       "        text-align: right;\n",
       "    }\n",
       "</style>\n",
       "<table border=\"1\" class=\"dataframe\">\n",
       "  <thead>\n",
       "    <tr style=\"text-align: right;\">\n",
       "      <th></th>\n",
       "      <th>0</th>\n",
       "    </tr>\n",
       "  </thead>\n",
       "  <tbody>\n",
       "    <tr>\n",
       "      <th>results</th>\n",
       "      <td>[{'success': True, 'exception_info': {'raised_exception': False, 'exception_traceback': None, 'exception_message': None}, 'result': {'element_count': 322, 'unexpected_count': 0, 'unexpected_percent': 0.0, 'partial_unexpected_list': []}, 'meta': {}, 'expectation_config': {'kwargs': {'column': 'IATA_CODE', 'batch_id': '178b8ab97302e0239a456245bd5396df'}, 'meta': {}, 'expectation_type': 'expect_column_values_to_not_be_null'}}]</td>\n",
       "    </tr>\n",
       "    <tr>\n",
       "      <th>success</th>\n",
       "      <td>True</td>\n",
       "    </tr>\n",
       "    <tr>\n",
       "      <th>statistics.evaluated_expectations</th>\n",
       "      <td>1</td>\n",
       "    </tr>\n",
       "    <tr>\n",
       "      <th>statistics.successful_expectations</th>\n",
       "      <td>1</td>\n",
       "    </tr>\n",
       "    <tr>\n",
       "      <th>statistics.unsuccessful_expectations</th>\n",
       "      <td>0</td>\n",
       "    </tr>\n",
       "    <tr>\n",
       "      <th>statistics.success_percent</th>\n",
       "      <td>100.0</td>\n",
       "    </tr>\n",
       "    <tr>\n",
       "      <th>meta.great_expectations_version</th>\n",
       "      <td>0.16.10</td>\n",
       "    </tr>\n",
       "    <tr>\n",
       "      <th>meta.expectation_suite_name</th>\n",
       "      <td>airport_feature_group</td>\n",
       "    </tr>\n",
       "    <tr>\n",
       "      <th>meta.run_id.run_time</th>\n",
       "      <td>2023-05-26T18:28:08.605417+05:30</td>\n",
       "    </tr>\n",
       "    <tr>\n",
       "      <th>meta.run_id.run_name</th>\n",
       "      <td>None</td>\n",
       "    </tr>\n",
       "    <tr>\n",
       "      <th>meta.batch_markers.ge_load_time</th>\n",
       "      <td>20230526T125808.604816Z</td>\n",
       "    </tr>\n",
       "    <tr>\n",
       "      <th>meta.active_batch_definition.datasource_name</th>\n",
       "      <td>feature-ingestion-pipeline</td>\n",
       "    </tr>\n",
       "    <tr>\n",
       "      <th>meta.active_batch_definition.data_connector_name</th>\n",
       "      <td>feature-ingestion-pipeline</td>\n",
       "    </tr>\n",
       "    <tr>\n",
       "      <th>meta.active_batch_definition.data_asset_name</th>\n",
       "      <td>feature-ingestion-pipeline</td>\n",
       "    </tr>\n",
       "    <tr>\n",
       "      <th>meta.active_batch_definition.batch_identifiers.ge_batch_id</th>\n",
       "      <td>f67f3702-fbc4-11ed-ab32-acde48001122</td>\n",
       "    </tr>\n",
       "    <tr>\n",
       "      <th>meta.validation_time</th>\n",
       "      <td>20230526T125808.605361Z</td>\n",
       "    </tr>\n",
       "    <tr>\n",
       "      <th>meta.checkpoint_name</th>\n",
       "      <td>None</td>\n",
       "    </tr>\n",
       "  </tbody>\n",
       "</table>\n",
       "</div>"
      ],
      "text/plain": [
       "                                                                                                                                                                                                                                                                                                                                                                                                                                                                                                      0\n",
       "results                                                     [{'success': True, 'exception_info': {'raised_exception': False, 'exception_traceback': None, 'exception_message': None}, 'result': {'element_count': 322, 'unexpected_count': 0, 'unexpected_percent': 0.0, 'partial_unexpected_list': []}, 'meta': {}, 'expectation_config': {'kwargs': {'column': 'IATA_CODE', 'batch_id': '178b8ab97302e0239a456245bd5396df'}, 'meta': {}, 'expectation_type': 'expect_column_values_to_not_be_null'}}]\n",
       "success                                                                                                                                                                                                                                                                                                                                                                                                                                                                                            True\n",
       "statistics.evaluated_expectations                                                                                                                                                                                                                                                                                                                                                                                                                                                                     1\n",
       "statistics.successful_expectations                                                                                                                                                                                                                                                                                                                                                                                                                                                                    1\n",
       "statistics.unsuccessful_expectations                                                                                                                                                                                                                                                                                                                                                                                                                                                                  0\n",
       "statistics.success_percent                                                                                                                                                                                                                                                                                                                                                                                                                                                                        100.0\n",
       "meta.great_expectations_version                                                                                                                                                                                                                                                                                                                                                                                                                                                                 0.16.10\n",
       "meta.expectation_suite_name                                                                                                                                                                                                                                                                                                                                                                                                                                                       airport_feature_group\n",
       "meta.run_id.run_time                                                                                                                                                                                                                                                                                                                                                                                                                                                   2023-05-26T18:28:08.605417+05:30\n",
       "meta.run_id.run_name                                                                                                                                                                                                                                                                                                                                                                                                                                                                               None\n",
       "meta.batch_markers.ge_load_time                                                                                                                                                                                                                                                                                                                                                                                                                                                 20230526T125808.604816Z\n",
       "meta.active_batch_definition.datasource_name                                                                                                                                                                                                                                                                                                                                                                                                                                 feature-ingestion-pipeline\n",
       "meta.active_batch_definition.data_connector_name                                                                                                                                                                                                                                                                                                                                                                                                                             feature-ingestion-pipeline\n",
       "meta.active_batch_definition.data_asset_name                                                                                                                                                                                                                                                                                                                                                                                                                                 feature-ingestion-pipeline\n",
       "meta.active_batch_definition.batch_identifiers.ge_batch_id                                                                                                                                                                                                                                                                                                                                                                                                         f67f3702-fbc4-11ed-ab32-acde48001122\n",
       "meta.validation_time                                                                                                                                                                                                                                                                                                                                                                                                                                                            20230526T125808.605361Z\n",
       "meta.checkpoint_name                                                                                                                                                                                                                                                                                                                                                                                                                                                                               None"
      ]
     },
     "execution_count": 39,
     "metadata": {},
     "output_type": "execute_result"
    }
   ],
   "source": [
    "feature_group_airports.get_validation_output_df().T"
   ]
  },
  {
   "cell_type": "markdown",
   "id": "deccebb2",
   "metadata": {},
   "source": [
    "<a id=\"select_subset_featuregroup\"></a>\n",
    "### 3.4. Select subset of features"
   ]
  },
  {
   "cell_type": "code",
   "execution_count": 40,
   "id": "81003f24",
   "metadata": {},
   "outputs": [
    {
     "name": "stdout",
     "output_type": "stream",
     "text": [
      "+---------+\n",
      "|IATA_CODE|\n",
      "+---------+\n",
      "|       EV|\n",
      "|       HA|\n",
      "|       UA|\n",
      "|       MQ|\n",
      "|       VX|\n",
      "|       WN|\n",
      "|       DL|\n",
      "|       OO|\n",
      "|       AS|\n",
      "|       AA|\n",
      "+---------+\n",
      "only showing top 10 rows\n",
      "\n"
     ]
    }
   ],
   "source": [
    "feature_group_airlines.select(['IATA_CODE']).show()"
   ]
  },
  {
   "cell_type": "markdown",
   "id": "3033bf7a",
   "metadata": {},
   "source": [
    "<a id=\"filter_featuregroup\"></a>\n",
    "### 3.5. Filter feature groups"
   ]
  },
  {
   "cell_type": "code",
   "execution_count": 41,
   "id": "994dd6cf",
   "metadata": {},
   "outputs": [
    {
     "name": "stdout",
     "output_type": "stream",
     "text": [
      "+---------+--------------------+\n",
      "|IATA_CODE|             AIRLINE|\n",
      "+---------+--------------------+\n",
      "|       EV|Atlantic Southeas...|\n",
      "+---------+--------------------+\n",
      "\n"
     ]
    }
   ],
   "source": [
    "feature_group_airlines.filter(feature_group_airlines.IATA_CODE == \"EV\").show()"
   ]
  },
  {
   "cell_type": "markdown",
   "id": "dfc0e9a5",
   "metadata": {},
   "source": [
    "<a id=\"join_featuregroup\"></a>\n",
    "### 3.6. Apply joins on feature group\n",
    "As in Pandas, if the feature has the same name on both feature groups, then you can use the `on=[]` paramter. If they have different names, then you can use the `left_on=[]` and `right_on=[]` paramters:"
   ]
  },
  {
   "cell_type": "code",
   "execution_count": 42,
   "id": "6a204ae8",
   "metadata": {},
   "outputs": [
    {
     "name": "stdout",
     "output_type": "stream",
     "text": [
      "+----+-----+---+-----------+-------+-------------+--------------+-------------------+---------+-------+----+-----+-------+--------+---------+\n",
      "|YEAR|MONTH|DAY|DAY_OF_WEEK|AIRLINE|FLIGHT_NUMBER|ORIGIN_AIRPORT|DESTINATION_AIRPORT|IATA_CODE|AIRPORT|CITY|STATE|COUNTRY|LATITUDE|LONGITUDE|\n",
      "+----+-----+---+-----------+-------+-------------+--------------+-------------------+---------+-------+----+-----+-------+--------+---------+\n",
      "|2015|    1|  1|          4|     DL|         1450|           LAS|                MSP|     null|   null|null| null|   null|    null|     null|\n",
      "|2015|    1|  1|          4|     UA|         1545|           LAX|                IAH|     null|   null|null| null|   null|    null|     null|\n",
      "|2015|    1|  1|          4|     AS|          130|           FAI|                SEA|     null|   null|null| null|   null|    null|     null|\n",
      "|2015|    1|  1|          4|     NK|          597|           MSP|                FLL|     null|   null|null| null|   null|    null|     null|\n",
      "|2015|    1|  1|          4|     US|          413|           LAS|                CLT|     null|   null|null| null|   null|    null|     null|\n",
      "+----+-----+---+-----------+-------+-------------+--------------+-------------------+---------+-------+----+-----+-------+--------+---------+\n",
      "only showing top 5 rows\n",
      "\n"
     ]
    }
   ],
   "source": [
    "from ads.feature_store.common.enums import JoinType\n",
    "\n",
    "query = (\n",
    "    feature_group_flights.select()\n",
    "    .join(feature_group_airlines.select(), left_on=['ORIGIN_AIRPORT'], right_on=['IATA_CODE'], join_type=JoinType.LEFT)\n",
    "    .join(feature_group_airports.select(), left_on=['AIRLINE'], right_on=['IATA_CODE'], join_type=JoinType.LEFT)\n",
    ")\n",
    "query.show(5)"
   ]
  },
  {
   "cell_type": "code",
   "execution_count": 43,
   "id": "43b2da35",
   "metadata": {},
   "outputs": [
    {
     "data": {
      "text/plain": [
       "'SELECT fg_2.YEAR YEAR, fg_2.MONTH MONTH, fg_2.DAY DAY, fg_2.DAY_OF_WEEK DAY_OF_WEEK, fg_2.AIRLINE AIRLINE, fg_2.FLIGHT_NUMBER FLIGHT_NUMBER, fg_2.ORIGIN_AIRPORT ORIGIN_AIRPORT, fg_2.DESTINATION_AIRPORT DESTINATION_AIRPORT, fg_0.IATA_CODE IATA_CODE, fg_1.AIRPORT AIRPORT, fg_1.CITY CITY, fg_1.STATE STATE, fg_1.COUNTRY COUNTRY, fg_1.LATITUDE LATITUDE, fg_1.LONGITUDE LONGITUDE FROM `589E6D7C5256BC5D35502EA34070802A`.flights_feature_group fg_2 LEFT JOIN `589E6D7C5256BC5D35502EA34070802A`.airlines_feature_group fg_0 ON fg_2.ORIGIN_AIRPORT = fg_0.IATA_CODE LEFT JOIN `589E6D7C5256BC5D35502EA34070802A`.airport_feature_group fg_1 ON fg_2.AIRLINE = fg_1.IATA_CODE'"
      ]
     },
     "execution_count": 43,
     "metadata": {},
     "output_type": "execute_result"
    }
   ],
   "source": [
    "query.to_string()"
   ]
  },
  {
   "cell_type": "markdown",
   "id": "5cfd1e29",
   "metadata": {},
   "source": [
    "<a id=\"create_dataset\"></a>\n",
    "### 3.7 Create dataset\n",
    "A dataset is a collection of feature snapshots that are joined together to either train a model or perform model inference."
   ]
  },
  {
   "cell_type": "markdown",
   "id": "9ffb5c13",
   "metadata": {},
   "source": [
    "![Dataset](https://objectstorage.us-ashburn-1.oraclecloud.com/p/hh2NOgFJbVSg4amcLM3G3hkTuHyBD-8aE_iCsuZKEvIav1Wlld-3zfCawG4ycQGN/n/ociodscdev/b/oci-feature-store/o/beta/_images/dataset.gif \"dataset\")\n"
   ]
  },
  {
   "cell_type": "code",
   "execution_count": 44,
   "id": "b2eddc43",
   "metadata": {},
   "outputs": [],
   "source": [
    "dataset = (\n",
    "    Dataset()\n",
    "    .with_description(\"Combined dataset for flights\")\n",
    "    .with_compartment_id(compartment_id)\n",
    "    .with_name(\"flights_dataset\")\n",
    "    .with_entity_id(entity.id)\n",
    "    .with_feature_store_id(feature_store.id)\n",
    "    .with_query(query.to_string())\n",
    ")"
   ]
  },
  {
   "cell_type": "markdown",
   "id": "ab968f8f",
   "metadata": {},
   "source": [
    "<a id=\"create_dataset\"></a>\n",
    "##### Create Dataset\n",
    "\n",
    "Call the ```.create()``` method of the Dataset instance to create a dataset."
   ]
  },
  {
   "cell_type": "code",
   "execution_count": 45,
   "id": "4a6cd8b8",
   "metadata": {},
   "outputs": [
    {
     "data": {
      "text/plain": [
       "\n",
       "kind: Dataset\n",
       "spec:\n",
       "  compartmentId: ocid1.tenancy.oc1..aaaaaaaa462hfhplpx652b32ix62xrdijppq2c7okwcqjlgrbknhgtj2kofa\n",
       "  description: Combined dataset for flights\n",
       "  entityId: 589E6D7C5256BC5D35502EA34070802A\n",
       "  featureStoreId: 12CC69323C61BD5E3CB868F0776055F0\n",
       "  id: 6E66506E563042B3324B81DBACD51189\n",
       "  name: flights_dataset\n",
       "  query: SELECT fg_2.YEAR YEAR, fg_2.MONTH MONTH, fg_2.DAY DAY, fg_2.DAY_OF_WEEK DAY_OF_WEEK,\n",
       "    fg_2.AIRLINE AIRLINE, fg_2.FLIGHT_NUMBER FLIGHT_NUMBER, fg_2.ORIGIN_AIRPORT ORIGIN_AIRPORT,\n",
       "    fg_2.DESTINATION_AIRPORT DESTINATION_AIRPORT, fg_0.IATA_CODE IATA_CODE, fg_1.AIRPORT\n",
       "    AIRPORT, fg_1.CITY CITY, fg_1.STATE STATE, fg_1.COUNTRY COUNTRY, fg_1.LATITUDE\n",
       "    LATITUDE, fg_1.LONGITUDE LONGITUDE FROM `589E6D7C5256BC5D35502EA34070802A`.flights_feature_group\n",
       "    fg_2 LEFT JOIN `589E6D7C5256BC5D35502EA34070802A`.airlines_feature_group fg_0\n",
       "    ON fg_2.ORIGIN_AIRPORT = fg_0.IATA_CODE LEFT JOIN `589E6D7C5256BC5D35502EA34070802A`.airport_feature_group\n",
       "    fg_1 ON fg_2.AIRLINE = fg_1.IATA_CODE\n",
       "  statisticsConfig:\n",
       "    isEnabled: true\n",
       "type: dataset"
      ]
     },
     "execution_count": 45,
     "metadata": {},
     "output_type": "execute_result"
    }
   ],
   "source": [
    "dataset.create()"
   ]
  },
  {
   "cell_type": "code",
   "execution_count": 46,
   "id": "73bc762c",
   "metadata": {},
   "outputs": [
    {
     "name": "stderr",
     "output_type": "stream",
     "text": [
      "\r",
      "[Stage 85:==================================================>       (7 + 1) / 8]\r",
      "\r",
      "                                                                                \r"
     ]
    },
    {
     "name": "stdout",
     "output_type": "stream",
     "text": [
      "23/05/26 18:30:55 WARN HiveExternalCatalog: Couldn't find corresponding Hive SerDe for data source provider delta. Persisting data source table `589e6d7c5256bc5d35502ea34070802a`.`flights_dataset` into Hive metastore in Spark SQL specific format, which is NOT compatible with Hive.\n"
     ]
    }
   ],
   "source": [
    "dataset.materialise()"
   ]
  },
  {
   "cell_type": "markdown",
   "id": "89aa9977",
   "metadata": {},
   "source": [
    "<a id=\"visualise_lineage\"></a>\n",
    "##### Visualise lineage\n",
    "\n",
    "Use the ```.show()``` method on the Dataset instance to visualize the lineage of the dataset."
   ]
  },
  {
   "cell_type": "code",
   "execution_count": 45,
   "id": "5536e5ed",
   "metadata": {},
   "outputs": [],
   "source": [
    "# dataset.show()"
   ]
  },
  {
   "cell_type": "code",
   "execution_count": 50,
   "id": "a2562a97",
   "metadata": {},
   "outputs": [],
   "source": [
    "from ads.feature_store.model_details import ModelDetails\n",
    "updated_dataset = dataset.add_models(ModelDetails().with_items([\"model_ocid2\"]))"
   ]
  },
  {
   "cell_type": "code",
   "execution_count": 51,
   "id": "947589cf",
   "metadata": {},
   "outputs": [
    {
     "name": "stdout",
     "output_type": "stream",
     "text": [
      "WARNING:py.warnings:/Users/kshitizlohia/IdeaProjects/oracle/feature-store/advanced-ds/ads/feature_store/feature_lineage/graphviz_service.py:176: DeprecationWarning: Importing display from IPython.core.display is deprecated since IPython 7.14, please import from IPython display\n",
      "  from IPython.core.display import display\n",
      "\n"
     ]
    },
    {
     "data": {
      "image/svg+xml": [
       "<?xml version=\"1.0\" encoding=\"UTF-8\" standalone=\"no\"?>\n",
       "<!DOCTYPE svg PUBLIC \"-//W3C//DTD SVG 1.1//EN\"\n",
       " \"http://www.w3.org/Graphics/SVG/1.1/DTD/svg11.dtd\">\n",
       "<!-- Generated by graphviz version 8.0.5 (20230430.1635)\n",
       " -->\n",
       "<!-- Pages: 1 -->\n",
       "<svg width=\"898pt\" height=\"740pt\"\n",
       " viewBox=\"0.00 0.00 897.50 739.50\" xmlns=\"http://www.w3.org/2000/svg\" xmlns:xlink=\"http://www.w3.org/1999/xlink\">\n",
       "<g id=\"graph0\" class=\"graph\" transform=\"scale(1 1) rotate(0) translate(4 735.5)\">\n",
       "<polygon fill=\"white\" stroke=\"none\" points=\"-4,4 -4,-735.5 893.5,-735.5 893.5,4 -4,4\"/>\n",
       "<!-- 12CC69323C61BD5E3CB868F0776055F0 -->\n",
       "<g id=\"node1\" class=\"node\">\n",
       "<title>12CC69323C61BD5E3CB868F0776055F0</title>\n",
       "<path fill=\"#dedede\" stroke=\"#dedede\" d=\"M156,-393.5C156,-393.5 12,-393.5 12,-393.5 6,-393.5 0,-387.5 0,-381.5 0,-381.5 0,-349 0,-349 0,-343 6,-337 12,-337 12,-337 156,-337 156,-337 162,-337 168,-343 168,-349 168,-349 168,-381.5 168,-381.5 168,-387.5 162,-393.5 156,-393.5\"/>\n",
       "<text text-anchor=\"start\" x=\"53.25\" y=\"-375.05\" font-family=\"Helvetica,Arial,sans-serif\" font-size=\"11.00\">flights details</text>\n",
       "<text text-anchor=\"start\" x=\"62.62\" y=\"-360.85\" font-family=\"Helvetica,Arial,sans-serif\" font-size=\"7.00\">Feature Store</text>\n",
       "<text text-anchor=\"start\" x=\"12\" y=\"-346.6\" font-family=\"Courier New\" font-size=\"7.00\">12CC69323C61BD5E3CB868F0776055F0</text>\n",
       "</g>\n",
       "<!-- 589E6D7C5256BC5D35502EA34070802A -->\n",
       "<g id=\"node2\" class=\"node\">\n",
       "<title>589E6D7C5256BC5D35502EA34070802A</title>\n",
       "<path fill=\"#dedede\" stroke=\"#dedede\" d=\"M360,-393.5C360,-393.5 216,-393.5 216,-393.5 210,-393.5 204,-387.5 204,-381.5 204,-381.5 204,-349 204,-349 204,-343 210,-337 216,-337 216,-337 360,-337 360,-337 366,-337 372,-343 372,-349 372,-349 372,-381.5 372,-381.5 372,-387.5 366,-393.5 360,-393.5\"/>\n",
       "<text text-anchor=\"start\" x=\"255\" y=\"-375.05\" font-family=\"Helvetica,Arial,sans-serif\" font-size=\"11.00\">Flight details2</text>\n",
       "<text text-anchor=\"start\" x=\"279\" y=\"-360.85\" font-family=\"Helvetica,Arial,sans-serif\" font-size=\"7.00\">Entity</text>\n",
       "<text text-anchor=\"start\" x=\"216\" y=\"-346.6\" font-family=\"Courier New\" font-size=\"7.00\">589E6D7C5256BC5D35502EA34070802A</text>\n",
       "</g>\n",
       "<!-- 12CC69323C61BD5E3CB868F0776055F0&#45;&gt;589E6D7C5256BC5D35502EA34070802A -->\n",
       "<g id=\"edge1\" class=\"edge\">\n",
       "<title>12CC69323C61BD5E3CB868F0776055F0&#45;&gt;589E6D7C5256BC5D35502EA34070802A</title>\n",
       "<path fill=\"none\" stroke=\"black\" d=\"M168.33,-365.25C176.32,-365.25 184.47,-365.25 192.56,-365.25\"/>\n",
       "<polygon fill=\"black\" stroke=\"black\" points=\"192.54,-368.75 202.54,-365.25 192.54,-361.75 192.54,-368.75\"/>\n",
       "</g>\n",
       "<!-- DB2095CF4B3D03D32DA206C020DF49D8 -->\n",
       "<g id=\"node3\" class=\"node\">\n",
       "<title>DB2095CF4B3D03D32DA206C020DF49D8</title>\n",
       "<path fill=\"#dedede\" stroke=\"#dedede\" d=\"M564,-477.5C564,-477.5 420,-477.5 420,-477.5 414,-477.5 408,-471.5 408,-465.5 408,-465.5 408,-433 408,-433 408,-427 414,-421 420,-421 420,-421 564,-421 564,-421 570,-421 576,-427 576,-433 576,-433 576,-465.5 576,-465.5 576,-471.5 570,-477.5 564,-477.5\"/>\n",
       "<text text-anchor=\"start\" x=\"438.38\" y=\"-459.05\" font-family=\"Helvetica,Arial,sans-serif\" font-size=\"11.00\">airlines_feature_group</text>\n",
       "<text text-anchor=\"start\" x=\"469.5\" y=\"-444.85\" font-family=\"Helvetica,Arial,sans-serif\" font-size=\"7.00\">Feature Group</text>\n",
       "<text text-anchor=\"start\" x=\"420\" y=\"-430.6\" font-family=\"Courier New\" font-size=\"7.00\">DB2095CF4B3D03D32DA206C020DF49D8</text>\n",
       "</g>\n",
       "<!-- 589E6D7C5256BC5D35502EA34070802A&#45;&gt;DB2095CF4B3D03D32DA206C020DF49D8 -->\n",
       "<g id=\"edge2\" class=\"edge\">\n",
       "<title>589E6D7C5256BC5D35502EA34070802A&#45;&gt;DB2095CF4B3D03D32DA206C020DF49D8</title>\n",
       "<path fill=\"none\" stroke=\"black\" d=\"M357.95,-393.92C375.41,-401.18 394.29,-409.03 412.19,-416.48\"/>\n",
       "<polygon fill=\"black\" stroke=\"black\" points=\"410.44,-419.96 421.02,-420.56 413.13,-413.49 410.44,-419.96\"/>\n",
       "</g>\n",
       "<!-- 6E66506E563042B3324B81DBACD51189 -->\n",
       "<g id=\"node4\" class=\"node\">\n",
       "<title>6E66506E563042B3324B81DBACD51189</title>\n",
       "<path fill=\"#dedede\" stroke=\"#dedede\" d=\"M768,-393.5C768,-393.5 624,-393.5 624,-393.5 618,-393.5 612,-387.5 612,-381.5 612,-381.5 612,-349 612,-349 612,-343 618,-337 624,-337 624,-337 768,-337 768,-337 774,-337 780,-343 780,-349 780,-349 780,-381.5 780,-381.5 780,-387.5 774,-393.5 768,-393.5\"/>\n",
       "<text text-anchor=\"start\" x=\"661.5\" y=\"-375.05\" font-family=\"Helvetica,Arial,sans-serif\" font-size=\"11.00\">flights_dataset</text>\n",
       "<text text-anchor=\"start\" x=\"683.62\" y=\"-360.85\" font-family=\"Helvetica,Arial,sans-serif\" font-size=\"7.00\">Dataset</text>\n",
       "<text text-anchor=\"start\" x=\"624\" y=\"-346.6\" font-family=\"Courier New\" font-size=\"7.00\">6E66506E563042B3324B81DBACD51189</text>\n",
       "</g>\n",
       "<!-- 589E6D7C5256BC5D35502EA34070802A&#45;&gt;6E66506E563042B3324B81DBACD51189 -->\n",
       "<g id=\"edge3\" class=\"edge\">\n",
       "<title>589E6D7C5256BC5D35502EA34070802A&#45;&gt;6E66506E563042B3324B81DBACD51189</title>\n",
       "<path fill=\"none\" stroke=\"black\" d=\"M372.18,-372.34C384.19,-373.14 396.41,-373.81 408,-374.25 482.61,-377.07 501.39,-377.07 576,-374.25 584.15,-373.94 592.61,-373.52 601.09,-373.02\"/>\n",
       "<polygon fill=\"black\" stroke=\"black\" points=\"601.06,-376.46 610.82,-372.34 600.62,-369.48 601.06,-376.46\"/>\n",
       "</g>\n",
       "<!-- 5D11B87EB3AEAE6815CC0328DB20430C -->\n",
       "<g id=\"node15\" class=\"node\">\n",
       "<title>5D11B87EB3AEAE6815CC0328DB20430C</title>\n",
       "<path fill=\"#dedede\" stroke=\"#dedede\" d=\"M564,-365.5C564,-365.5 420,-365.5 420,-365.5 414,-365.5 408,-359.5 408,-353.5 408,-353.5 408,-321 408,-321 408,-315 414,-309 420,-309 420,-309 564,-309 564,-309 570,-309 576,-315 576,-321 576,-321 576,-353.5 576,-353.5 576,-359.5 570,-365.5 564,-365.5\"/>\n",
       "<text text-anchor=\"start\" x=\"439.88\" y=\"-347.05\" font-family=\"Helvetica,Arial,sans-serif\" font-size=\"11.00\">airport_feature_group</text>\n",
       "<text text-anchor=\"start\" x=\"469.5\" y=\"-332.85\" font-family=\"Helvetica,Arial,sans-serif\" font-size=\"7.00\">Feature Group</text>\n",
       "<text text-anchor=\"start\" x=\"420\" y=\"-318.6\" font-family=\"Courier New\" font-size=\"7.00\">5D11B87EB3AEAE6815CC0328DB20430C</text>\n",
       "</g>\n",
       "<!-- 589E6D7C5256BC5D35502EA34070802A&#45;&gt;5D11B87EB3AEAE6815CC0328DB20430C -->\n",
       "<g id=\"edge15\" class=\"edge\">\n",
       "<title>589E6D7C5256BC5D35502EA34070802A&#45;&gt;5D11B87EB3AEAE6815CC0328DB20430C</title>\n",
       "<path fill=\"none\" stroke=\"black\" d=\"M372.33,-353.7C380.41,-352.58 388.65,-351.44 396.84,-350.3\"/>\n",
       "<polygon fill=\"black\" stroke=\"black\" points=\"397.11,-353.66 406.54,-348.82 396.15,-346.73 397.11,-353.66\"/>\n",
       "</g>\n",
       "<!-- 4096F2264D2ADD241320A2CC590A7C71 -->\n",
       "<g id=\"node16\" class=\"node\">\n",
       "<title>4096F2264D2ADD241320A2CC590A7C71</title>\n",
       "<path fill=\"#dedede\" stroke=\"#dedede\" d=\"M564,-290.5C564,-290.5 420,-290.5 420,-290.5 414,-290.5 408,-284.5 408,-278.5 408,-278.5 408,-246 408,-246 408,-240 414,-234 420,-234 420,-234 564,-234 564,-234 570,-234 576,-240 576,-246 576,-246 576,-278.5 576,-278.5 576,-284.5 570,-290.5 564,-290.5\"/>\n",
       "<text text-anchor=\"start\" x=\"441.38\" y=\"-272.05\" font-family=\"Helvetica,Arial,sans-serif\" font-size=\"11.00\">flights_feature_group</text>\n",
       "<text text-anchor=\"start\" x=\"469.5\" y=\"-257.85\" font-family=\"Helvetica,Arial,sans-serif\" font-size=\"7.00\">Feature Group</text>\n",
       "<text text-anchor=\"start\" x=\"420\" y=\"-243.6\" font-family=\"Courier New\" font-size=\"7.00\">4096F2264D2ADD241320A2CC590A7C71</text>\n",
       "</g>\n",
       "<!-- 589E6D7C5256BC5D35502EA34070802A&#45;&gt;4096F2264D2ADD241320A2CC590A7C71 -->\n",
       "<g id=\"edge17\" class=\"edge\">\n",
       "<title>589E6D7C5256BC5D35502EA34070802A&#45;&gt;4096F2264D2ADD241320A2CC590A7C71</title>\n",
       "<path fill=\"none\" stroke=\"black\" d=\"M339.54,-336.62C360.54,-324.99 385.27,-311.64 408,-300.25 411.12,-298.69 414.31,-297.11 417.55,-295.54\"/>\n",
       "<polygon fill=\"black\" stroke=\"black\" points=\"418.84,-298.32 426.34,-290.84 415.81,-292.01 418.84,-298.32\"/>\n",
       "</g>\n",
       "<!-- DB2095CF4B3D03D32DA206C020DF49D8&#45;&gt;6E66506E563042B3324B81DBACD51189 -->\n",
       "<g id=\"edge4\" class=\"edge\">\n",
       "<title>DB2095CF4B3D03D32DA206C020DF49D8&#45;&gt;6E66506E563042B3324B81DBACD51189</title>\n",
       "<path fill=\"none\" stroke=\"black\" d=\"M561.95,-420.58C579.41,-413.32 598.29,-405.47 616.19,-398.02\"/>\n",
       "<polygon fill=\"black\" stroke=\"black\" points=\"617.13,-401.01 625.02,-393.94 614.44,-394.54 617.13,-401.01\"/>\n",
       "</g>\n",
       "<!-- model_ocid2 -->\n",
       "<g id=\"node5\" class=\"node\">\n",
       "<title>model_ocid2</title>\n",
       "<path fill=\"#dedede\" stroke=\"#dedede\" d=\"M877.5,-731.5C877.5,-731.5 828,-731.5 828,-731.5 822,-731.5 816,-725.5 816,-719.5 816,-719.5 816,-687 816,-687 816,-681 822,-675 828,-675 828,-675 877.5,-675 877.5,-675 883.5,-675 889.5,-681 889.5,-687 889.5,-687 889.5,-719.5 889.5,-719.5 889.5,-725.5 883.5,-731.5 877.5,-731.5\"/>\n",
       "<text text-anchor=\"start\" x=\"851.25\" y=\"-713.05\" font-family=\"Helvetica,Arial,sans-serif\" font-size=\"11.00\"> </text>\n",
       "<text text-anchor=\"start\" x=\"843.38\" y=\"-698.85\" font-family=\"Helvetica,Arial,sans-serif\" font-size=\"7.00\">Model</text>\n",
       "<text text-anchor=\"start\" x=\"828\" y=\"-684.6\" font-family=\"Courier New\" font-size=\"7.00\">model_ocid2</text>\n",
       "</g>\n",
       "<!-- 6E66506E563042B3324B81DBACD51189&#45;&gt;model_ocid2 -->\n",
       "<g id=\"edge5\" class=\"edge\">\n",
       "<title>6E66506E563042B3324B81DBACD51189&#45;&gt;model_ocid2</title>\n",
       "<path fill=\"none\" stroke=\"black\" d=\"M704.41,-393.8C719.61,-449.18 757.83,-573.75 816,-665.25 816.13,-665.45 816.26,-665.65 816.39,-665.85\"/>\n",
       "<polygon fill=\"black\" stroke=\"black\" points=\"814.13,-667.7 822.85,-673.71 819.78,-663.57 814.13,-667.7\"/>\n",
       "</g>\n",
       "<!-- model_ocid -->\n",
       "<g id=\"node6\" class=\"node\">\n",
       "<title>model_ocid</title>\n",
       "<path fill=\"#dedede\" stroke=\"#dedede\" d=\"M875.25,-656.5C875.25,-656.5 830.25,-656.5 830.25,-656.5 824.25,-656.5 818.25,-650.5 818.25,-644.5 818.25,-644.5 818.25,-612 818.25,-612 818.25,-606 824.25,-600 830.25,-600 830.25,-600 875.25,-600 875.25,-600 881.25,-600 887.25,-606 887.25,-612 887.25,-612 887.25,-644.5 887.25,-644.5 887.25,-650.5 881.25,-656.5 875.25,-656.5\"/>\n",
       "<text text-anchor=\"start\" x=\"851.25\" y=\"-638.05\" font-family=\"Helvetica,Arial,sans-serif\" font-size=\"11.00\"> </text>\n",
       "<text text-anchor=\"start\" x=\"843.38\" y=\"-623.85\" font-family=\"Helvetica,Arial,sans-serif\" font-size=\"7.00\">Model</text>\n",
       "<text text-anchor=\"start\" x=\"830.25\" y=\"-609.6\" font-family=\"Courier New\" font-size=\"7.00\">model_ocid</text>\n",
       "</g>\n",
       "<!-- 6E66506E563042B3324B81DBACD51189&#45;&gt;model_ocid -->\n",
       "<g id=\"edge6\" class=\"edge\">\n",
       "<title>6E66506E563042B3324B81DBACD51189&#45;&gt;model_ocid</title>\n",
       "<path fill=\"none\" stroke=\"black\" d=\"M709.04,-393.66C728.37,-437.76 768.97,-524.47 816,-590.25 816.29,-590.66 816.58,-591.06 816.88,-591.47\"/>\n",
       "<polygon fill=\"black\" stroke=\"black\" points=\"814.62,-593.24 823.57,-598.9 820.1,-588.89 814.62,-593.24\"/>\n",
       "</g>\n",
       "<!-- m -->\n",
       "<g id=\"node7\" class=\"node\">\n",
       "<title>m</title>\n",
       "<path fill=\"#dedede\" stroke=\"#dedede\" d=\"M867.75,-581.5C867.75,-581.5 837.75,-581.5 837.75,-581.5 831.75,-581.5 825.75,-575.5 825.75,-569.5 825.75,-569.5 825.75,-537 825.75,-537 825.75,-531 831.75,-525 837.75,-525 837.75,-525 867.75,-525 867.75,-525 873.75,-525 879.75,-531 879.75,-537 879.75,-537 879.75,-569.5 879.75,-569.5 879.75,-575.5 873.75,-581.5 867.75,-581.5\"/>\n",
       "<text text-anchor=\"start\" x=\"851.25\" y=\"-563.05\" font-family=\"Helvetica,Arial,sans-serif\" font-size=\"11.00\"> </text>\n",
       "<text text-anchor=\"start\" x=\"843.38\" y=\"-548.85\" font-family=\"Helvetica,Arial,sans-serif\" font-size=\"7.00\">Model</text>\n",
       "<text text-anchor=\"start\" x=\"850.5\" y=\"-534.6\" font-family=\"Courier New\" font-size=\"7.00\">m</text>\n",
       "</g>\n",
       "<!-- 6E66506E563042B3324B81DBACD51189&#45;&gt;m -->\n",
       "<g id=\"edge7\" class=\"edge\">\n",
       "<title>6E66506E563042B3324B81DBACD51189&#45;&gt;m</title>\n",
       "<path fill=\"none\" stroke=\"black\" d=\"M718.46,-393.74C741.78,-424.35 780.46,-474.13 816,-515.25 816.65,-516 817.31,-516.75 817.97,-517.51\"/>\n",
       "<polygon fill=\"black\" stroke=\"black\" points=\"815.03,-519.59 824.31,-524.69 820.24,-514.91 815.03,-519.59\"/>\n",
       "</g>\n",
       "<!-- o -->\n",
       "<g id=\"node8\" class=\"node\">\n",
       "<title>o</title>\n",
       "<path fill=\"#dedede\" stroke=\"#dedede\" d=\"M867.75,-506.5C867.75,-506.5 837.75,-506.5 837.75,-506.5 831.75,-506.5 825.75,-500.5 825.75,-494.5 825.75,-494.5 825.75,-462 825.75,-462 825.75,-456 831.75,-450 837.75,-450 837.75,-450 867.75,-450 867.75,-450 873.75,-450 879.75,-456 879.75,-462 879.75,-462 879.75,-494.5 879.75,-494.5 879.75,-500.5 873.75,-506.5 867.75,-506.5\"/>\n",
       "<text text-anchor=\"start\" x=\"851.25\" y=\"-488.05\" font-family=\"Helvetica,Arial,sans-serif\" font-size=\"11.00\"> </text>\n",
       "<text text-anchor=\"start\" x=\"843.38\" y=\"-473.85\" font-family=\"Helvetica,Arial,sans-serif\" font-size=\"7.00\">Model</text>\n",
       "<text text-anchor=\"start\" x=\"850.5\" y=\"-459.6\" font-family=\"Courier New\" font-size=\"7.00\">o</text>\n",
       "</g>\n",
       "<!-- 6E66506E563042B3324B81DBACD51189&#45;&gt;o -->\n",
       "<g id=\"edge8\" class=\"edge\">\n",
       "<title>6E66506E563042B3324B81DBACD51189&#45;&gt;o</title>\n",
       "<path fill=\"none\" stroke=\"black\" d=\"M736.05,-393.76C760.82,-411.85 792.6,-435.06 816.59,-452.57\"/>\n",
       "<polygon fill=\"black\" stroke=\"black\" points=\"814.23,-455.91 824.37,-458.99 818.36,-450.26 814.23,-455.91\"/>\n",
       "</g>\n",
       "<!-- d -->\n",
       "<g id=\"node9\" class=\"node\">\n",
       "<title>d</title>\n",
       "<path fill=\"#dedede\" stroke=\"#dedede\" d=\"M867.75,-431.5C867.75,-431.5 837.75,-431.5 837.75,-431.5 831.75,-431.5 825.75,-425.5 825.75,-419.5 825.75,-419.5 825.75,-387 825.75,-387 825.75,-381 831.75,-375 837.75,-375 837.75,-375 867.75,-375 867.75,-375 873.75,-375 879.75,-381 879.75,-387 879.75,-387 879.75,-419.5 879.75,-419.5 879.75,-425.5 873.75,-431.5 867.75,-431.5\"/>\n",
       "<text text-anchor=\"start\" x=\"851.25\" y=\"-413.05\" font-family=\"Helvetica,Arial,sans-serif\" font-size=\"11.00\"> </text>\n",
       "<text text-anchor=\"start\" x=\"843.38\" y=\"-398.85\" font-family=\"Helvetica,Arial,sans-serif\" font-size=\"7.00\">Model</text>\n",
       "<text text-anchor=\"start\" x=\"850.5\" y=\"-384.6\" font-family=\"Courier New\" font-size=\"7.00\">d</text>\n",
       "</g>\n",
       "<!-- 6E66506E563042B3324B81DBACD51189&#45;&gt;d -->\n",
       "<g id=\"edge9\" class=\"edge\">\n",
       "<title>6E66506E563042B3324B81DBACD51189&#45;&gt;d</title>\n",
       "<path fill=\"none\" stroke=\"black\" d=\"M780.26,-385.7C792.48,-388.69 804.49,-391.65 815.08,-394.25\"/>\n",
       "<polygon fill=\"black\" stroke=\"black\" points=\"814.01,-397.83 824.55,-396.82 815.68,-391.03 814.01,-397.83\"/>\n",
       "</g>\n",
       "<!-- e -->\n",
       "<g id=\"node10\" class=\"node\">\n",
       "<title>e</title>\n",
       "<path fill=\"#dedede\" stroke=\"#dedede\" d=\"M867.75,-356.5C867.75,-356.5 837.75,-356.5 837.75,-356.5 831.75,-356.5 825.75,-350.5 825.75,-344.5 825.75,-344.5 825.75,-312 825.75,-312 825.75,-306 831.75,-300 837.75,-300 837.75,-300 867.75,-300 867.75,-300 873.75,-300 879.75,-306 879.75,-312 879.75,-312 879.75,-344.5 879.75,-344.5 879.75,-350.5 873.75,-356.5 867.75,-356.5\"/>\n",
       "<text text-anchor=\"start\" x=\"851.25\" y=\"-338.05\" font-family=\"Helvetica,Arial,sans-serif\" font-size=\"11.00\"> </text>\n",
       "<text text-anchor=\"start\" x=\"843.38\" y=\"-323.85\" font-family=\"Helvetica,Arial,sans-serif\" font-size=\"7.00\">Model</text>\n",
       "<text text-anchor=\"start\" x=\"850.5\" y=\"-309.6\" font-family=\"Courier New\" font-size=\"7.00\">e</text>\n",
       "</g>\n",
       "<!-- 6E66506E563042B3324B81DBACD51189&#45;&gt;e -->\n",
       "<g id=\"edge10\" class=\"edge\">\n",
       "<title>6E66506E563042B3324B81DBACD51189&#45;&gt;e</title>\n",
       "<path fill=\"none\" stroke=\"black\" d=\"M780.26,-345.34C792.48,-342.42 804.49,-339.55 815.08,-337.02\"/>\n",
       "<polygon fill=\"black\" stroke=\"black\" points=\"815.64,-340.24 824.55,-334.51 814.02,-333.43 815.64,-340.24\"/>\n",
       "</g>\n",
       "<!-- l -->\n",
       "<g id=\"node11\" class=\"node\">\n",
       "<title>l</title>\n",
       "<path fill=\"#dedede\" stroke=\"#dedede\" d=\"M867.75,-281.5C867.75,-281.5 837.75,-281.5 837.75,-281.5 831.75,-281.5 825.75,-275.5 825.75,-269.5 825.75,-269.5 825.75,-237 825.75,-237 825.75,-231 831.75,-225 837.75,-225 837.75,-225 867.75,-225 867.75,-225 873.75,-225 879.75,-231 879.75,-237 879.75,-237 879.75,-269.5 879.75,-269.5 879.75,-275.5 873.75,-281.5 867.75,-281.5\"/>\n",
       "<text text-anchor=\"start\" x=\"851.25\" y=\"-263.05\" font-family=\"Helvetica,Arial,sans-serif\" font-size=\"11.00\"> </text>\n",
       "<text text-anchor=\"start\" x=\"843.38\" y=\"-248.85\" font-family=\"Helvetica,Arial,sans-serif\" font-size=\"7.00\">Model</text>\n",
       "<text text-anchor=\"start\" x=\"850.5\" y=\"-234.6\" font-family=\"Courier New\" font-size=\"7.00\">l</text>\n",
       "</g>\n",
       "<!-- 6E66506E563042B3324B81DBACD51189&#45;&gt;l -->\n",
       "<g id=\"edge11\" class=\"edge\">\n",
       "<title>6E66506E563042B3324B81DBACD51189&#45;&gt;l</title>\n",
       "<path fill=\"none\" stroke=\"black\" d=\"M736.45,-336.7C761.22,-318.77 792.89,-295.85 816.77,-278.57\"/>\n",
       "<polygon fill=\"black\" stroke=\"black\" points=\"818.46,-280.94 824.5,-272.25 814.35,-275.27 818.46,-280.94\"/>\n",
       "</g>\n",
       "<!-- _ -->\n",
       "<g id=\"node12\" class=\"node\">\n",
       "<title>_</title>\n",
       "<path fill=\"#dedede\" stroke=\"#dedede\" d=\"M867.75,-206.5C867.75,-206.5 837.75,-206.5 837.75,-206.5 831.75,-206.5 825.75,-200.5 825.75,-194.5 825.75,-194.5 825.75,-162 825.75,-162 825.75,-156 831.75,-150 837.75,-150 837.75,-150 867.75,-150 867.75,-150 873.75,-150 879.75,-156 879.75,-162 879.75,-162 879.75,-194.5 879.75,-194.5 879.75,-200.5 873.75,-206.5 867.75,-206.5\"/>\n",
       "<text text-anchor=\"start\" x=\"851.25\" y=\"-188.05\" font-family=\"Helvetica,Arial,sans-serif\" font-size=\"11.00\"> </text>\n",
       "<text text-anchor=\"start\" x=\"843.38\" y=\"-173.85\" font-family=\"Helvetica,Arial,sans-serif\" font-size=\"7.00\">Model</text>\n",
       "<text text-anchor=\"start\" x=\"850.5\" y=\"-159.6\" font-family=\"Courier New\" font-size=\"7.00\">_</text>\n",
       "</g>\n",
       "<!-- 6E66506E563042B3324B81DBACD51189&#45;&gt;_ -->\n",
       "<g id=\"edge12\" class=\"edge\">\n",
       "<title>6E66506E563042B3324B81DBACD51189&#45;&gt;_</title>\n",
       "<path fill=\"none\" stroke=\"black\" d=\"M718.71,-336.69C742.07,-306.28 780.65,-257.02 816,-216.25 816.65,-215.5 817.31,-214.75 817.97,-213.99\"/>\n",
       "<polygon fill=\"black\" stroke=\"black\" points=\"820.24,-216.6 824.32,-206.82 815.03,-211.92 820.24,-216.6\"/>\n",
       "</g>\n",
       "<!-- c -->\n",
       "<g id=\"node13\" class=\"node\">\n",
       "<title>c</title>\n",
       "<path fill=\"#dedede\" stroke=\"#dedede\" d=\"M867.75,-131.5C867.75,-131.5 837.75,-131.5 837.75,-131.5 831.75,-131.5 825.75,-125.5 825.75,-119.5 825.75,-119.5 825.75,-87 825.75,-87 825.75,-81 831.75,-75 837.75,-75 837.75,-75 867.75,-75 867.75,-75 873.75,-75 879.75,-81 879.75,-87 879.75,-87 879.75,-119.5 879.75,-119.5 879.75,-125.5 873.75,-131.5 867.75,-131.5\"/>\n",
       "<text text-anchor=\"start\" x=\"851.25\" y=\"-113.05\" font-family=\"Helvetica,Arial,sans-serif\" font-size=\"11.00\"> </text>\n",
       "<text text-anchor=\"start\" x=\"843.38\" y=\"-98.85\" font-family=\"Helvetica,Arial,sans-serif\" font-size=\"7.00\">Model</text>\n",
       "<text text-anchor=\"start\" x=\"850.5\" y=\"-84.6\" font-family=\"Courier New\" font-size=\"7.00\">c</text>\n",
       "</g>\n",
       "<!-- 6E66506E563042B3324B81DBACD51189&#45;&gt;c -->\n",
       "<g id=\"edge13\" class=\"edge\">\n",
       "<title>6E66506E563042B3324B81DBACD51189&#45;&gt;c</title>\n",
       "<path fill=\"none\" stroke=\"black\" d=\"M709.22,-336.62C728.65,-292.6 769.2,-206.58 816,-141.25 816.8,-140.13 817.63,-139.01 818.49,-137.9\"/>\n",
       "<polygon fill=\"black\" stroke=\"black\" points=\"821.77,-140.41 825.42,-130.46 816.37,-135.97 821.77,-140.41\"/>\n",
       "</g>\n",
       "<!-- i -->\n",
       "<g id=\"node14\" class=\"node\">\n",
       "<title>i</title>\n",
       "<path fill=\"#dedede\" stroke=\"#dedede\" d=\"M867.75,-56.5C867.75,-56.5 837.75,-56.5 837.75,-56.5 831.75,-56.5 825.75,-50.5 825.75,-44.5 825.75,-44.5 825.75,-12 825.75,-12 825.75,-6 831.75,0 837.75,0 837.75,0 867.75,0 867.75,0 873.75,0 879.75,-6 879.75,-12 879.75,-12 879.75,-44.5 879.75,-44.5 879.75,-50.5 873.75,-56.5 867.75,-56.5\"/>\n",
       "<text text-anchor=\"start\" x=\"851.25\" y=\"-38.05\" font-family=\"Helvetica,Arial,sans-serif\" font-size=\"11.00\"> </text>\n",
       "<text text-anchor=\"start\" x=\"843.38\" y=\"-23.85\" font-family=\"Helvetica,Arial,sans-serif\" font-size=\"7.00\">Model</text>\n",
       "<text text-anchor=\"start\" x=\"850.5\" y=\"-9.6\" font-family=\"Courier New\" font-size=\"7.00\">i</text>\n",
       "</g>\n",
       "<!-- 6E66506E563042B3324B81DBACD51189&#45;&gt;i -->\n",
       "<g id=\"edge14\" class=\"edge\">\n",
       "<title>6E66506E563042B3324B81DBACD51189&#45;&gt;i</title>\n",
       "<path fill=\"none\" stroke=\"black\" d=\"M704.44,-336.79C719.67,-281.61 757.95,-157.45 816,-66.25 816.85,-64.91 817.75,-63.58 818.69,-62.26\"/>\n",
       "<polygon fill=\"black\" stroke=\"black\" points=\"821.95,-64.78 825.37,-54.76 816.44,-60.46 821.95,-64.78\"/>\n",
       "</g>\n",
       "<!-- 5D11B87EB3AEAE6815CC0328DB20430C&#45;&gt;6E66506E563042B3324B81DBACD51189 -->\n",
       "<g id=\"edge16\" class=\"edge\">\n",
       "<title>5D11B87EB3AEAE6815CC0328DB20430C&#45;&gt;6E66506E563042B3324B81DBACD51189</title>\n",
       "<path fill=\"none\" stroke=\"black\" d=\"M576.33,-348.8C584.41,-349.92 592.65,-351.06 600.84,-352.2\"/>\n",
       "<polygon fill=\"black\" stroke=\"black\" points=\"600.15,-355.77 610.54,-353.68 601.11,-348.84 600.15,-355.77\"/>\n",
       "</g>\n",
       "<!-- 4096F2264D2ADD241320A2CC590A7C71&#45;&gt;6E66506E563042B3324B81DBACD51189 -->\n",
       "<g id=\"edge18\" class=\"edge\">\n",
       "<title>4096F2264D2ADD241320A2CC590A7C71&#45;&gt;6E66506E563042B3324B81DBACD51189</title>\n",
       "<path fill=\"none\" stroke=\"black\" d=\"M556.66,-290.84C563.22,-293.95 569.77,-297.13 576,-300.25 595.35,-309.95 616.16,-321.07 634.88,-331.34\"/>\n",
       "<polygon fill=\"black\" stroke=\"black\" points=\"633.01,-334.86 643.46,-336.62 636.39,-328.73 633.01,-334.86\"/>\n",
       "</g>\n",
       "</g>\n",
       "</svg>\n"
      ],
      "text/plain": [
       "<graphviz.dot.Digraph at 0x1310923e0>"
      ]
     },
     "metadata": {},
     "output_type": "display_data"
    }
   ],
   "source": [
    "updated_dataset.show()"
   ]
  },
  {
   "cell_type": "code",
   "execution_count": 46,
   "id": "e6c9ee83",
   "metadata": {},
   "outputs": [
    {
     "name": "stdout",
     "output_type": "stream",
     "text": [
      "+------+--------------------+--------------------+-----------+--------------------+--------------------+-------------------+----------------+--------+-----------+----------+----------------+----------------+--------------------+\n",
      "|format|                  id|                name|description|            location|           createdAt|       lastModified|partitionColumns|numFiles|sizeInBytes|properties|minReaderVersion|minWriterVersion|       tableFeatures|\n",
      "+------+--------------------+--------------------+-----------+--------------------+--------------------+-------------------+----------------+--------+-----------+----------+----------------+----------------+--------------------+\n",
      "| delta|25133d3a-d4b2-449...|b2e98e1ea735160bd...|       null|file:/Users/kshit...|2023-05-24 16:36:...|2023-05-24 16:36:41|              []|       8|      32727|        {}|               1|               2|[appendOnly, inva...|\n",
      "+------+--------------------+--------------------+-----------+--------------------+--------------------+-------------------+----------------+--------+-----------+----------+----------------+----------------+--------------------+\n",
      "\n"
     ]
    }
   ],
   "source": [
    "dataset.profile().show()"
   ]
  },
  {
   "cell_type": "code",
   "execution_count": 47,
   "id": "9f15fec3",
   "metadata": {},
   "outputs": [
    {
     "name": "stdout",
     "output_type": "stream",
     "text": [
      "+----+-----+---+-----------+-------+-------------+--------------+-------------------+---------+-------+----+-----+-------+--------+---------+\n",
      "|YEAR|MONTH|DAY|DAY_OF_WEEK|AIRLINE|FLIGHT_NUMBER|ORIGIN_AIRPORT|DESTINATION_AIRPORT|IATA_CODE|AIRPORT|CITY|STATE|COUNTRY|LATITUDE|LONGITUDE|\n",
      "+----+-----+---+-----------+-------+-------------+--------------+-------------------+---------+-------+----+-----+-------+--------+---------+\n",
      "|2015|    1|  1|          4|     EV|         4354|           MKE|                IAH|     null|   null|null| null|   null|    null|     null|\n",
      "|2015|    1|  1|          4|     US|          425|           PDX|                PHX|     null|   null|null| null|   null|    null|     null|\n",
      "|2015|    1|  1|          4|     AA|           89|           IAH|                MIA|     null|   null|null| null|   null|    null|     null|\n",
      "|2015|    1|  1|          4|     DL|         2099|           BNA|                DTW|     null|   null|null| null|   null|    null|     null|\n",
      "|2015|    1|  1|          4|     EV|         4685|           BRO|                IAH|     null|   null|null| null|   null|    null|     null|\n",
      "|2015|    1|  1|          4|     EV|         5583|           VPS|                ATL|     null|   null|null| null|   null|    null|     null|\n",
      "|2015|    1|  1|          4|     OO|         5484|           BOI|                SFO|     null|   null|null| null|   null|    null|     null|\n",
      "|2015|    1|  1|          4|     OO|         7370|           BJI|                MSP|     null|   null|null| null|   null|    null|     null|\n",
      "|2015|    1|  1|          4|     HA|          103|           HNL|                LIH|     null|   null|null| null|   null|    null|     null|\n",
      "|2015|    1|  1|          4|     EV|         5187|           BNA|                ATL|     null|   null|null| null|   null|    null|     null|\n",
      "+----+-----+---+-----------+-------+-------------+--------------+-------------------+---------+-------+----+-----+-------+--------+---------+\n",
      "\n"
     ]
    }
   ],
   "source": [
    "dataset.preview().show()"
   ]
  },
  {
   "cell_type": "markdown",
   "id": "35641534",
   "metadata": {},
   "source": [
    "<a id=\"sql_query\"></a>\n",
    "### 3.8  Freeform SQL query\n",
    "Feature store provides a way to query feature store using free flow query. User need to mention `entity id` as the database name and `feature group name` as the table name to query feature store. This functionality can be useful if you need to express more complex queries for your use case"
   ]
  },
  {
   "cell_type": "code",
   "execution_count": 48,
   "id": "469ef2e0",
   "metadata": {},
   "outputs": [],
   "source": [
    "entity_id = entity.id\n",
    "\n",
    "sql = (f\"SELECT flights_feature_group.*, airport_feature_group.IATA_CODE \"\n",
    "       f\"FROM `{entity_id}`.flights_feature_group flights_feature_group \"\n",
    "       f\"LEFT JOIN `{entity_id}`.airport_feature_group airport_feature_group \"\n",
    "       f\"ON flights_feature_group.ORIGIN_AIRPORT=airport_feature_group.IATA_CODE\")"
   ]
  },
  {
   "cell_type": "code",
   "execution_count": 49,
   "id": "467e9c62",
   "metadata": {},
   "outputs": [
    {
     "name": "stdout",
     "output_type": "stream",
     "text": [
      "+----+-----+---+-----------+-------+-------------+--------------+-------------------+---------+\n",
      "|YEAR|MONTH|DAY|DAY_OF_WEEK|AIRLINE|FLIGHT_NUMBER|ORIGIN_AIRPORT|DESTINATION_AIRPORT|IATA_CODE|\n",
      "+----+-----+---+-----------+-------+-------------+--------------+-------------------+---------+\n",
      "|2015|    1|  1|          4|     DL|         1450|           LAS|                MSP|      LAS|\n",
      "|2015|    1|  1|          4|     UA|         1545|           LAX|                IAH|      LAX|\n",
      "|2015|    1|  1|          4|     AS|          130|           FAI|                SEA|      FAI|\n",
      "|2015|    1|  1|          4|     NK|          597|           MSP|                FLL|      MSP|\n",
      "|2015|    1|  1|          4|     US|          413|           LAS|                CLT|      LAS|\n",
      "|2015|    1|  1|          4|     AA|         2392|           DEN|                MIA|      DEN|\n",
      "|2015|    1|  1|          4|     NK|          168|           PHX|                ORD|      PHX|\n",
      "|2015|    1|  1|          4|     AA|         2211|           PHX|                MIA|      PHX|\n",
      "|2015|    1|  1|          4|     AS|          136|           ANC|                SEA|      ANC|\n",
      "|2015|    1|  1|          4|     DL|           95|           SLC|                ATL|      SLC|\n",
      "|2015|    1|  1|          4|     NK|          298|           LAS|                IAH|      LAS|\n",
      "|2015|    1|  1|          4|     HA|           17|           LAS|                HNL|      LAS|\n",
      "|2015|    1|  1|          4|     AS|           98|           ANC|                SEA|      ANC|\n",
      "|2015|    1|  1|          4|     AA|         2336|           LAX|                PBI|      LAX|\n",
      "|2015|    1|  1|          4|     US|          840|           SFO|                CLT|      SFO|\n",
      "|2015|    1|  1|          4|     AA|          258|           LAX|                MIA|      LAX|\n",
      "|2015|    1|  1|          4|     AS|          135|           SEA|                ANC|      SEA|\n",
      "|2015|    1|  1|          4|     DL|          806|           SFO|                MSP|      SFO|\n",
      "|2015|    1|  1|          4|     NK|          612|           LAS|                MSP|      LAS|\n",
      "|2015|    1|  1|          4|     US|         2013|           LAX|                CLT|      LAX|\n",
      "+----+-----+---+-----------+-------+-------------+--------------+-------------------+---------+\n",
      "only showing top 20 rows\n",
      "\n"
     ]
    }
   ],
   "source": [
    "feature_store.sql(sql).show()"
   ]
  },
  {
   "cell_type": "code",
   "execution_count": 52,
   "id": "0d447597",
   "metadata": {},
   "outputs": [],
   "source": [
    "feature_store_yaml = \"\"\"\n",
    "apiVersion: v1\n",
    "kind: featureStore\n",
    "spec:\n",
    "  displayName: Flights feature store\n",
    "  compartmentId: \"ocid1.tenancy.oc1..aaaaaaaa462hfhplpx652b32ix62xrdijppq2c7okwcqjlgrbknhgtj2kofa\"\n",
    "  offlineConfig:\n",
    "    metastoreId: \"ocid1.datacatalogmetastore.oc1.iad.amaaaaaabiudgxyap7tizm4gscwz7amu7dixz7ml3mtesqzzwwg3urvvdgua\"\n",
    "\n",
    "  entity: &flights_entity\n",
    "    - kind: entity\n",
    "      spec:\n",
    "        name: Flights\n",
    "\n",
    "  featureGroup:\n",
    "    - kind: featureGroup\n",
    "      spec:\n",
    "        entity: *flights_entity\n",
    "        name: flights_feature_group\n",
    "        primaryKeys:\n",
    "          - IATA_CODE\n",
    "        inputFeatureDetails:\n",
    "          - featureType: STRING\n",
    "            name: IATA_CODE\n",
    "            orderNumber: 1\n",
    "          - featureType: STRING\n",
    "            name: AIRPORT\n",
    "            orderNumber: 2\n",
    "          - featureType: STRING\n",
    "            name: CITY\n",
    "            orderNumber: 3\n",
    "          - featureType: STRING\n",
    "            name: STATE\n",
    "            orderNumber: 4\n",
    "          - featureType: STRING\n",
    "            name: COUNTRY\n",
    "            orderNumber: 5\n",
    "          - featureType: FLOAT\n",
    "            name: LATITUDE\n",
    "            orderNumber: 6\n",
    "          - featureType: FLOAT\n",
    "            name: LONGITUDE\n",
    "            orderNumber: 7\n",
    "    - kind: featureGroup\n",
    "      spec:\n",
    "        entity: *flights_entity\n",
    "        name: airlines_feature_group\n",
    "        primaryKeys:\n",
    "          - IATA_CODE\n",
    "        inputFeatureDetails:\n",
    "          - featureType: STRING\n",
    "            name: IATA_CODE\n",
    "            orderNumber: 1\n",
    "          - featureType: STRING\n",
    "            name: AIRPORT\n",
    "            orderNumber: 2\n",
    "          - featureType: STRING\n",
    "            name: CITY\n",
    "            orderNumber: 3\n",
    "          - featureType: STRING\n",
    "            name: STATE\n",
    "            orderNumber: 4\n",
    "          - featureType: STRING\n",
    "            name: COUNTRY\n",
    "            orderNumber: 5\n",
    "          - featureType: FLOAT\n",
    "            name: LATITUDE\n",
    "            orderNumber: 6\n",
    "          - featureType: FLOAT\n",
    "            name: LONGITUDE\n",
    "            orderNumber: 7\n",
    "\n",
    "    - kind: featureGroup\n",
    "      spec:\n",
    "        entity: *flights_entity\n",
    "        name: airport_feature_group\n",
    "        primaryKeys:\n",
    "          - IATA_CODE\n",
    "        inputFeatureDetails:\n",
    "          - featureType: STRING\n",
    "            name: IATA_CODE\n",
    "            orderNumber: 1\n",
    "          - featureType: STRING\n",
    "            name: AIRLINE\n",
    "            orderNumber: 2\n",
    "  dataset:\n",
    "    - kind: dataset\n",
    "      spec:\n",
    "        name: flights_dataset\n",
    "        entity: *flights_entity\n",
    "        description: \"Dataset for flights\"\n",
    "        query: 'SELECT flight.IATA_CODE, flight.AIRPORT FROM flights_feature_group flight'\n",
    "\"\"\""
   ]
  },
  {
   "cell_type": "code",
   "execution_count": 53,
   "id": "c056e1ce",
   "metadata": {},
   "outputs": [
    {
     "data": {
      "application/vnd.jupyter.widget-view+json": {
       "model_id": "ea14393977e04d61b94e269f4f738934",
       "version_major": 2,
       "version_minor": 0
      },
      "text/plain": [
       "loop1:   0%|          | 0/6 [00:00<?, ?it/s]"
      ]
     },
     "metadata": {},
     "output_type": "display_data"
    },
    {
     "name": "stdout",
     "output_type": "stream",
     "text": [
      "Successfully created 1 entities, 0 transformations, 3 feature groups and 1 datasets\n"
     ]
    },
    {
     "data": {
      "text/plain": [
       "(\n",
       " kind: featurestore\n",
       " spec:\n",
       "   compartmentId: ocid1.tenancy.oc1..aaaaaaaa462hfhplpx652b32ix62xrdijppq2c7okwcqjlgrbknhgtj2kofa\n",
       "   dataset:\n",
       "   - kind: dataset\n",
       "     spec:\n",
       "       description: Dataset for flights\n",
       "       entity: &id001\n",
       "       - kind: entity\n",
       "         spec:\n",
       "           name: Flights\n",
       "       name: flights_dataset\n",
       "       query: SELECT flight.IATA_CODE, flight.AIRPORT FROM flights_feature_group flight\n",
       "   displayName: Flights feature store\n",
       "   entity: *id001\n",
       "   featureGroup:\n",
       "   - kind: featureGroup\n",
       "     spec:\n",
       "       entity: *id001\n",
       "       inputFeatureDetails:\n",
       "       - featureType: STRING\n",
       "         name: IATA_CODE\n",
       "         orderNumber: 1\n",
       "       - featureType: STRING\n",
       "         name: AIRPORT\n",
       "         orderNumber: 2\n",
       "       - featureType: STRING\n",
       "         name: CITY\n",
       "         orderNumber: 3\n",
       "       - featureType: STRING\n",
       "         name: STATE\n",
       "         orderNumber: 4\n",
       "       - featureType: STRING\n",
       "         name: COUNTRY\n",
       "         orderNumber: 5\n",
       "       - featureType: FLOAT\n",
       "         name: LATITUDE\n",
       "         orderNumber: 6\n",
       "       - featureType: FLOAT\n",
       "         name: LONGITUDE\n",
       "         orderNumber: 7\n",
       "       name: flights_feature_group\n",
       "       primaryKeys:\n",
       "       - IATA_CODE\n",
       "   - kind: featureGroup\n",
       "     spec:\n",
       "       entity: *id001\n",
       "       inputFeatureDetails:\n",
       "       - featureType: STRING\n",
       "         name: IATA_CODE\n",
       "         orderNumber: 1\n",
       "       - featureType: STRING\n",
       "         name: AIRPORT\n",
       "         orderNumber: 2\n",
       "       - featureType: STRING\n",
       "         name: CITY\n",
       "         orderNumber: 3\n",
       "       - featureType: STRING\n",
       "         name: STATE\n",
       "         orderNumber: 4\n",
       "       - featureType: STRING\n",
       "         name: COUNTRY\n",
       "         orderNumber: 5\n",
       "       - featureType: FLOAT\n",
       "         name: LATITUDE\n",
       "         orderNumber: 6\n",
       "       - featureType: FLOAT\n",
       "         name: LONGITUDE\n",
       "         orderNumber: 7\n",
       "       name: airlines_feature_group\n",
       "       primaryKeys:\n",
       "       - IATA_CODE\n",
       "   - kind: featureGroup\n",
       "     spec:\n",
       "       entity: *id001\n",
       "       inputFeatureDetails:\n",
       "       - featureType: STRING\n",
       "         name: IATA_CODE\n",
       "         orderNumber: 1\n",
       "       - featureType: STRING\n",
       "         name: AIRLINE\n",
       "         orderNumber: 2\n",
       "       name: airport_feature_group\n",
       "       primaryKeys:\n",
       "       - IATA_CODE\n",
       "   id: 040EB7515EE167B7D08448E94694A3DA\n",
       "   offlineConfig:\n",
       "     metastoreId: ocid1.datacatalogmetastore.oc1.iad.amaaaaaabiudgxyap7tizm4gscwz7amu7dixz7ml3mtesqzzwwg3urvvdgua\n",
       " type: featureStore,\n",
       " [\n",
       "  kind: entity\n",
       "  spec:\n",
       "    compartmentId: ocid1.tenancy.oc1..aaaaaaaa462hfhplpx652b32ix62xrdijppq2c7okwcqjlgrbknhgtj2kofa\n",
       "    featureStoreId: 040EB7515EE167B7D08448E94694A3DA\n",
       "    id: 4C3180CC63AF18DF483BDD0E307CA32F\n",
       "    name: Flights\n",
       "  type: entity],\n",
       " [],\n",
       " [\n",
       "  kind: FeatureGroup\n",
       "  spec:\n",
       "    compartmentId: ocid1.tenancy.oc1..aaaaaaaa462hfhplpx652b32ix62xrdijppq2c7okwcqjlgrbknhgtj2kofa\n",
       "    entity:\n",
       "    - kind: entity\n",
       "      spec:\n",
       "        name: Flights\n",
       "    entityId: 4C3180CC63AF18DF483BDD0E307CA32F\n",
       "    featureStoreId: 040EB7515EE167B7D08448E94694A3DA\n",
       "    id: 9235F5BAE9A1FB8E259E6700CCF82A68\n",
       "    inputFeatureDetails:\n",
       "    - featureType: STRING\n",
       "      name: IATA_CODE\n",
       "      orderNumber: 1\n",
       "    - featureType: STRING\n",
       "      name: AIRPORT\n",
       "      orderNumber: 2\n",
       "    - featureType: STRING\n",
       "      name: CITY\n",
       "      orderNumber: 3\n",
       "    - featureType: STRING\n",
       "      name: STATE\n",
       "      orderNumber: 4\n",
       "    - featureType: STRING\n",
       "      name: COUNTRY\n",
       "      orderNumber: 5\n",
       "    - featureType: FLOAT\n",
       "      name: LATITUDE\n",
       "      orderNumber: 6\n",
       "    - featureType: FLOAT\n",
       "      name: LONGITUDE\n",
       "      orderNumber: 7\n",
       "    name: flights_feature_group\n",
       "    primaryKeys:\n",
       "      items:\n",
       "      - name: IATA_CODE\n",
       "    statisticsConfig:\n",
       "      isEnabled: true\n",
       "  type: featureGroup,\n",
       "  \n",
       "  kind: FeatureGroup\n",
       "  spec:\n",
       "    compartmentId: ocid1.tenancy.oc1..aaaaaaaa462hfhplpx652b32ix62xrdijppq2c7okwcqjlgrbknhgtj2kofa\n",
       "    entity:\n",
       "    - kind: entity\n",
       "      spec:\n",
       "        name: Flights\n",
       "    entityId: 4C3180CC63AF18DF483BDD0E307CA32F\n",
       "    featureStoreId: 040EB7515EE167B7D08448E94694A3DA\n",
       "    id: 5D71ED3F84D992E7241DC814ECAE4ED0\n",
       "    inputFeatureDetails:\n",
       "    - featureType: STRING\n",
       "      name: IATA_CODE\n",
       "      orderNumber: 1\n",
       "    - featureType: STRING\n",
       "      name: AIRPORT\n",
       "      orderNumber: 2\n",
       "    - featureType: STRING\n",
       "      name: CITY\n",
       "      orderNumber: 3\n",
       "    - featureType: STRING\n",
       "      name: STATE\n",
       "      orderNumber: 4\n",
       "    - featureType: STRING\n",
       "      name: COUNTRY\n",
       "      orderNumber: 5\n",
       "    - featureType: FLOAT\n",
       "      name: LATITUDE\n",
       "      orderNumber: 6\n",
       "    - featureType: FLOAT\n",
       "      name: LONGITUDE\n",
       "      orderNumber: 7\n",
       "    name: airlines_feature_group\n",
       "    primaryKeys:\n",
       "      items:\n",
       "      - name: IATA_CODE\n",
       "    statisticsConfig:\n",
       "      isEnabled: true\n",
       "  type: featureGroup,\n",
       "  \n",
       "  kind: FeatureGroup\n",
       "  spec:\n",
       "    compartmentId: ocid1.tenancy.oc1..aaaaaaaa462hfhplpx652b32ix62xrdijppq2c7okwcqjlgrbknhgtj2kofa\n",
       "    entity:\n",
       "    - kind: entity\n",
       "      spec:\n",
       "        name: Flights\n",
       "    entityId: 4C3180CC63AF18DF483BDD0E307CA32F\n",
       "    featureStoreId: 040EB7515EE167B7D08448E94694A3DA\n",
       "    id: C08DAF1C705F24E1C7D55D584931830C\n",
       "    inputFeatureDetails:\n",
       "    - featureType: STRING\n",
       "      name: IATA_CODE\n",
       "      orderNumber: 1\n",
       "    - featureType: STRING\n",
       "      name: AIRLINE\n",
       "      orderNumber: 2\n",
       "    name: airport_feature_group\n",
       "    primaryKeys:\n",
       "      items:\n",
       "      - name: IATA_CODE\n",
       "    statisticsConfig:\n",
       "      isEnabled: true\n",
       "  type: featureGroup],\n",
       " [\n",
       "  kind: Dataset\n",
       "  spec:\n",
       "    compartmentId: ocid1.tenancy.oc1..aaaaaaaa462hfhplpx652b32ix62xrdijppq2c7okwcqjlgrbknhgtj2kofa\n",
       "    description: Dataset for flights\n",
       "    entity:\n",
       "    - kind: entity\n",
       "      spec:\n",
       "        name: Flights\n",
       "    entityId: 4C3180CC63AF18DF483BDD0E307CA32F\n",
       "    featureStoreId: 040EB7515EE167B7D08448E94694A3DA\n",
       "    id: 92A74C6E694BAFAA6DFD13A4DB7A1B88\n",
       "    name: flights_dataset\n",
       "    query: SELECT flight.IATA_CODE, flight.AIRPORT FROM flights_feature_group flight\n",
       "    statisticsConfig:\n",
       "      isEnabled: true\n",
       "  type: dataset])"
      ]
     },
     "execution_count": 53,
     "metadata": {},
     "output_type": "execute_result"
    }
   ],
   "source": [
    "registrar = FeatureStoreRegistrar.from_yaml(yaml_string=feature_store_yaml)\n",
    "registrar.create()"
   ]
  },
  {
   "cell_type": "markdown",
   "id": "ca6cc5bc",
   "metadata": {},
   "source": [
    "<a id='ref'></a>\n",
    "# References\n",
    "\n",
    "- [ADS Library Documentation](https://accelerated-data-science.readthedocs.io/en/latest/index.html)\n",
    "- [Data Science YouTube Videos](https://www.youtube.com/playlist?list=PLKCk3OyNwIzv6CWMhvqSB_8MLJIZdO80L)\n",
    "- [OCI Data Science Documentation](https://docs.cloud.oracle.com/en-us/iaas/data-science/using/data-science.htm)\n",
    "- [Oracle Data & AI Blog](https://blogs.oracle.com/datascience/)"
   ]
  },
  {
   "cell_type": "code",
   "execution_count": null,
   "id": "88415b50",
   "metadata": {},
   "outputs": [],
   "source": []
  }
 ],
 "metadata": {
  "kernelspec": {
   "display_name": "Python 3 (ipykernel)",
   "language": "python",
   "name": "python3"
  },
  "language_info": {
   "codemirror_mode": {
    "name": "ipython",
    "version": 3
   },
   "file_extension": ".py",
   "mimetype": "text/x-python",
   "name": "python",
   "nbconvert_exporter": "python",
   "pygments_lexer": "ipython3",
   "version": "3.10.11"
  }
 },
 "nbformat": 4,
 "nbformat_minor": 5
}
