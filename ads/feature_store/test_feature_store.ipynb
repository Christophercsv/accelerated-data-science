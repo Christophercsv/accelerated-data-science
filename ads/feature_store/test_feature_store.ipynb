{
 "cells": [
  {
   "cell_type": "code",
   "execution_count": 1,
   "metadata": {
    "pycharm": {
     "is_executing": true
    }
   },
   "outputs": [
    {
     "name": "stdout",
     "output_type": "stream",
     "text": [
      "WARNING:py.warnings:/Users/kshitizlohia/IdeaProjects/oracle/feature-store/advanced-ds/venv/lib/python3.10/site-packages/pyspark/sql/pandas/utils.py:37: DeprecationWarning: distutils Version classes are deprecated. Use packaging.version instead.\n",
      "  if LooseVersion(pandas.__version__) < LooseVersion(minimum_pandas_version):\n",
      "\n",
      "WARNING:py.warnings:/Users/kshitizlohia/IdeaProjects/oracle/feature-store/advanced-ds/venv/lib/python3.10/site-packages/pyspark/sql/pandas/utils.py:64: DeprecationWarning: distutils Version classes are deprecated. Use packaging.version instead.\n",
      "  if LooseVersion(pyarrow.__version__) < LooseVersion(minimum_pyarrow_version):\n",
      "\n",
      "WARNING:py.warnings:/Users/kshitizlohia/IdeaProjects/oracle/feature-store/advanced-ds/venv/lib/python3.10/site-packages/pyspark/pandas/__init__.py:46: DeprecationWarning: distutils Version classes are deprecated. Use packaging.version instead.\n",
      "  LooseVersion(pyarrow.__version__) >= LooseVersion(\"2.0.0\")\n",
      "\n",
      "WARNING:py.warnings:/Users/kshitizlohia/IdeaProjects/oracle/feature-store/advanced-ds/venv/lib/python3.10/site-packages/pyspark/pandas/__init__.py:49: UserWarning: 'PYARROW_IGNORE_TIMEZONE' environment variable was not set. It is required to set this environment variable to '1' in both driver and executor sides if you use pyarrow>=2.0.0. pandas-on-Spark will set it for you but it does not work if there is a Spark context already launched.\n",
      "  warnings.warn(\n",
      "\n",
      "WARNING:py.warnings:/Users/kshitizlohia/IdeaProjects/oracle/feature-store/advanced-ds/venv/lib/python3.10/site-packages/pyspark/pandas/groupby.py:49: DeprecationWarning: distutils Version classes are deprecated. Use packaging.version instead.\n",
      "  if LooseVersion(pd.__version__) >= LooseVersion(\"1.3.0\"):\n",
      "\n",
      "ERROR:logger:Please set env variable SPARK_VERSION\n",
      "INFO:logger:Using deequ: com.amazon.deequ:deequ:1.2.2-spark-3.0\n"
     ]
    }
   ],
   "source": [
    "import oci\n",
    "import ads\n",
    "from ads.feature_store.feature_group_expectation import ExpectationType\n",
    "from ads.feature_store.feature_store import FeatureStore\n",
    "from ads.feature_store.input_feature_detail import FeatureDetail, FeatureType\n",
    "from ads.feature_store.statistics_config import StatisticsConfig\n",
    "from ads.feature_store.transformation import TransformationMode\n",
    "\n",
    "other_config = oci.config.from_file(\"~/.oci/config\", \"HARSANKA\")\n",
    "\n",
    "ads.set_auth(auth=\"api_key\", client_kwargs={\"service_endpoint\": \"http://localhost:21000/20230101\"}, config=other_config)\n",
    "\n",
    "compartmentId = \"ocid1.tenancy.oc1..aaaaaaaa462hfhplpx652b32ix62xrdijppq2c7okwcqjlgrbknhgtj2kofa\"\n",
    "# registryId = \"ocid1.dcmsregistry.oc1.iad.anuwcljtocamvlyagupcaxxr6fa6vwrb72hnbmeoarafrocl456mqsts43ja\"\n",
    "metastoreId = \"ocid1.datacatalogmetastore.oc1.iad.amaaaaaaqc2qulqav5pzijun724nglvsent3634hqrc2ybu5vfi3fu35tkyq\""
   ]
  },
  {
   "cell_type": "code",
   "execution_count": 9,
   "outputs": [],
   "source": [
    "import pandas\n",
    "df = pandas.read_parquet(\"https://objectstorage.us-ashburn-1.oraclecloud.com/p/tkOx6d7wYFBpfaAC3ok7PrBSzu8H5yqFvcwXm6vdcVFwe8kSSdtbeuSwjs0KlEA2/n/oraclegbuprod/b/energywater-datascience/o/featuresets/submeter_hems/21.12/0.1.0.parquet/part-00005-8870392f-906f-4779-9a67-d28aaa9cefe7-c000.snappy.parquet\")"
   ],
   "metadata": {
    "collapsed": false,
    "ExecuteTime": {
     "end_time": "2023-05-23T11:13:12.421650Z",
     "start_time": "2023-05-23T11:13:03.172351Z"
    }
   }
  },
  {
   "cell_type": "code",
   "execution_count": 10,
   "outputs": [
    {
     "data": {
      "text/plain": "  submeter_hems_ee_site_id  submeter_hems_start  submeter_hems_period  \\\n0                     1706           1546300800                   900   \n1                     7746           1546300800                   900   \n\n                            submeter_hems_timeseries submeter_hems_units  \n0  [[nan, nan, nan, nan, nan, nan, nan, nan, nan,...                  KW  \n1  [[nan, nan, nan, nan, nan, nan, nan, nan, nan,...                  KW  ",
      "text/html": "<div>\n<style scoped>\n    .dataframe tbody tr th:only-of-type {\n        vertical-align: middle;\n    }\n\n    .dataframe tbody tr th {\n        vertical-align: top;\n    }\n\n    .dataframe thead th {\n        text-align: right;\n    }\n</style>\n<table border=\"1\" class=\"dataframe\">\n  <thead>\n    <tr style=\"text-align: right;\">\n      <th></th>\n      <th>submeter_hems_ee_site_id</th>\n      <th>submeter_hems_start</th>\n      <th>submeter_hems_period</th>\n      <th>submeter_hems_timeseries</th>\n      <th>submeter_hems_units</th>\n    </tr>\n  </thead>\n  <tbody>\n    <tr>\n      <th>0</th>\n      <td>1706</td>\n      <td>1546300800</td>\n      <td>900</td>\n      <td>[[nan, nan, nan, nan, nan, nan, nan, nan, nan,...</td>\n      <td>KW</td>\n    </tr>\n    <tr>\n      <th>1</th>\n      <td>7746</td>\n      <td>1546300800</td>\n      <td>900</td>\n      <td>[[nan, nan, nan, nan, nan, nan, nan, nan, nan,...</td>\n      <td>KW</td>\n    </tr>\n  </tbody>\n</table>\n</div>"
     },
     "execution_count": 10,
     "metadata": {},
     "output_type": "execute_result"
    }
   ],
   "source": [
    "df"
   ],
   "metadata": {
    "collapsed": false,
    "ExecuteTime": {
     "end_time": "2023-05-23T11:13:12.507689Z",
     "start_time": "2023-05-23T11:13:12.484506Z"
    }
   }
  },
  {
   "cell_type": "code",
   "execution_count": 2,
   "metadata": {
    "pycharm": {
     "is_executing": true
    },
    "ExecuteTime": {
     "end_time": "2023-05-23T11:02:05.277704Z",
     "start_time": "2023-05-23T11:02:05.059788Z"
    }
   },
   "outputs": [
    {
     "ename": "AttributeError",
     "evalue": "'DataFrame' object has no attribute 'schema'",
     "output_type": "error",
     "traceback": [
      "\u001B[0;31m---------------------------------------------------------------------------\u001B[0m",
      "\u001B[0;31mAttributeError\u001B[0m                            Traceback (most recent call last)",
      "\u001B[0;32m/var/folders/pg/zfq6crsd7kdd3qw8txc6c1h00000gn/T/ipykernel_68107/160688851.py\u001B[0m in \u001B[0;36m?\u001B[0;34m()\u001B[0m\n\u001B[0;32m----> 1\u001B[0;31m \u001B[0mdf\u001B[0m\u001B[0;34m.\u001B[0m\u001B[0mschema\u001B[0m\u001B[0;34m\u001B[0m\u001B[0;34m\u001B[0m\u001B[0m\n\u001B[0m",
      "\u001B[0;32m~/IdeaProjects/oracle/feature-store/advanced-ds/venv/lib/python3.10/site-packages/pandas/core/generic.py\u001B[0m in \u001B[0;36m?\u001B[0;34m(self, name)\u001B[0m\n\u001B[1;32m   5898\u001B[0m             \u001B[0;32mand\u001B[0m \u001B[0mname\u001B[0m \u001B[0;32mnot\u001B[0m \u001B[0;32min\u001B[0m \u001B[0mself\u001B[0m\u001B[0;34m.\u001B[0m\u001B[0m_accessors\u001B[0m\u001B[0;34m\u001B[0m\u001B[0;34m\u001B[0m\u001B[0m\n\u001B[1;32m   5899\u001B[0m             \u001B[0;32mand\u001B[0m \u001B[0mself\u001B[0m\u001B[0;34m.\u001B[0m\u001B[0m_info_axis\u001B[0m\u001B[0;34m.\u001B[0m\u001B[0m_can_hold_identifiers_and_holds_name\u001B[0m\u001B[0;34m(\u001B[0m\u001B[0mname\u001B[0m\u001B[0;34m)\u001B[0m\u001B[0;34m\u001B[0m\u001B[0;34m\u001B[0m\u001B[0m\n\u001B[1;32m   5900\u001B[0m         ):\n\u001B[1;32m   5901\u001B[0m             \u001B[0;32mreturn\u001B[0m \u001B[0mself\u001B[0m\u001B[0;34m[\u001B[0m\u001B[0mname\u001B[0m\u001B[0;34m]\u001B[0m\u001B[0;34m\u001B[0m\u001B[0;34m\u001B[0m\u001B[0m\n\u001B[0;32m-> 5902\u001B[0;31m         \u001B[0;32mreturn\u001B[0m \u001B[0mobject\u001B[0m\u001B[0;34m.\u001B[0m\u001B[0m__getattribute__\u001B[0m\u001B[0;34m(\u001B[0m\u001B[0mself\u001B[0m\u001B[0;34m,\u001B[0m \u001B[0mname\u001B[0m\u001B[0;34m)\u001B[0m\u001B[0;34m\u001B[0m\u001B[0;34m\u001B[0m\u001B[0m\n\u001B[0m",
      "\u001B[0;31mAttributeError\u001B[0m: 'DataFrame' object has no attribute 'schema'"
     ]
    }
   ],
   "source": [
    "df.schema"
   ]
  },
  {
   "cell_type": "code",
   "execution_count": 3,
   "metadata": {
    "pycharm": {
     "is_executing": true
    }
   },
   "outputs": [],
   "source": [
    "# FeatureStore().list(compartment_id=compartmentId)"
   ]
  },
  {
   "cell_type": "code",
   "execution_count": 4,
   "metadata": {},
   "outputs": [],
   "source": [
    "feature_store_resource = FeatureStore(). \\\n",
    "    with_description(\"Feature Store Description\"). \\\n",
    "    with_compartment_id(compartmentId). \\\n",
    "    with_display_name(\"Bike feature store\"). \\\n",
    "    with_offline_config(metastore_id=metastoreId)\n",
    "\n",
    "feature_store = feature_store_resource.create()"
   ]
  },
  {
   "cell_type": "code",
   "execution_count": 18,
   "metadata": {},
   "outputs": [
    {
     "data": {
      "text/plain": [
       "kind: entity\n",
       "spec:\n",
       "  compartmentId: ocid1.tenancy.oc1..aaaaaaaa462hfhplpx652b32ix62xrdijppq2c7okwcqjlgrbknhgtj2kofa\n",
       "  featureStoreId: 5901C0CF660E8F74FE575C9DB83A6B9E\n",
       "  id: 5D6EF9A3A7B70711F62150193D3AF8A3\n",
       "  name: Bike Entity\n",
       "type: entity"
      ]
     },
     "execution_count": 5,
     "metadata": {},
     "output_type": "execute_result"
    },
    {
     "data": {
      "text/plain": "                                 id  \\\n0  4134D70E8DD10FF1BA46FB098A14D8D7   \n1  0E0987B23576BF68EAC43F98BB911B00   \n2  F24DD036922BA83CAFDA4022AB81250C   \n3  2E3D8C4C2CCC2A96E94DDB2EF4F787CF   \n4  CDB904923DFE16D03DB923DBFC7A500D   \n5  D987BFD50452777E971B5CB8E3FA3526   \n6  9F3E18E960725DA8D0454D76EA391D00   \n7  17FE1C9EFB62932ACDE23A5D81F22D07   \n8  5D6EF9A3A7B70711F62150193D3AF8A3   \n\n                                             display_name description  \\\n0       entity_resource-moist-mallard-2023-05-12-14:58.58        None   \n1  entity_resource-verifiable-vulture-2023-05-12-15:03.24        None   \n2  entity_resource-agitated-albatross-2023-05-12-15:09.18        None   \n3    entity_resource-voluminous-viper-2023-05-12-15:11.27        None   \n4    entity_resource-active-armadillo-2023-05-12-15:34.15        None   \n5     entity_resource-incredible-ibis-2023-05-12-15:36.28        None   \n6         entity_resource-feisty-fish-2023-05-12-15:56.21        None   \n7                                             Bike Entity        None   \n8                                             Bike Entity        None   \n\n          time_created         time_updated lifecycle_state created_by  \\\n0  2023-05-12 14:59:02  2023-05-12 14:59:02          ACTIVE  ...5schaa   \n1  2023-05-12 15:03:28  2023-05-12 15:03:28          ACTIVE  ...5schaa   \n2  2023-05-12 15:09:21  2023-05-12 15:09:21          ACTIVE  ...5schaa   \n3  2023-05-12 15:11:32  2023-05-12 15:11:32          ACTIVE  ...5schaa   \n4  2023-05-12 15:34:18  2023-05-12 15:34:18          ACTIVE  ...5schaa   \n5  2023-05-12 15:36:33  2023-05-12 15:36:33          ACTIVE  ...5schaa   \n6  2023-05-12 15:56:24  2023-05-12 15:56:24          ACTIVE  ...5schaa   \n7  2023-05-12 16:02:23  2023-05-12 16:02:23          ACTIVE  ...5schaa   \n8  2023-05-12 17:32:37  2023-05-12 17:32:37          ACTIVE  ...5schaa   \n\n  compartment_id                  feature_store_id  \n0      ...j2kofa  CC6CF0258B71E8E80213D3809A5FD8BB  \n1      ...j2kofa  5885FF7838B14F25786256084D30B855  \n2      ...j2kofa  BC863DB74B3BDC62C5C605CDDD7A4157  \n3      ...j2kofa  F4F29B488F92D38C1F05559E9B547C7B  \n4      ...j2kofa  7E813A04E09D6EFABED5CAD3B0016FE2  \n5      ...j2kofa  39A55562B85AEE63E6547634ABA6D283  \n6      ...j2kofa  5D32B794C908E333F34B1FA4896DA8B5  \n7      ...j2kofa  0B347D03F1DF19A97102444A4F34B77A  \n8      ...j2kofa  5901C0CF660E8F74FE575C9DB83A6B9E  ",
      "text/html": "<div>\n<style scoped>\n    .dataframe tbody tr th:only-of-type {\n        vertical-align: middle;\n    }\n\n    .dataframe tbody tr th {\n        vertical-align: top;\n    }\n\n    .dataframe thead th {\n        text-align: right;\n    }\n</style>\n<table border=\"1\" class=\"dataframe\">\n  <thead>\n    <tr style=\"text-align: right;\">\n      <th></th>\n      <th>id</th>\n      <th>display_name</th>\n      <th>description</th>\n      <th>time_created</th>\n      <th>time_updated</th>\n      <th>lifecycle_state</th>\n      <th>created_by</th>\n      <th>compartment_id</th>\n      <th>feature_store_id</th>\n    </tr>\n  </thead>\n  <tbody>\n    <tr>\n      <th>0</th>\n      <td>4134D70E8DD10FF1BA46FB098A14D8D7</td>\n      <td>entity_resource-moist-mallard-2023-05-12-14:58.58</td>\n      <td>None</td>\n      <td>2023-05-12 14:59:02</td>\n      <td>2023-05-12 14:59:02</td>\n      <td>ACTIVE</td>\n      <td>...5schaa</td>\n      <td>...j2kofa</td>\n      <td>CC6CF0258B71E8E80213D3809A5FD8BB</td>\n    </tr>\n    <tr>\n      <th>1</th>\n      <td>0E0987B23576BF68EAC43F98BB911B00</td>\n      <td>entity_resource-verifiable-vulture-2023-05-12-15:03.24</td>\n      <td>None</td>\n      <td>2023-05-12 15:03:28</td>\n      <td>2023-05-12 15:03:28</td>\n      <td>ACTIVE</td>\n      <td>...5schaa</td>\n      <td>...j2kofa</td>\n      <td>5885FF7838B14F25786256084D30B855</td>\n    </tr>\n    <tr>\n      <th>2</th>\n      <td>F24DD036922BA83CAFDA4022AB81250C</td>\n      <td>entity_resource-agitated-albatross-2023-05-12-15:09.18</td>\n      <td>None</td>\n      <td>2023-05-12 15:09:21</td>\n      <td>2023-05-12 15:09:21</td>\n      <td>ACTIVE</td>\n      <td>...5schaa</td>\n      <td>...j2kofa</td>\n      <td>BC863DB74B3BDC62C5C605CDDD7A4157</td>\n    </tr>\n    <tr>\n      <th>3</th>\n      <td>2E3D8C4C2CCC2A96E94DDB2EF4F787CF</td>\n      <td>entity_resource-voluminous-viper-2023-05-12-15:11.27</td>\n      <td>None</td>\n      <td>2023-05-12 15:11:32</td>\n      <td>2023-05-12 15:11:32</td>\n      <td>ACTIVE</td>\n      <td>...5schaa</td>\n      <td>...j2kofa</td>\n      <td>F4F29B488F92D38C1F05559E9B547C7B</td>\n    </tr>\n    <tr>\n      <th>4</th>\n      <td>CDB904923DFE16D03DB923DBFC7A500D</td>\n      <td>entity_resource-active-armadillo-2023-05-12-15:34.15</td>\n      <td>None</td>\n      <td>2023-05-12 15:34:18</td>\n      <td>2023-05-12 15:34:18</td>\n      <td>ACTIVE</td>\n      <td>...5schaa</td>\n      <td>...j2kofa</td>\n      <td>7E813A04E09D6EFABED5CAD3B0016FE2</td>\n    </tr>\n    <tr>\n      <th>5</th>\n      <td>D987BFD50452777E971B5CB8E3FA3526</td>\n      <td>entity_resource-incredible-ibis-2023-05-12-15:36.28</td>\n      <td>None</td>\n      <td>2023-05-12 15:36:33</td>\n      <td>2023-05-12 15:36:33</td>\n      <td>ACTIVE</td>\n      <td>...5schaa</td>\n      <td>...j2kofa</td>\n      <td>39A55562B85AEE63E6547634ABA6D283</td>\n    </tr>\n    <tr>\n      <th>6</th>\n      <td>9F3E18E960725DA8D0454D76EA391D00</td>\n      <td>entity_resource-feisty-fish-2023-05-12-15:56.21</td>\n      <td>None</td>\n      <td>2023-05-12 15:56:24</td>\n      <td>2023-05-12 15:56:24</td>\n      <td>ACTIVE</td>\n      <td>...5schaa</td>\n      <td>...j2kofa</td>\n      <td>5D32B794C908E333F34B1FA4896DA8B5</td>\n    </tr>\n    <tr>\n      <th>7</th>\n      <td>17FE1C9EFB62932ACDE23A5D81F22D07</td>\n      <td>Bike Entity</td>\n      <td>None</td>\n      <td>2023-05-12 16:02:23</td>\n      <td>2023-05-12 16:02:23</td>\n      <td>ACTIVE</td>\n      <td>...5schaa</td>\n      <td>...j2kofa</td>\n      <td>0B347D03F1DF19A97102444A4F34B77A</td>\n    </tr>\n    <tr>\n      <th>8</th>\n      <td>5D6EF9A3A7B70711F62150193D3AF8A3</td>\n      <td>Bike Entity</td>\n      <td>None</td>\n      <td>2023-05-12 17:32:37</td>\n      <td>2023-05-12 17:32:37</td>\n      <td>ACTIVE</td>\n      <td>...5schaa</td>\n      <td>...j2kofa</td>\n      <td>5901C0CF660E8F74FE575C9DB83A6B9E</td>\n    </tr>\n  </tbody>\n</table>\n</div>"
     },
     "execution_count": 18,
     "metadata": {},
     "output_type": "execute_result"
    }
   ],
   "source": [
    "entity = feature_store.create_entity(\"Bike Entity\")\n",
    "entity"
   ]
  },
  {
   "cell_type": "code",
   "execution_count": 6,
   "metadata": {},
   "outputs": [],
   "source": [
    "def user_has_great_credit(credit_score_batch):\n",
    "    credit_score_batch['User_Has_Good_Credit'] = credit_score_batch['credit_score'].apply(lambda x: 1 if x > 670 else 0)\n",
    "    credit_score_batch.rename(columns={'date': 'Timestamp'}, inplace=True)\n",
    "    result_df = credit_score_batch[['user_id', 'User_Has_Good_Credit', 'Timestamp']]\n",
    "    return result_df\n",
    "\n",
    "transformation_1 = feature_store.create_transformation(transformation_mode=TransformationMode.PANDAS,\n",
    "                                                       source_code_func=user_has_great_credit,\n",
    "                                                       display_name=\"user_has_great_credit\")"
   ]
  },
  {
   "cell_type": "code",
   "execution_count": 7,
   "metadata": {},
   "outputs": [],
   "source": [
    "input_feature_details = [\n",
    "    FeatureDetail(\"user_id\").with_feature_type(FeatureType.STRING).with_order_number(1),\n",
    "    FeatureDetail(\"date\").with_feature_type(FeatureType.STRING).with_order_number(2),\n",
    "    FeatureDetail(\"credit_score\").with_feature_type(FeatureType.STRING).with_order_number(3)\n",
    "]"
   ]
  },
  {
   "cell_type": "code",
   "execution_count": 8,
   "metadata": {},
   "outputs": [],
   "source": [
    "# Initialize Expectation Suite\n",
    "# from great_expectations.core import ExpectationSuite, ExpectationConfiguration\n",
    "#\n",
    "# expectation_suite_trans = ExpectationSuite(expectation_suite_name=\"feature_definition\")\n",
    "# expectation_suite_trans.add_expectation(\n",
    "#     ExpectationConfiguration(\n",
    "#         expectation_type=\"EXPECT_COLUMN_VALUES_TO_NOT_BE_NULL\",\n",
    "#         kwargs={\"column\": \"date\"}\n",
    "#     )\n",
    "# )\n",
    "\n",
    "stats_config = StatisticsConfig().with_is_enabled(False)\n",
    "feature_group_resource = entity.create_feature_group(\n",
    "    primary_keys=[\"User_id\"],\n",
    "    input_feature_details=input_feature_details,\n",
    "    # expectation_suite=expectation_suite_trans,\n",
    "    # expectation_type=ExpectationType.LENIENT,\n",
    "    statistics_config=stats_config,\n",
    "    name=\"bike_cycle_feature_group\",\n",
    "    transformation_id=transformation_1.id\n",
    ")"
   ]
  },
  {
   "cell_type": "code",
   "execution_count": 9,
   "metadata": {},
   "outputs": [
    {
     "data": {
      "text/plain": [
       "kind: FeatureGroup\n",
       "spec:\n",
       "  compartmentId: ocid1.tenancy.oc1..aaaaaaaa462hfhplpx652b32ix62xrdijppq2c7okwcqjlgrbknhgtj2kofa\n",
       "  entityId: 5D6EF9A3A7B70711F62150193D3AF8A3\n",
       "  featureStoreId: 5901C0CF660E8F74FE575C9DB83A6B9E\n",
       "  id: 35EB42B64BD3B623725B3B9ACF397B89\n",
       "  inputFeatureDetails:\n",
       "  - featureType: STRING\n",
       "    name: user_id\n",
       "    orderNumber: 1\n",
       "  - featureType: STRING\n",
       "    name: date\n",
       "    orderNumber: 2\n",
       "  - featureType: STRING\n",
       "    name: credit_score\n",
       "    orderNumber: 3\n",
       "  name: bike_cycle_feature_group\n",
       "  primaryKeys:\n",
       "    items:\n",
       "    - name: User_id\n",
       "  statisticsConfig:\n",
       "    isEnabled: false\n",
       "  transformationId: F82256A77A02BC68BB45CA180847DE4B\n",
       "type: featureGroup"
      ]
     },
     "execution_count": 9,
     "metadata": {},
     "output_type": "execute_result"
    }
   ],
   "source": [
    "feature_group_resource"
   ]
  },
  {
   "cell_type": "code",
   "execution_count": 10,
   "metadata": {},
   "outputs": [],
   "source": [
    "# from ads.feature_store.feature_group import FeatureGroup\n",
    "# import ads\n",
    "# import oci\n",
    "# other_config = oci.config.from_file(\"~/.oci/config\", \"HARSANKA\")\n",
    "\n",
    "# ads.set_auth(auth=\"api_key\", client_kwargs={\"service_endpoint\": \"http://localhost:21000/20230101\"}, config=other_config)\n",
    "\n",
    "# fg1 = FeatureGroup.from_id(\"41FFB439A62AB3222E06A96F7E8FEE7C\")"
   ]
  },
  {
   "cell_type": "code",
   "execution_count": 11,
   "metadata": {},
   "outputs": [],
   "source": [
    "import warnings\n",
    "warnings.filterwarnings('ignore')"
   ]
  },
  {
   "cell_type": "code",
   "execution_count": 12,
   "metadata": {},
   "outputs": [
    {
     "data": {
      "image/svg+xml": [
       "<?xml version=\"1.0\" encoding=\"UTF-8\" standalone=\"no\"?>\n",
       "<!DOCTYPE svg PUBLIC \"-//W3C//DTD SVG 1.1//EN\"\n",
       " \"http://www.w3.org/Graphics/SVG/1.1/DTD/svg11.dtd\">\n",
       "<!-- Generated by graphviz version 5.0.1 (20220820.1526)\n",
       " -->\n",
       "<!-- Pages: 1 -->\n",
       "<svg width=\"587pt\" height=\"138pt\"\n",
       " viewBox=\"0.00 0.00 587.00 138.00\" xmlns=\"http://www.w3.org/2000/svg\" xmlns:xlink=\"http://www.w3.org/1999/xlink\">\n",
       "<g id=\"graph0\" class=\"graph\" transform=\"scale(1 1) rotate(0) translate(4 134)\">\n",
       "<polygon fill=\"white\" stroke=\"none\" points=\"-4,4 -4,-134 583,-134 583,4 -4,4\"/>\n",
       "<!-- 5901C0CF660E8F74FE575C9DB83A6B9E -->\n",
       "<g id=\"node1\" class=\"node\">\n",
       "<title>5901C0CF660E8F74FE575C9DB83A6B9E</title>\n",
       "<path fill=\"#dedede\" stroke=\"#dedede\" d=\"M157,-93C157,-93 12,-93 12,-93 6,-93 0,-87 0,-81 0,-81 0,-49 0,-49 0,-43 6,-37 12,-37 12,-37 157,-37 157,-37 163,-37 169,-43 169,-49 169,-49 169,-81 169,-81 169,-87 163,-93 157,-93\"/>\n",
       "<text text-anchor=\"start\" x=\"42.5\" y=\"-76.2\" font-family=\"Helvetica,Arial,sans-serif\" font-size=\"11.00\">Bike feature store</text>\n",
       "<text text-anchor=\"start\" x=\"63.5\" y=\"-61.4\" font-family=\"Helvetica,Arial,sans-serif\" font-size=\"7.00\">Feature Store</text>\n",
       "<text text-anchor=\"start\" x=\"12.5\" y=\"-47.4\" font-family=\"Courier New\" font-size=\"7.00\">5901C0CF660E8F74FE575C9DB83A6B9E</text>\n",
       "</g>\n",
       "<!-- 5D6EF9A3A7B70711F62150193D3AF8A3 -->\n",
       "<g id=\"node2\" class=\"node\">\n",
       "<title>5D6EF9A3A7B70711F62150193D3AF8A3</title>\n",
       "<path fill=\"#dedede\" stroke=\"#dedede\" d=\"M362,-130C362,-130 217,-130 217,-130 211,-130 205,-124 205,-118 205,-118 205,-86 205,-86 205,-80 211,-74 217,-74 217,-74 362,-74 362,-74 368,-74 374,-80 374,-86 374,-86 374,-118 374,-118 374,-124 368,-130 362,-130\"/>\n",
       "<text text-anchor=\"start\" x=\"264\" y=\"-113.2\" font-family=\"Helvetica,Arial,sans-serif\" font-size=\"11.00\">Bike Entity</text>\n",
       "<text text-anchor=\"start\" x=\"280.5\" y=\"-98.4\" font-family=\"Helvetica,Arial,sans-serif\" font-size=\"7.00\">Entity</text>\n",
       "<text text-anchor=\"start\" x=\"217.5\" y=\"-84.4\" font-family=\"Courier New\" font-size=\"7.00\">5D6EF9A3A7B70711F62150193D3AF8A3</text>\n",
       "</g>\n",
       "<!-- 5901C0CF660E8F74FE575C9DB83A6B9E&#45;&gt;5D6EF9A3A7B70711F62150193D3AF8A3 -->\n",
       "<g id=\"edge1\" class=\"edge\">\n",
       "<title>5901C0CF660E8F74FE575C9DB83A6B9E&#45;&gt;5D6EF9A3A7B70711F62150193D3AF8A3</title>\n",
       "<path fill=\"none\" stroke=\"black\" d=\"M169.24,-80.26C177.72,-81.81 186.37,-83.38 194.94,-84.95\"/>\n",
       "<polygon fill=\"black\" stroke=\"black\" points=\"194.49,-88.42 204.95,-86.77 195.74,-81.54 194.49,-88.42\"/>\n",
       "</g>\n",
       "<!-- F82256A77A02BC68BB45CA180847DE4B -->\n",
       "<g id=\"node3\" class=\"node\">\n",
       "<title>F82256A77A02BC68BB45CA180847DE4B</title>\n",
       "<path fill=\"#dedede\" stroke=\"#dedede\" d=\"M362,-56C362,-56 217,-56 217,-56 211,-56 205,-50 205,-44 205,-44 205,-12 205,-12 205,-6 211,0 217,0 217,0 362,0 362,0 368,0 374,-6 374,-12 374,-12 374,-44 374,-44 374,-50 368,-56 362,-56\"/>\n",
       "<text text-anchor=\"start\" x=\"236\" y=\"-39.2\" font-family=\"Helvetica,Arial,sans-serif\" font-size=\"11.00\">user_has_great_credit</text>\n",
       "<text text-anchor=\"start\" x=\"266\" y=\"-24.4\" font-family=\"Helvetica,Arial,sans-serif\" font-size=\"7.00\">Transformation</text>\n",
       "<text text-anchor=\"start\" x=\"217.5\" y=\"-10.4\" font-family=\"Courier New\" font-size=\"7.00\">F82256A77A02BC68BB45CA180847DE4B</text>\n",
       "</g>\n",
       "<!-- 5901C0CF660E8F74FE575C9DB83A6B9E&#45;&gt;F82256A77A02BC68BB45CA180847DE4B -->\n",
       "<g id=\"edge2\" class=\"edge\">\n",
       "<title>5901C0CF660E8F74FE575C9DB83A6B9E&#45;&gt;F82256A77A02BC68BB45CA180847DE4B</title>\n",
       "<path fill=\"none\" stroke=\"black\" d=\"M169.24,-49.74C177.72,-48.19 186.37,-46.62 194.94,-45.05\"/>\n",
       "<polygon fill=\"black\" stroke=\"black\" points=\"195.74,-48.46 204.95,-43.23 194.49,-41.58 195.74,-48.46\"/>\n",
       "</g>\n",
       "<!-- 35EB42B64BD3B623725B3B9ACF397B89 -->\n",
       "<g id=\"node4\" class=\"node\">\n",
       "<title>35EB42B64BD3B623725B3B9ACF397B89</title>\n",
       "<path fill=\"#dedede\" stroke=\"#dedede\" d=\"M567,-93C567,-93 422,-93 422,-93 416,-93 410,-87 410,-81 410,-81 410,-49 410,-49 410,-43 416,-37 422,-37 422,-37 567,-37 567,-37 573,-37 579,-43 579,-49 579,-49 579,-81 579,-81 579,-87 573,-93 567,-93\"/>\n",
       "<text text-anchor=\"start\" x=\"433\" y=\"-76.2\" font-family=\"Helvetica,Arial,sans-serif\" font-size=\"11.00\">bike_cycle_feature_group</text>\n",
       "<text text-anchor=\"start\" x=\"472\" y=\"-61.4\" font-family=\"Helvetica,Arial,sans-serif\" font-size=\"7.00\">Feature Group</text>\n",
       "<text text-anchor=\"start\" x=\"422.5\" y=\"-47.4\" font-family=\"Courier New\" font-size=\"7.00\">35EB42B64BD3B623725B3B9ACF397B89</text>\n",
       "</g>\n",
       "<!-- 5D6EF9A3A7B70711F62150193D3AF8A3&#45;&gt;35EB42B64BD3B623725B3B9ACF397B89 -->\n",
       "<g id=\"edge3\" class=\"edge\">\n",
       "<title>5D6EF9A3A7B70711F62150193D3AF8A3&#45;&gt;35EB42B64BD3B623725B3B9ACF397B89</title>\n",
       "<path fill=\"none\" stroke=\"black\" d=\"M374.24,-86.74C382.72,-85.19 391.37,-83.62 399.94,-82.05\"/>\n",
       "<polygon fill=\"black\" stroke=\"black\" points=\"400.74,-85.46 409.95,-80.23 399.49,-78.58 400.74,-85.46\"/>\n",
       "</g>\n",
       "<!-- F82256A77A02BC68BB45CA180847DE4B&#45;&gt;35EB42B64BD3B623725B3B9ACF397B89 -->\n",
       "<g id=\"edge4\" class=\"edge\">\n",
       "<title>F82256A77A02BC68BB45CA180847DE4B&#45;&gt;35EB42B64BD3B623725B3B9ACF397B89</title>\n",
       "<path fill=\"none\" stroke=\"black\" d=\"M374.24,-43.26C382.72,-44.81 391.37,-46.38 399.94,-47.95\"/>\n",
       "<polygon fill=\"black\" stroke=\"black\" points=\"399.49,-51.42 409.95,-49.77 400.74,-44.54 399.49,-51.42\"/>\n",
       "</g>\n",
       "</g>\n",
       "</svg>\n"
      ],
      "text/plain": [
       "<graphviz.graphs.Digraph at 0x1314f17b0>"
      ]
     },
     "metadata": {},
     "output_type": "display_data"
    }
   ],
   "source": [
    "feature_group_resource.show()"
   ]
  },
  {
   "cell_type": "code",
   "execution_count": 13,
   "metadata": {},
   "outputs": [],
   "source": [
    "from ads.feature_store.dataset import Dataset\n",
    "\n",
    "dataset_resource = (\n",
    "            Dataset()\n",
    "            .with_description(\"dataset description\")\n",
    "            .with_compartment_id(compartmentId)\n",
    "            .with_name(\"bike_dataset\")\n",
    "            .with_entity_id(entity.id)\n",
    "            .with_feature_store_id(feature_store.id)\n",
    "            .with_query(f\"SELECT * FROM `{entity.id}`.{fg1.name}\")\n",
    ")"
   ]
  },
  {
   "cell_type": "code",
   "execution_count": 15,
   "metadata": {},
   "outputs": [
    {
     "data": {
      "text/plain": [
       "kind: Dataset\n",
       "spec:\n",
       "  compartmentId: ocid1.tenancy.oc1..aaaaaaaa462hfhplpx652b32ix62xrdijppq2c7okwcqjlgrbknhgtj2kofa\n",
       "  description: dataset description\n",
       "  entityId: 5D6EF9A3A7B70711F62150193D3AF8A3\n",
       "  featureStoreId: 5901C0CF660E8F74FE575C9DB83A6B9E\n",
       "  id: 5C6CF2B4777572F674343F9734E67673\n",
       "  name: bike_dataset\n",
       "  query: SELECT * FROM `5D6EF9A3A7B70711F62150193D3AF8A3`.bike_cycle_feature_group\n",
       "  statisticsConfig:\n",
       "    isEnabled: true\n",
       "type: dataset"
      ]
     },
     "execution_count": 15,
     "metadata": {},
     "output_type": "execute_result"
    }
   ],
   "source": [
    "dataset_resource.create()"
   ]
  },
  {
   "cell_type": "code",
   "execution_count": 16,
   "metadata": {},
   "outputs": [
    {
     "data": {
      "image/svg+xml": [
       "<?xml version=\"1.0\" encoding=\"UTF-8\" standalone=\"no\"?>\n",
       "<!DOCTYPE svg PUBLIC \"-//W3C//DTD SVG 1.1//EN\"\n",
       " \"http://www.w3.org/Graphics/SVG/1.1/DTD/svg11.dtd\">\n",
       "<!-- Generated by graphviz version 5.0.1 (20220820.1526)\n",
       " -->\n",
       "<!-- Pages: 1 -->\n",
       "<svg width=\"792pt\" height=\"138pt\"\n",
       " viewBox=\"0.00 0.00 792.00 138.00\" xmlns=\"http://www.w3.org/2000/svg\" xmlns:xlink=\"http://www.w3.org/1999/xlink\">\n",
       "<g id=\"graph0\" class=\"graph\" transform=\"scale(1 1) rotate(0) translate(4 134)\">\n",
       "<polygon fill=\"white\" stroke=\"none\" points=\"-4,4 -4,-134 788,-134 788,4 -4,4\"/>\n",
       "<!-- 5901C0CF660E8F74FE575C9DB83A6B9E -->\n",
       "<g id=\"node1\" class=\"node\">\n",
       "<title>5901C0CF660E8F74FE575C9DB83A6B9E</title>\n",
       "<path fill=\"#dedede\" stroke=\"#dedede\" d=\"M157,-93C157,-93 12,-93 12,-93 6,-93 0,-87 0,-81 0,-81 0,-49 0,-49 0,-43 6,-37 12,-37 12,-37 157,-37 157,-37 163,-37 169,-43 169,-49 169,-49 169,-81 169,-81 169,-87 163,-93 157,-93\"/>\n",
       "<text text-anchor=\"start\" x=\"42.5\" y=\"-76.2\" font-family=\"Helvetica,Arial,sans-serif\" font-size=\"11.00\">Bike feature store</text>\n",
       "<text text-anchor=\"start\" x=\"63.5\" y=\"-61.4\" font-family=\"Helvetica,Arial,sans-serif\" font-size=\"7.00\">Feature Store</text>\n",
       "<text text-anchor=\"start\" x=\"12.5\" y=\"-47.4\" font-family=\"Courier New\" font-size=\"7.00\">5901C0CF660E8F74FE575C9DB83A6B9E</text>\n",
       "</g>\n",
       "<!-- 5D6EF9A3A7B70711F62150193D3AF8A3 -->\n",
       "<g id=\"node2\" class=\"node\">\n",
       "<title>5D6EF9A3A7B70711F62150193D3AF8A3</title>\n",
       "<path fill=\"#dedede\" stroke=\"#dedede\" d=\"M362,-56C362,-56 217,-56 217,-56 211,-56 205,-50 205,-44 205,-44 205,-12 205,-12 205,-6 211,0 217,0 217,0 362,0 362,0 368,0 374,-6 374,-12 374,-12 374,-44 374,-44 374,-50 368,-56 362,-56\"/>\n",
       "<text text-anchor=\"start\" x=\"264\" y=\"-39.2\" font-family=\"Helvetica,Arial,sans-serif\" font-size=\"11.00\">Bike Entity</text>\n",
       "<text text-anchor=\"start\" x=\"280.5\" y=\"-24.4\" font-family=\"Helvetica,Arial,sans-serif\" font-size=\"7.00\">Entity</text>\n",
       "<text text-anchor=\"start\" x=\"217.5\" y=\"-10.4\" font-family=\"Courier New\" font-size=\"7.00\">5D6EF9A3A7B70711F62150193D3AF8A3</text>\n",
       "</g>\n",
       "<!-- 5901C0CF660E8F74FE575C9DB83A6B9E&#45;&gt;5D6EF9A3A7B70711F62150193D3AF8A3 -->\n",
       "<g id=\"edge1\" class=\"edge\">\n",
       "<title>5901C0CF660E8F74FE575C9DB83A6B9E&#45;&gt;5D6EF9A3A7B70711F62150193D3AF8A3</title>\n",
       "<path fill=\"none\" stroke=\"black\" d=\"M169.24,-49.74C177.72,-48.19 186.37,-46.62 194.94,-45.05\"/>\n",
       "<polygon fill=\"black\" stroke=\"black\" points=\"195.74,-48.46 204.95,-43.23 194.49,-41.58 195.74,-48.46\"/>\n",
       "</g>\n",
       "<!-- F82256A77A02BC68BB45CA180847DE4B -->\n",
       "<g id=\"node3\" class=\"node\">\n",
       "<title>F82256A77A02BC68BB45CA180847DE4B</title>\n",
       "<path fill=\"#dedede\" stroke=\"#dedede\" d=\"M362,-130C362,-130 217,-130 217,-130 211,-130 205,-124 205,-118 205,-118 205,-86 205,-86 205,-80 211,-74 217,-74 217,-74 362,-74 362,-74 368,-74 374,-80 374,-86 374,-86 374,-118 374,-118 374,-124 368,-130 362,-130\"/>\n",
       "<text text-anchor=\"start\" x=\"236\" y=\"-113.2\" font-family=\"Helvetica,Arial,sans-serif\" font-size=\"11.00\">user_has_great_credit</text>\n",
       "<text text-anchor=\"start\" x=\"266\" y=\"-98.4\" font-family=\"Helvetica,Arial,sans-serif\" font-size=\"7.00\">Transformation</text>\n",
       "<text text-anchor=\"start\" x=\"217.5\" y=\"-84.4\" font-family=\"Courier New\" font-size=\"7.00\">F82256A77A02BC68BB45CA180847DE4B</text>\n",
       "</g>\n",
       "<!-- 5901C0CF660E8F74FE575C9DB83A6B9E&#45;&gt;F82256A77A02BC68BB45CA180847DE4B -->\n",
       "<g id=\"edge2\" class=\"edge\">\n",
       "<title>5901C0CF660E8F74FE575C9DB83A6B9E&#45;&gt;F82256A77A02BC68BB45CA180847DE4B</title>\n",
       "<path fill=\"none\" stroke=\"black\" d=\"M169.24,-80.26C177.72,-81.81 186.37,-83.38 194.94,-84.95\"/>\n",
       "<polygon fill=\"black\" stroke=\"black\" points=\"194.49,-88.42 204.95,-86.77 195.74,-81.54 194.49,-88.42\"/>\n",
       "</g>\n",
       "<!-- 35EB42B64BD3B623725B3B9ACF397B89 -->\n",
       "<g id=\"node4\" class=\"node\">\n",
       "<title>35EB42B64BD3B623725B3B9ACF397B89</title>\n",
       "<path fill=\"#dedede\" stroke=\"#dedede\" d=\"M567,-112C567,-112 422,-112 422,-112 416,-112 410,-106 410,-100 410,-100 410,-68 410,-68 410,-62 416,-56 422,-56 422,-56 567,-56 567,-56 573,-56 579,-62 579,-68 579,-68 579,-100 579,-100 579,-106 573,-112 567,-112\"/>\n",
       "<text text-anchor=\"start\" x=\"433\" y=\"-95.2\" font-family=\"Helvetica,Arial,sans-serif\" font-size=\"11.00\">bike_cycle_feature_group</text>\n",
       "<text text-anchor=\"start\" x=\"472\" y=\"-80.4\" font-family=\"Helvetica,Arial,sans-serif\" font-size=\"7.00\">Feature Group</text>\n",
       "<text text-anchor=\"start\" x=\"422.5\" y=\"-66.4\" font-family=\"Courier New\" font-size=\"7.00\">35EB42B64BD3B623725B3B9ACF397B89</text>\n",
       "</g>\n",
       "<!-- 5D6EF9A3A7B70711F62150193D3AF8A3&#45;&gt;35EB42B64BD3B623725B3B9ACF397B89 -->\n",
       "<g id=\"edge3\" class=\"edge\">\n",
       "<title>5D6EF9A3A7B70711F62150193D3AF8A3&#45;&gt;35EB42B64BD3B623725B3B9ACF397B89</title>\n",
       "<path fill=\"none\" stroke=\"black\" d=\"M374.24,-51.1C382.81,-53.46 391.55,-55.88 400.22,-58.27\"/>\n",
       "<polygon fill=\"black\" stroke=\"black\" points=\"399.38,-61.67 409.95,-60.95 401.24,-54.92 399.38,-61.67\"/>\n",
       "</g>\n",
       "<!-- 5C6CF2B4777572F674343F9734E67673 -->\n",
       "<g id=\"node5\" class=\"node\">\n",
       "<title>5C6CF2B4777572F674343F9734E67673</title>\n",
       "<path fill=\"#dedede\" stroke=\"#dedede\" d=\"M772,-84C772,-84 627,-84 627,-84 621,-84 615,-78 615,-72 615,-72 615,-40 615,-40 615,-34 621,-28 627,-28 627,-28 772,-28 772,-28 778,-28 784,-34 784,-40 784,-40 784,-72 784,-72 784,-78 778,-84 772,-84\"/>\n",
       "<text text-anchor=\"start\" x=\"669.5\" y=\"-67.2\" font-family=\"Helvetica,Arial,sans-serif\" font-size=\"11.00\">bike_dataset</text>\n",
       "<text text-anchor=\"start\" x=\"687.5\" y=\"-52.4\" font-family=\"Helvetica,Arial,sans-serif\" font-size=\"7.00\">Dataset</text>\n",
       "<text text-anchor=\"start\" x=\"627.5\" y=\"-38.4\" font-family=\"Courier New\" font-size=\"7.00\">5C6CF2B4777572F674343F9734E67673</text>\n",
       "</g>\n",
       "<!-- 5D6EF9A3A7B70711F62150193D3AF8A3&#45;&gt;5C6CF2B4777572F674343F9734E67673 -->\n",
       "<g id=\"edge5\" class=\"edge\">\n",
       "<title>5D6EF9A3A7B70711F62150193D3AF8A3&#45;&gt;5C6CF2B4777572F674343F9734E67673</title>\n",
       "<path fill=\"none\" stroke=\"black\" d=\"M374.15,-33.3C431.75,-37 510.03,-42.13 579,-47 587.35,-47.59 596.03,-48.22 604.73,-48.85\"/>\n",
       "<polygon fill=\"black\" stroke=\"black\" points=\"604.7,-52.36 614.93,-49.61 605.22,-45.38 604.7,-52.36\"/>\n",
       "</g>\n",
       "<!-- F82256A77A02BC68BB45CA180847DE4B&#45;&gt;35EB42B64BD3B623725B3B9ACF397B89 -->\n",
       "<g id=\"edge4\" class=\"edge\">\n",
       "<title>F82256A77A02BC68BB45CA180847DE4B&#45;&gt;35EB42B64BD3B623725B3B9ACF397B89</title>\n",
       "<path fill=\"none\" stroke=\"black\" d=\"M374.24,-94.57C382.72,-93.82 391.37,-93.06 399.94,-92.3\"/>\n",
       "<polygon fill=\"black\" stroke=\"black\" points=\"400.3,-95.78 409.95,-91.41 399.68,-88.81 400.3,-95.78\"/>\n",
       "</g>\n",
       "<!-- 35EB42B64BD3B623725B3B9ACF397B89&#45;&gt;5C6CF2B4777572F674343F9734E67673 -->\n",
       "<g id=\"edge6\" class=\"edge\">\n",
       "<title>35EB42B64BD3B623725B3B9ACF397B89&#45;&gt;5C6CF2B4777572F674343F9734E67673</title>\n",
       "<path fill=\"none\" stroke=\"black\" d=\"M579.24,-72.45C587.72,-71.28 596.37,-70.09 604.94,-68.9\"/>\n",
       "<polygon fill=\"black\" stroke=\"black\" points=\"605.52,-72.36 614.95,-67.52 604.57,-65.42 605.52,-72.36\"/>\n",
       "</g>\n",
       "</g>\n",
       "</svg>\n"
      ],
      "text/plain": [
       "<graphviz.graphs.Digraph at 0x131342fb0>"
      ]
     },
     "metadata": {},
     "output_type": "display_data"
    }
   ],
   "source": [
    "dataset_resource.show()"
   ]
  },
  {
   "cell_type": "code",
   "execution_count": null,
   "metadata": {},
   "outputs": [],
   "source": []
  }
 ],
 "metadata": {
  "kernelspec": {
   "display_name": "Python 3 (ipykernel)",
   "language": "python",
   "name": "python3"
  },
  "language_info": {
   "codemirror_mode": {
    "name": "ipython",
    "version": 3
   },
   "file_extension": ".py",
   "mimetype": "text/x-python",
   "name": "python",
   "nbconvert_exporter": "python",
   "pygments_lexer": "ipython3",
   "version": "3.10.10"
  }
 },
 "nbformat": 4,
 "nbformat_minor": 1
}
